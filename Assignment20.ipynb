{
  "nbformat": 4,
  "nbformat_minor": 0,
  "metadata": {
    "colab": {
      "provenance": [],
      "include_colab_link": true
    },
    "kernelspec": {
      "name": "python3",
      "display_name": "Python 3"
    },
    "language_info": {
      "name": "python"
    }
  },
  "cells": [
    {
      "cell_type": "markdown",
      "metadata": {
        "id": "view-in-github",
        "colab_type": "text"
      },
      "source": [
        "<a href=\"https://colab.research.google.com/github/liligunderson/CSC221_lgund001/blob/main/Assignment20.ipynb\" target=\"_parent\"><img src=\"https://colab.research.google.com/assets/colab-badge.svg\" alt=\"Open In Colab\"/></a>"
      ]
    },
    {
      "cell_type": "markdown",
      "source": [
        "# Assignment 20\n",
        "## CSC 221\n",
        "- PLEASE INSERT YOUR NAME HERE!\n",
        "\n",
        "Lilian Gunderson\n",
        "\n",
        "### Instructions:\n",
        "Fill in each code cell below the question. We are following along in Chapter 4 of Python Distilled."
      ],
      "metadata": {
        "id": "IAOUzGWE1eDx"
      }
    },
    {
      "cell_type": "code",
      "execution_count": null,
      "metadata": {
        "id": "Gnj3su7i5-lx",
        "colab": {
          "base_uri": "https://localhost:8080/"
        },
        "outputId": "40bf34bf-2970-4d26-f986-6806fd060e17"
      },
      "outputs": [
        {
          "output_type": "stream",
          "name": "stdout",
          "text": [
            "19\n",
            "44.5\n",
            "asdfg13\n"
          ]
        }
      ],
      "source": [
        "# 4.1 Essential Concepts\n",
        "\n",
        "# When we write \"a + b\" in Python, the interpreter tries to execute a.__add__(b)\n",
        "\n",
        "# Show that this is true by trying the following:\n",
        "a = 6\n",
        "b = 31.5\n",
        "c = 'asdfg'\n",
        "a1 = a.__add__(13)\n",
        "b1 = b.__add__(13)\n",
        "c1 = c.__add__('13')\n",
        "print(a1)\n",
        "print(b1)\n",
        "print(c1)\n",
        "\n",
        "# What are the types of a, b, and c?\n",
        "#a is an integer\n",
        "#b is a float\n",
        "#c is a string\n",
        "\n",
        "# Explain the results\n",
        "#the first result is 19 because it is printing a1 which a is 6 and a1 is adding 13 to 6 which results in 19\n",
        "#the second result is 44.5 because it is printing b1 which b is 31.5 and b1 is adding 13 to 31.5 which results in 44.5\n",
        "#the third result is asdfg13 because it is printing c1 which c is a string 'asdfg' abd c1 is adding the string '13'\n",
        "#to the end of the string 'asdfg' which results in asdfg13\n"
      ]
    },
    {
      "cell_type": "code",
      "source": [
        "# 4.2 through 4.4 will be covered in the next assignment\n"
      ],
      "metadata": {
        "id": "w2uYd3DO2do6"
      },
      "execution_count": null,
      "outputs": []
    },
    {
      "cell_type": "code",
      "source": [
        "# 4.5 str and repr\n",
        "# How many categories of printing are shown below for a datetime object?\n",
        "#there are 8 different categories and each other shows a different way\n",
        "#of printing a datetime object\n",
        "# What in the Python code makes each one get called?\n",
        "#The print statement makes each one get called\n",
        "#The first one prints d by calling the __string__ method\n",
        "#The second one also prints d by calling the __string__ method but is formatted using the f string\n",
        "#the third one is also formatted but this time it requests the __string__ method using !s\n",
        "#the fourth one is also formatted but this time it calls the __repr__ method using !r\n",
        "#the fifth one uses the str() function to call the __string__ method\n",
        "#the sixth one uses the repr() function to call the __repr__ method\n",
        "#the seventh one explicitly calls the __str__ method for d\n",
        "#the eigth one explicitly calls the __repr__ method for d\n",
        "from datetime import date\n",
        "d = date(2023, 11, 7)\n",
        "\n",
        "#print(d)\n",
        "#print(f'{d}')\n",
        "#print(f'{d!s}')\n",
        "#print(f'{d!r}')\n",
        "#print(str(d))\n",
        "#print(repr(d))\n",
        "#print(d.__str__())\n",
        "#print(d.__repr__())\n"
      ],
      "metadata": {
        "id": "Aa3ylzmV2wNF"
      },
      "execution_count": null,
      "outputs": []
    },
    {
      "cell_type": "code",
      "source": [
        "# 4.6 First-Class Objects\n",
        "# What is the significance of all objects being \"first-class\" in Python?\n",
        "#The significance of all objects being \"first-class\" in Python is\n",
        "#that each object can be assigned to a name and treated both as data\n",
        "#and as an object. This means that objects can be stored as variables,\n",
        "#passed as arguments to functions, returned from functions,\n",
        "#compared against other objects, and more.\n",
        "#this flexibility allows for a seamless integration of objects into\n",
        "#various aspects of the language\n",
        "# Explain by typing in the code to create and use the 'items' dictionary shown in section 4.6.\n",
        "\n",
        "items = {}\n",
        "\n",
        "items['func'] = abs\n",
        "import math\n",
        "items['mod'] = math\n",
        "items['error'] = ValueError\n",
        "nums = [1,2,3,4]\n",
        "items['append'] = nums.append\n",
        "\n",
        "result_abs = items['func'](-21)\n",
        "print(result_abs)\n",
        "\n",
        "result_sqrt = items['mod'].sqrt(64)\n",
        "print(result_sqrt)\n",
        "\n",
        "try:\n",
        "    raise items['error'](\"There is an error with the file\")\n",
        "except ValueError:\n",
        "    print(ValueError)\n",
        "\n",
        "items['append'](24)\n",
        "print(nums)\n",
        "\n",
        "# Explain each of the lines starting with '>>>' in the section.\n",
        "#items['func'](-45) this calls the function abs() that's in the 'func' key in the items dictionary\n",
        "#abs function returns the absolute value of a number so it will return 45\n",
        "#items['mod'].sqrt(4) this goes to the 'mod' key in the items dictionary which has\n",
        "#the math module in it and then it returns the sqaure root of 4\n",
        "#try:\n",
        "#   x = int('a lot')\n",
        "# except items['error'] as e:\n",
        "#   print(\"Couldn't convert\")\n",
        "#this tries to convert the string 'a lot' to an integer by using the int function\n",
        "#it is placed in a try-except block and will catch an exception defined by items['error']\n",
        "#the error here is a ValueError\n",
        "#items['append'](100)\n",
        "#nums #this adds the value 100 to the end of the list nums by using append\n",
        "#line = 'ACME,100,490.10'\n",
        "#column_types = [str, int, float]\n",
        "#parts = line.split(',')\n",
        "#row = [ty(val) for ty, val in zip(column_types, parts)]\n",
        "#row\n",
        "#this code is taking a string of values and splits them and then converts each one\n",
        "#into a specific data type and creates a row"
      ],
      "metadata": {
        "id": "9LRpP06Vsw6n",
        "colab": {
          "base_uri": "https://localhost:8080/"
        },
        "outputId": "52c6586d-09da-4f6d-f7a3-4ffc6ac43e53"
      },
      "execution_count": null,
      "outputs": [
        {
          "output_type": "stream",
          "name": "stdout",
          "text": [
            "21\n",
            "8.0\n",
            "<class 'ValueError'>\n",
            "[1, 2, 3, 4, 5]\n"
          ]
        }
      ]
    },
    {
      "cell_type": "code",
      "source": [
        "# 4.7 Using None\n",
        "# Write a function that takes two parameters and returns their sum if they are\n",
        "#  integers or returns None if either one is not.\n",
        "\n",
        "# Put in some test code to show that your function works\n",
        "\n",
        "# INSERT YOUR CODE HERE\n",
        "\n",
        "def sum_integers(x, y):\n",
        "    if type(x) == int and type(y) == int:\n",
        "        return x + y\n",
        "    else:\n",
        "        return None\n",
        "\n",
        "result1 = sum_integers(3, 4)\n",
        "print(result1)\n",
        "\n",
        "result2 = sum_integers(5, \"testing\")\n",
        "print(result2)\n",
        "\n",
        "result3 = sum_integers(\"test2\", 2)\n",
        "print(result3)\n",
        "\n",
        "result4 = sum_integers(\"pizza\", \"house\")\n",
        "print(result4)\n",
        "\n"
      ],
      "metadata": {
        "id": "dUhRWGnCtewU",
        "colab": {
          "base_uri": "https://localhost:8080/"
        },
        "outputId": "472051c4-c210-4d7d-9ef0-771380f44fe0"
      },
      "execution_count": null,
      "outputs": [
        {
          "output_type": "stream",
          "name": "stdout",
          "text": [
            "7\n",
            "None\n",
            "None\n",
            "None\n"
          ]
        }
      ]
    },
    {
      "cell_type": "code",
      "source": [
        "# 4.9 Object Protocol\n",
        "# Create a simple object that has methods for:\n",
        "#  __new__\n",
        "#  __init__\n",
        "#  __del__\n",
        "#  __repr__\n",
        "#  __str__\n",
        "\n",
        "# Put in some test code to show how and when each of these 'magic' functions gets called.\n",
        "\n",
        "# INSERT YOUR CODE HERE\n",
        "\n",
        "class SimpleObject:\n",
        "    def __new__(my_class):\n",
        "        print(\"creating a new instance using the __new__ method\")\n",
        "        instance = super(SimpleObject, my_class).__new__(my_class)\n",
        "        return instance\n",
        "\n",
        "    def __init__(self):\n",
        "        print(\"__init__ method is being called\")\n",
        "\n",
        "    def __del__(self):\n",
        "        print(\"deleting the instance using the __del__ method\")\n",
        "\n",
        "    def __repr__(self):\n",
        "        return \"calling the __repr__ method\"\n",
        "\n",
        "    def __str__(self):\n",
        "        return \"calling the __str__ method\"\n",
        "\n",
        "obj = SimpleObject()\n",
        "print(repr(obj))\n",
        "print(str(obj))\n",
        "del obj\n"
      ],
      "metadata": {
        "id": "4M-CQevEt2xQ"
      },
      "execution_count": null,
      "outputs": []
    }
  ]
}