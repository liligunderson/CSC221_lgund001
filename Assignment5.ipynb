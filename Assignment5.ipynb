{
  "nbformat": 4,
  "nbformat_minor": 0,
  "metadata": {
    "colab": {
      "provenance": [],
      "authorship_tag": "ABX9TyOSbzuT/EozsW/7m94wetM9",
      "include_colab_link": true
    },
    "kernelspec": {
      "name": "python3",
      "display_name": "Python 3"
    },
    "language_info": {
      "name": "python"
    }
  },
  "cells": [
    {
      "cell_type": "markdown",
      "metadata": {
        "id": "view-in-github",
        "colab_type": "text"
      },
      "source": [
        "<a href=\"https://colab.research.google.com/github/liligunderson/CSC221_lgund001/blob/main/Assignment5.ipynb\" target=\"_parent\"><img src=\"https://colab.research.google.com/assets/colab-badge.svg\" alt=\"Open In Colab\"/></a>"
      ]
    },
    {
      "cell_type": "code",
      "execution_count": null,
      "metadata": {
        "colab": {
          "base_uri": "https://localhost:8080/"
        },
        "id": "IKl2WaBAN-We",
        "outputId": "a1439bb8-f6f5-45a9-a8e6-8a1be2ad94bd"
      },
      "outputs": [
        {
          "output_type": "stream",
          "name": "stdout",
          "text": [
            "alice\n",
            "david\n",
            "carolina\n",
            "Alice, that was a great trick!\n",
            "I can't wait to see your next trick, Alice.\n",
            "\n",
            "David, that was a great trick!\n",
            "I can't wait to see your next trick, David.\n",
            "\n",
            "Carolina, that was a great trick!\n",
            "I can't wait to see your next trick, Carolina.\n",
            "\n",
            "Thank you, everyone. That was a great magic show!\n"
          ]
        }
      ],
      "source": [
        "magicians = ['alice', 'david', 'carolina']\n",
        "for magician in magicians:\n",
        "  print(magician)\n",
        "for magician in magicians:\n",
        "  print(f\"{magician.title()}, that was a great trick!\")\n",
        "  print(f\"I can't wait to see your next trick, {magician.title()}.\\n\")\n",
        "print(\"Thank you, everyone. That was a great magic show!\")"
      ]
    },
    {
      "cell_type": "code",
      "source": [
        "message = \"Hello Python world!\"\n",
        "print(message)"
      ],
      "metadata": {
        "colab": {
          "base_uri": "https://localhost:8080/"
        },
        "id": "VvWtCFv0TVJ-",
        "outputId": "05060dcc-c54d-4282-c00a-aa6bf2265dd8"
      },
      "execution_count": null,
      "outputs": [
        {
          "output_type": "stream",
          "name": "stdout",
          "text": [
            "Hello Python world!\n"
          ]
        }
      ]
    },
    {
      "cell_type": "code",
      "source": [
        "pizzas = ['cheese', 'margarita', 'artichoke']\n",
        "for pizza in pizzas:\n",
        "  print(pizza)\n",
        "for pizza in pizzas:\n",
        "  print(f\"I love {pizza} pizza.\")\n",
        "print(\"Pizza is so great!\")"
      ],
      "metadata": {
        "colab": {
          "base_uri": "https://localhost:8080/"
        },
        "id": "MfhxIZgVTw-p",
        "outputId": "7fed2f47-6852-471c-8790-97869d6bcf47"
      },
      "execution_count": null,
      "outputs": [
        {
          "output_type": "stream",
          "name": "stdout",
          "text": [
            "cheese\n",
            "margarita\n",
            "artichoke\n",
            "I love cheese pizza.\n",
            "I love margarita pizza.\n",
            "I love artichoke pizza.\n",
            "Pizza is so great!\n"
          ]
        }
      ]
    },
    {
      "cell_type": "code",
      "source": [
        "animals = ['cat', 'gerbil', 'bunny']\n",
        "for animal in animals:\n",
        "  print(animal)\n",
        "for animal in animals:\n",
        "  print(f\"a {animal} would be a great pet!\")\n",
        "print(\"All of these animals would make a great pet!\")"
      ],
      "metadata": {
        "colab": {
          "base_uri": "https://localhost:8080/"
        },
        "id": "D3ItkKaGU0hb",
        "outputId": "635626cb-47a5-47d9-a480-120cd261dcd8"
      },
      "execution_count": null,
      "outputs": [
        {
          "output_type": "stream",
          "name": "stdout",
          "text": [
            "cat\n",
            "gerbil\n",
            "bunny\n",
            "a cat would be a great pet!\n",
            "a gerbil would be a great pet!\n",
            "a bunny would be a great pet!\n",
            "All of these animals would make a great pet!\n"
          ]
        }
      ]
    },
    {
      "cell_type": "code",
      "source": [
        "for value in range(1, 5):\n",
        "  print(value)\n",
        "for value in range(1, 6):\n",
        "  print(value)\n",
        "numbers = list(range(1, 6))\n",
        "print(numbers)\n",
        "even_numbers = list(range(2, 11, 2))\n",
        "print(even_numbers)\n",
        "squares = []\n",
        "for value in range(1,11):\n",
        "  square = value**2\n",
        "  squares.append(square)\n",
        "print(squares)\n",
        "squares = []\n",
        "for value in range(1,11):\n",
        "  squares.append(value**2)\n",
        "print(squares)"
      ],
      "metadata": {
        "colab": {
          "base_uri": "https://localhost:8080/"
        },
        "id": "D4lbjAyAVkVa",
        "outputId": "716e76c0-62f8-45f2-b036-f36446b1bc96"
      },
      "execution_count": null,
      "outputs": [
        {
          "output_type": "stream",
          "name": "stdout",
          "text": [
            "1\n",
            "2\n",
            "3\n",
            "4\n",
            "1\n",
            "2\n",
            "3\n",
            "4\n",
            "5\n",
            "[1, 2, 3, 4, 5]\n",
            "[2, 4, 6, 8, 10]\n",
            "[1, 4, 9, 16, 25, 36, 49, 64, 81, 100]\n",
            "[1, 4, 9, 16, 25, 36, 49, 64, 81, 100]\n"
          ]
        }
      ]
    },
    {
      "cell_type": "code",
      "source": [
        "digits = [1, 2, 3, 4, 5, 6, 7, 8, 9, 0]\n",
        "min(digits)\n",
        "max(digits)\n",
        "sum(digits)\n",
        "squares = [value**2 for value in range(1, 11)]\n",
        "print(squares)"
      ],
      "metadata": {
        "colab": {
          "base_uri": "https://localhost:8080/"
        },
        "id": "y67VRCnMdzei",
        "outputId": "9c401dc7-83df-40c8-be9d-f595d8ca0eaa"
      },
      "execution_count": null,
      "outputs": [
        {
          "output_type": "stream",
          "name": "stdout",
          "text": [
            "[1, 4, 9, 16, 25, 36, 49, 64, 81, 100]\n"
          ]
        }
      ]
    },
    {
      "cell_type": "code",
      "source": [
        "for value in range(1, 21):\n",
        "  print(value)\n",
        "numbers = list(range(1, 1000001))\n",
        "#for value in range(1, 1000001):\n",
        "  #print(value) way too long and to have in this colab\n",
        "numbers = list(range(1, 1000001))\n",
        "min(numbers)\n",
        "max(numbers)\n",
        "sum(numbers)\n",
        "odd_numbers = list(range(1, 21, 2))\n",
        "for value in range(1, 21, 2):\n",
        "  print(value)\n",
        "for values in range(3, 31, 3): #multiples of 3\n",
        "  print(values)\n",
        "cubes = [value**3 for value in range(1, 11)] #this is both 4.8 and 4.9 (list comprehension)\n",
        "print(cubes)"
      ],
      "metadata": {
        "colab": {
          "base_uri": "https://localhost:8080/"
        },
        "id": "qPrl7MHPe-5x",
        "outputId": "34d0c6ca-929c-4e0f-b901-8865ea83cfc8"
      },
      "execution_count": null,
      "outputs": [
        {
          "output_type": "stream",
          "name": "stdout",
          "text": [
            "1\n",
            "2\n",
            "3\n",
            "4\n",
            "5\n",
            "6\n",
            "7\n",
            "8\n",
            "9\n",
            "10\n",
            "11\n",
            "12\n",
            "13\n",
            "14\n",
            "15\n",
            "16\n",
            "17\n",
            "18\n",
            "19\n",
            "20\n",
            "1\n",
            "3\n",
            "5\n",
            "7\n",
            "9\n",
            "11\n",
            "13\n",
            "15\n",
            "17\n",
            "19\n",
            "3\n",
            "6\n",
            "9\n",
            "12\n",
            "15\n",
            "18\n",
            "21\n",
            "24\n",
            "27\n",
            "30\n",
            "[1, 8, 27, 64, 125, 216, 343, 512, 729, 1000]\n"
          ]
        }
      ]
    },
    {
      "cell_type": "code",
      "source": [
        "players = ['charles', 'martina', 'michael', 'florence', 'eli']\n",
        "print(players[0:3])\n",
        "print(players[1:4])\n",
        "print(players[:4])\n",
        "print(players[2:])\n",
        "print(players[-3:])\n",
        "print(\"Here are the first three players on my team:\")\n",
        "for player in players[:3]:\n",
        "  print(player.title())"
      ],
      "metadata": {
        "colab": {
          "base_uri": "https://localhost:8080/"
        },
        "id": "-kA69wrZn10h",
        "outputId": "6bf9de93-f7f1-4ff1-a902-21f7350ed78b"
      },
      "execution_count": null,
      "outputs": [
        {
          "output_type": "stream",
          "name": "stdout",
          "text": [
            "['charles', 'martina', 'michael']\n",
            "['martina', 'michael', 'florence']\n",
            "['charles', 'martina', 'michael', 'florence']\n",
            "['michael', 'florence', 'eli']\n",
            "['michael', 'florence', 'eli']\n",
            "Here are the first three players on my team:\n",
            "Charles\n",
            "Martina\n",
            "Michael\n"
          ]
        }
      ]
    },
    {
      "cell_type": "code",
      "source": [
        "my_foods = ['pizza', 'falafel', 'carrot cake']\n",
        "friend_foods = my_foods[:]\n",
        "\n",
        "my_foods.append('cannoli')\n",
        "friend_foods.append('ice cream')\n",
        "\n",
        "print(\"My favorite foods are:\")\n",
        "print(my_foods)\n",
        "\n",
        "print(\"\\nMy friend's favorite foods are:\")\n",
        "print(friend_foods)"
      ],
      "metadata": {
        "colab": {
          "base_uri": "https://localhost:8080/"
        },
        "id": "QFMQshfsBJRI",
        "outputId": "6fee18b1-6e4a-4926-ccbb-c9950db70606"
      },
      "execution_count": null,
      "outputs": [
        {
          "output_type": "stream",
          "name": "stdout",
          "text": [
            "My favorite foods are:\n",
            "['pizza', 'falafel', 'carrot cake', 'cannoli']\n",
            "\n",
            "My friend's favorite foods are:\n",
            "['pizza', 'falafel', 'carrot cake', 'ice cream']\n"
          ]
        }
      ]
    },
    {
      "cell_type": "code",
      "source": [
        "my_foods = ['pizza', 'falafel', 'carrot cake', 'ice cream', 'mango']\n",
        "print(f\"The first three items in the list are: {my_foods [0:3]}\")\n",
        "print(f\"Three items from the middle of the list are: {my_foods [1:4]}\")\n",
        "print(f\"The last three items in the list are: {my_foods [-3:]}\")"
      ],
      "metadata": {
        "colab": {
          "base_uri": "https://localhost:8080/"
        },
        "id": "50vEZ7yjDzR1",
        "outputId": "95a2d22a-c7ee-494d-8ea0-f6e1fc593d8d"
      },
      "execution_count": null,
      "outputs": [
        {
          "output_type": "stream",
          "name": "stdout",
          "text": [
            "The first three items in the list are: ['pizza', 'falafel', 'carrot cake']\n",
            "Three items from the middle of the list are: ['falafel', 'carrot cake', 'ice cream']\n",
            "The last three items in the list are: ['carrot cake', 'ice cream', 'mango']\n"
          ]
        }
      ]
    },
    {
      "cell_type": "code",
      "source": [
        "pizzas = ['cheese', 'margarita', 'artichoke']\n",
        "friend_pizzas = pizzas[:]\n",
        "pizzas.append('garlic')\n",
        "print(pizzas)\n",
        "friend_pizzas.append('pineapple')\n",
        "print(friend_pizzas)\n",
        "print(f\"My favorite pizzas are: {pizzas}\")\n",
        "for pizza in friend_pizzas:\n",
        "  print(pizza)"
      ],
      "metadata": {
        "colab": {
          "base_uri": "https://localhost:8080/"
        },
        "id": "sHjZXHilB6Oz",
        "outputId": "718b3edb-72de-4df3-af86-0ee5661796a9"
      },
      "execution_count": null,
      "outputs": [
        {
          "output_type": "stream",
          "name": "stdout",
          "text": [
            "['cheese', 'margarita', 'artichoke', 'garlic']\n",
            "['cheese', 'margarita', 'artichoke', 'pineapple']\n",
            "My favorite pizzas are: ['cheese', 'margarita', 'artichoke', 'garlic']\n",
            "cheese\n",
            "margarita\n",
            "artichoke\n",
            "pineapple\n"
          ]
        }
      ]
    },
    {
      "cell_type": "code",
      "source": [
        "my_foods = ['pizza', 'falafel', 'carrot cake']\n",
        "friend_foods = my_foods[:]\n",
        "for food in my_foods:\n",
        "  print(food)\n",
        "for food in friend_foods:\n",
        "  print(food)"
      ],
      "metadata": {
        "colab": {
          "base_uri": "https://localhost:8080/"
        },
        "id": "1WEA52bBH0RB",
        "outputId": "16503d5c-32bc-4344-97a8-5dec657e9516"
      },
      "execution_count": null,
      "outputs": [
        {
          "output_type": "stream",
          "name": "stdout",
          "text": [
            "pizza\n",
            "falafel\n",
            "carrot cake\n",
            "pizza\n",
            "falafel\n",
            "carrot cake\n"
          ]
        }
      ]
    },
    {
      "cell_type": "code",
      "source": [
        "dimensions = (200, 50)\n",
        "print(dimensions[0])\n",
        "print(dimensions[1])\n",
        "for dimension in dimensions:\n",
        "  print(dimension)\n",
        "print(\"Original dimensions:\")\n",
        "for dimension in dimensions:\n",
        "  print(dimension)\n",
        "\n",
        "dimensions = (400, 100)\n",
        "print(\"\\nModified dimensions: \")\n",
        "for dimension in dimensions:\n",
        "  print(dimension)"
      ],
      "metadata": {
        "colab": {
          "base_uri": "https://localhost:8080/"
        },
        "id": "PvbvVrmMF-8U",
        "outputId": "06bd12e8-24fa-4b49-9ccb-106f788eaaff"
      },
      "execution_count": null,
      "outputs": [
        {
          "output_type": "stream",
          "name": "stdout",
          "text": [
            "200\n",
            "50\n",
            "200\n",
            "50\n",
            "Original dimensions:\n",
            "200\n",
            "50\n",
            "\n",
            "Modified dimensions: \n",
            "400\n",
            "100\n"
          ]
        }
      ]
    },
    {
      "cell_type": "code",
      "source": [
        "buffet_food = ('rice', 'chicken', 'beans', 'shrimp', 'salad')\n",
        "for buffet in buffet_food:\n",
        "  print(buffet)\n",
        "#buffet_food[0] = ('cheese') rejects change bc of tuple\n",
        "buffet_food2 = ('rice', 'pizza', 'noodles', 'shrimp', 'salad')\n",
        "for food in buffet_food2:\n",
        "  print(food)"
      ],
      "metadata": {
        "colab": {
          "base_uri": "https://localhost:8080/"
        },
        "id": "XBdcDKZa4G7Z",
        "outputId": "f5c59272-bbae-4f8b-dff9-144077a18fa1"
      },
      "execution_count": null,
      "outputs": [
        {
          "output_type": "stream",
          "name": "stdout",
          "text": [
            "rice\n",
            "chicken\n",
            "beans\n",
            "shrimp\n",
            "salad\n",
            "rice\n",
            "pizza\n",
            "noodles\n",
            "shrimp\n",
            "salad\n"
          ]
        }
      ]
    },
    {
      "cell_type": "code",
      "source": [
        "#the last try it yourself I don't believe is applicable to google colab but I could be incorrect"
      ],
      "metadata": {
        "id": "rRvQNl-q-FPy"
      },
      "execution_count": null,
      "outputs": []
    },
    {
      "cell_type": "code",
      "source": [
        "#number 3 and 4 that you are having us do for this\n",
        "#colab is not this chapter it is the next chapter so I did not do the extra assignments(bc they are the next chapter).\n",
        "#hopefully you understand and fix this accordingly, I noticed it for the last assignment as well.\n",
        "#your requests are a chapter ahead\n",
        "\n",
        "#here is my attempt\n",
        "def factorial(n):\n",
        "  if n < 0:\n",
        "    return \"no negative numbers\"\n",
        "  elif n == 0:\n",
        "    return 1\n",
        "  else:\n",
        "    my_list = [values*n for n in range(1, n +1)]\n",
        "    product = 1\n",
        "    for list in my_list:\n",
        "      product *= my\n",
        "print(factorial(5))\n",
        "\n",
        "#I had to look up how to do this and I still couldn't quite understand, but this is my attempt\n"
      ],
      "metadata": {
        "id": "o6xW6h96_5gu",
        "colab": {
          "base_uri": "https://localhost:8080/",
          "height": 356
        },
        "outputId": "f7078248-e254-4f9f-a800-a26ee510fa29"
      },
      "execution_count": 6,
      "outputs": [
        {
          "output_type": "error",
          "ename": "NameError",
          "evalue": "ignored",
          "traceback": [
            "\u001b[0;31m---------------------------------------------------------------------------\u001b[0m",
            "\u001b[0;31mNameError\u001b[0m                                 Traceback (most recent call last)",
            "\u001b[0;32m<ipython-input-6-fda144ddae33>\u001b[0m in \u001b[0;36m<cell line: 17>\u001b[0;34m()\u001b[0m\n\u001b[1;32m     15\u001b[0m     \u001b[0;32mfor\u001b[0m \u001b[0mlist\u001b[0m \u001b[0;32min\u001b[0m \u001b[0mmy_list\u001b[0m\u001b[0;34m:\u001b[0m\u001b[0;34m\u001b[0m\u001b[0;34m\u001b[0m\u001b[0m\n\u001b[1;32m     16\u001b[0m       \u001b[0mproduct\u001b[0m \u001b[0;34m*=\u001b[0m \u001b[0mmy\u001b[0m\u001b[0;34m\u001b[0m\u001b[0;34m\u001b[0m\u001b[0m\n\u001b[0;32m---> 17\u001b[0;31m \u001b[0mprint\u001b[0m\u001b[0;34m(\u001b[0m\u001b[0mfactorial\u001b[0m\u001b[0;34m(\u001b[0m\u001b[0;36m5\u001b[0m\u001b[0;34m)\u001b[0m\u001b[0;34m)\u001b[0m\u001b[0;34m\u001b[0m\u001b[0;34m\u001b[0m\u001b[0m\n\u001b[0m",
            "\u001b[0;32m<ipython-input-6-fda144ddae33>\u001b[0m in \u001b[0;36mfactorial\u001b[0;34m(n)\u001b[0m\n\u001b[1;32m     11\u001b[0m     \u001b[0;32mreturn\u001b[0m \u001b[0;36m1\u001b[0m\u001b[0;34m\u001b[0m\u001b[0;34m\u001b[0m\u001b[0m\n\u001b[1;32m     12\u001b[0m   \u001b[0;32melse\u001b[0m\u001b[0;34m:\u001b[0m\u001b[0;34m\u001b[0m\u001b[0;34m\u001b[0m\u001b[0m\n\u001b[0;32m---> 13\u001b[0;31m     \u001b[0mmy_list\u001b[0m \u001b[0;34m=\u001b[0m \u001b[0;34m[\u001b[0m\u001b[0mvalues\u001b[0m\u001b[0;34m*\u001b[0m\u001b[0mn\u001b[0m \u001b[0;32mfor\u001b[0m \u001b[0mn\u001b[0m \u001b[0;32min\u001b[0m \u001b[0mrange\u001b[0m\u001b[0;34m(\u001b[0m\u001b[0;36m1\u001b[0m\u001b[0;34m,\u001b[0m \u001b[0mn\u001b[0m \u001b[0;34m+\u001b[0m\u001b[0;36m1\u001b[0m\u001b[0;34m)\u001b[0m\u001b[0;34m]\u001b[0m\u001b[0;34m\u001b[0m\u001b[0;34m\u001b[0m\u001b[0m\n\u001b[0m\u001b[1;32m     14\u001b[0m     \u001b[0mproduct\u001b[0m \u001b[0;34m=\u001b[0m \u001b[0;36m1\u001b[0m\u001b[0;34m\u001b[0m\u001b[0;34m\u001b[0m\u001b[0m\n\u001b[1;32m     15\u001b[0m     \u001b[0;32mfor\u001b[0m \u001b[0mlist\u001b[0m \u001b[0;32min\u001b[0m \u001b[0mmy_list\u001b[0m\u001b[0;34m:\u001b[0m\u001b[0;34m\u001b[0m\u001b[0;34m\u001b[0m\u001b[0m\n",
            "\u001b[0;32m<ipython-input-6-fda144ddae33>\u001b[0m in \u001b[0;36m<listcomp>\u001b[0;34m(.0)\u001b[0m\n\u001b[1;32m     11\u001b[0m     \u001b[0;32mreturn\u001b[0m \u001b[0;36m1\u001b[0m\u001b[0;34m\u001b[0m\u001b[0;34m\u001b[0m\u001b[0m\n\u001b[1;32m     12\u001b[0m   \u001b[0;32melse\u001b[0m\u001b[0;34m:\u001b[0m\u001b[0;34m\u001b[0m\u001b[0;34m\u001b[0m\u001b[0m\n\u001b[0;32m---> 13\u001b[0;31m     \u001b[0mmy_list\u001b[0m \u001b[0;34m=\u001b[0m \u001b[0;34m[\u001b[0m\u001b[0mvalues\u001b[0m\u001b[0;34m*\u001b[0m\u001b[0mn\u001b[0m \u001b[0;32mfor\u001b[0m \u001b[0mn\u001b[0m \u001b[0;32min\u001b[0m \u001b[0mrange\u001b[0m\u001b[0;34m(\u001b[0m\u001b[0;36m1\u001b[0m\u001b[0;34m,\u001b[0m \u001b[0mn\u001b[0m \u001b[0;34m+\u001b[0m\u001b[0;36m1\u001b[0m\u001b[0;34m)\u001b[0m\u001b[0;34m]\u001b[0m\u001b[0;34m\u001b[0m\u001b[0;34m\u001b[0m\u001b[0m\n\u001b[0m\u001b[1;32m     14\u001b[0m     \u001b[0mproduct\u001b[0m \u001b[0;34m=\u001b[0m \u001b[0;36m1\u001b[0m\u001b[0;34m\u001b[0m\u001b[0;34m\u001b[0m\u001b[0m\n\u001b[1;32m     15\u001b[0m     \u001b[0;32mfor\u001b[0m \u001b[0mlist\u001b[0m \u001b[0;32min\u001b[0m \u001b[0mmy_list\u001b[0m\u001b[0;34m:\u001b[0m\u001b[0;34m\u001b[0m\u001b[0;34m\u001b[0m\u001b[0m\n",
            "\u001b[0;31mNameError\u001b[0m: name 'values' is not defined"
          ]
        }
      ]
    },
    {
      "cell_type": "code",
      "source": [],
      "metadata": {
        "id": "9yNOwv5L5pWJ"
      },
      "execution_count": null,
      "outputs": []
    }
  ]
}