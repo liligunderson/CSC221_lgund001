{
  "nbformat": 4,
  "nbformat_minor": 0,
  "metadata": {
    "colab": {
      "provenance": [],
      "authorship_tag": "ABX9TyPoz1oLLwsGxPHdcbiNLeX5",
      "include_colab_link": true
    },
    "kernelspec": {
      "name": "python3",
      "display_name": "Python 3"
    },
    "language_info": {
      "name": "python"
    }
  },
  "cells": [
    {
      "cell_type": "markdown",
      "metadata": {
        "id": "view-in-github",
        "colab_type": "text"
      },
      "source": [
        "<a href=\"https://colab.research.google.com/github/liligunderson/CSC221_lgund001/blob/main/Assignment12.ipynb\" target=\"_parent\"><img src=\"https://colab.research.google.com/assets/colab-badge.svg\" alt=\"Open In Colab\"/></a>"
      ]
    },
    {
      "cell_type": "markdown",
      "source": [
        "Lilian Gunderson assignment 12"
      ],
      "metadata": {
        "id": "t3JRRJZkAWHI"
      }
    },
    {
      "cell_type": "code",
      "source": [
        "class Money:\n",
        "    def __init__(self, value):\n",
        "        self.value = value\n",
        "\n",
        "    def __str__(self):\n",
        "        return \"$\" + str(round(self.value, 2)) #two decimal places\n",
        "\n",
        "class Bills(Money):\n",
        "    \"\"\"The Bills class\"\"\"\n",
        "\n",
        "class One(Bills):\n",
        "    def __init__(self):\n",
        "        Money.__init__(self, 1.0)\n",
        "\n",
        "class Five(Bills):\n",
        "    def __init__(self):\n",
        "        Money.__init__(self, 5.0)\n",
        "\n",
        "class Ten(Bills):\n",
        "    def __init__(self):\n",
        "        Money.__init__(self, 10.0)\n",
        "\n",
        "class Twenty(Bills):\n",
        "    def __init__(self):\n",
        "        Money.__init__(self, 20.0)\n",
        "\n",
        "class Coins(Money):\n",
        "  \"\"\"The Coins class\"\"\"\n",
        "\n",
        "class Penny(Coins):\n",
        "    def __init__(self):\n",
        "        Money.__init__(self, 0.01)\n",
        "\n",
        "class Nickel(Coins):\n",
        "    def __init__(self):\n",
        "        Money.__init__(self, 0.05)\n",
        "\n",
        "class Dime(Coins):\n",
        "    def __init__(self):\n",
        "        Money.__init__(self, 0.10)\n",
        "\n",
        "class Quarter(Coins):\n",
        "    def __init__(self):\n",
        "        Money.__init__(self, 0.25)\n",
        "\n",
        "class Wallet:\n",
        "    def __init__(self):\n",
        "        self.money_list = []\n",
        "\n",
        "    def add_money(self, money):\n",
        "        self.money_list.append(money)\n",
        "\n",
        "    def total_value(self):\n",
        "        total = 0\n",
        "        for money in self.money_list:\n",
        "          total += money.value\n",
        "        return total\n",
        "\n",
        "    def __str__(self):\n",
        "      money_str = \"\"\n",
        "      for money in self.money_list:\n",
        "        money_str += str(money) + ', '\n",
        "      money_str = money_str.rstrip(', ')\n",
        "      return \"Wallet contents: [\" + money_str + \"]\"\n",
        "\n",
        "if __name__ == \"__main__\":\n",
        "    wallet = Wallet()\n",
        "    wallet.add_money(One())\n",
        "    wallet.add_money(Five())\n",
        "    wallet.add_money(Penny())\n",
        "    wallet.add_money(Quarter())\n",
        "    wallet.add_money(Twenty())\n",
        "\n",
        "    print(wallet)\n",
        "    total = round(wallet.total_value(), 2) #two decimal places\n",
        "    print(\"Total value in the wallet:\", total)\n"
      ],
      "metadata": {
        "colab": {
          "base_uri": "https://localhost:8080/"
        },
        "id": "IwebITBgESMA",
        "outputId": "4dd4a90e-abd9-457b-f833-3e6359312949"
      },
      "execution_count": 20,
      "outputs": [
        {
          "output_type": "stream",
          "name": "stdout",
          "text": [
            "Wallet contents: [$1.0, $5.0, $0.01, $0.25, $20.0]\n",
            "Total value in the wallet: 26.26\n"
          ]
        }
      ]
    },
    {
      "cell_type": "code",
      "source": [
        "class Animals:\n",
        "    def __init__(self, type, color):\n",
        "        self.type = type\n",
        "        self.color = color\n",
        "\n",
        "    def describe(self):\n",
        "        \"\"\"says what type of animal it is and describes its color\"\"\"\n",
        "\n",
        "class Tiger(Animals):\n",
        "    def __init__(self, type, color):\n",
        "        super().__init__(type, color)\n",
        "\n",
        "    def describe(self):\n",
        "        return f\"The {self.type} has {self.color}.\"\n",
        "\n",
        "class Fox(Animals):\n",
        "    def __init__(self, type, color):\n",
        "        super().__init__(type, color)\n",
        "\n",
        "    def describe(self):\n",
        "        return f\"The {self.type} has {self.color}.\"\n",
        "\n",
        "if __name__ == \"__main__\":\n",
        "    animal1 = Tiger(\"White Tiger\", \"white fur with dark stripes\")\n",
        "    animal2 = Fox(\"Fennec Fox\", \"creamed colored fur and a black-tipped tail\")\n",
        "\n",
        "    print(animal1.describe())\n",
        "    print(animal2.describe())\n",
        "\n",
        "    #I love fennec foxes!!\n"
      ],
      "metadata": {
        "colab": {
          "base_uri": "https://localhost:8080/"
        },
        "id": "vt7DCkiPUoza",
        "outputId": "83a2e161-2c52-40c0-db57-a87b17d52a38"
      },
      "execution_count": 25,
      "outputs": [
        {
          "output_type": "stream",
          "name": "stdout",
          "text": [
            "The White Tiger has white fur with dark stripes.\n",
            "The Fennec Fox has creamed colored fur and a black-tipped tail.\n"
          ]
        }
      ]
    }
  ]
}