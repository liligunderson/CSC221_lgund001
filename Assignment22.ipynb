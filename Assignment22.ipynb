{
  "nbformat": 4,
  "nbformat_minor": 0,
  "metadata": {
    "colab": {
      "provenance": [],
      "authorship_tag": "ABX9TyO0VBGv7qMoeWFfYSXdRVpv",
      "include_colab_link": true
    },
    "kernelspec": {
      "name": "python3",
      "display_name": "Python 3"
    },
    "language_info": {
      "name": "python"
    }
  },
  "cells": [
    {
      "cell_type": "markdown",
      "metadata": {
        "id": "view-in-github",
        "colab_type": "text"
      },
      "source": [
        "<a href=\"https://colab.research.google.com/github/liligunderson/CSC221_lgund001/blob/main/Assignment22.ipynb\" target=\"_parent\"><img src=\"https://colab.research.google.com/assets/colab-badge.svg\" alt=\"Open In Colab\"/></a>"
      ]
    },
    {
      "cell_type": "markdown",
      "source": [
        "Lilian Gunderson.\n",
        "Assignment 22"
      ],
      "metadata": {
        "id": "wjuaRmS61Orz"
      }
    },
    {
      "cell_type": "code",
      "execution_count": null,
      "metadata": {
        "colab": {
          "base_uri": "https://localhost:8080/"
        },
        "id": "LUcHBqo-1EeB",
        "outputId": "0de91803-2d65-4d33-92f2-952936a951db"
      },
      "outputs": [
        {
          "output_type": "stream",
          "name": "stdout",
          "text": [
            "Original Vectors:\n",
            "Vector2D(3, 4)\n",
            "Vector2D(1, 2)\n",
            "Vector2D(5, 1)\n",
            "\n",
            "Sorted Vectors by Length:\n",
            "Vector2D(1, 2)\n",
            "Vector2D(3, 4)\n",
            "Vector2D(5, 1)\n"
          ]
        }
      ],
      "source": [
        "#1 Vector 2D class:\n",
        "\n",
        "import math\n",
        "\n",
        "class Vector2D:\n",
        "    def __init__(self, x, y):\n",
        "        self.x = x\n",
        "        self.y = y\n",
        "\n",
        "    def __str__(self):\n",
        "        return f\"Vector2D({self.x}, {self.y})\"\n",
        "\n",
        "    def __repr__(self):\n",
        "        return str(self)\n",
        "\n",
        "    def length(self):\n",
        "        return math.sqrt(self.x**2 + self.y**2)\n",
        "\n",
        "    def __lt__(self, other):\n",
        "        return self.length() < other.length()\n",
        "\n",
        "#test usage\n",
        "vectors = [Vector2D(3, 4), Vector2D(1, 2), Vector2D(5, 1)]\n",
        "\n",
        "#print original vectors\n",
        "print(\"Original Vectors:\")\n",
        "for vector in vectors:\n",
        "    print(vector)\n",
        "\n",
        "#sort vectors by length\n",
        "sorted_vectors = sorted(vectors)\n",
        "\n",
        "#print sorted vectors\n",
        "print(\"\\nSorted Vectors by Length:\")\n",
        "for vector in sorted_vectors:\n",
        "    print(vector)\n"
      ]
    },
    {
      "cell_type": "code",
      "source": [
        "#2 Euclidean length:\n",
        "\n",
        "import math\n",
        "\n",
        "class Vector2D:\n",
        "    def __init__(self, x, y):\n",
        "        self.x = x\n",
        "        self.y = y\n",
        "\n",
        "    def __str__(self):\n",
        "        return f\"Vector2D({self.x}, {self.y})\"\n",
        "\n",
        "    def __repr__(self):\n",
        "        return str(self)\n",
        "\n",
        "    def length(self):\n",
        "        #Euclidean length (sum of x and y)\n",
        "        return self.x + self.y\n",
        "\n",
        "    def __lt__(self, other):\n",
        "        return self.length() < other.length()\n",
        "\n",
        "vectors = [Vector2D(3, 4), Vector2D(1, 2), Vector2D(5, 1)]\n",
        "\n",
        "#print original vectors\n",
        "print(\"Original Vectors:\")\n",
        "for vector in vectors:\n",
        "    print(vector)\n",
        "\n",
        "#sort vectors by Euclidean length (sum of x and y)\n",
        "sorted_vectors = sorted(vectors)\n",
        "\n",
        "#print sorted vectors\n",
        "print(\"\\nSorted Vectors by Euclidean Length (Sum of x and y):\")\n",
        "for vector in sorted_vectors:\n",
        "    print(vector)\n"
      ],
      "metadata": {
        "colab": {
          "base_uri": "https://localhost:8080/"
        },
        "id": "-Hr7cooY5CH0",
        "outputId": "238c4e7c-51d6-4423-b710-3e4dfc178129"
      },
      "execution_count": null,
      "outputs": [
        {
          "output_type": "stream",
          "name": "stdout",
          "text": [
            "Original Vectors:\n",
            "Vector2D(3, 4)\n",
            "Vector2D(1, 2)\n",
            "Vector2D(5, 1)\n",
            "\n",
            "Sorted Vectors by Euclidean Length (Sum of x and y):\n",
            "Vector2D(1, 2)\n",
            "Vector2D(5, 1)\n",
            "Vector2D(3, 4)\n"
          ]
        }
      ]
    },
    {
      "cell_type": "code",
      "source": [
        "#2 Container Protocol class:\n",
        "\n",
        "class Special:\n",
        "    def __getitem__(self, key):\n",
        "        return len(key)\n",
        "\n",
        "#test code for special class\n",
        "s1 = Special()\n",
        "print(s1[\"ned\"])      #Output: 3\n",
        "print(s1[\"ned2\"])     #Output: 4\n",
        "print(s1[\"ned2\" * 5])  #Output: 20\n"
      ],
      "metadata": {
        "colab": {
          "base_uri": "https://localhost:8080/"
        },
        "id": "EiQKZhWs34pH",
        "outputId": "fc5bb299-1914-4aa2-9862-a5eab030e3e5"
      },
      "execution_count": null,
      "outputs": [
        {
          "output_type": "stream",
          "name": "stdout",
          "text": [
            "3\n",
            "4\n",
            "20\n"
          ]
        }
      ]
    }
  ]
}