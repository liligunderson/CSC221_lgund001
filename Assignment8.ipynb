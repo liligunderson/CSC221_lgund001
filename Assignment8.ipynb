{
  "nbformat": 4,
  "nbformat_minor": 0,
  "metadata": {
    "colab": {
      "provenance": [],
      "authorship_tag": "ABX9TyMh5RsyibGHLevMJPKx7/Cl",
      "include_colab_link": true
    },
    "kernelspec": {
      "name": "python3",
      "display_name": "Python 3"
    },
    "language_info": {
      "name": "python"
    }
  },
  "cells": [
    {
      "cell_type": "markdown",
      "metadata": {
        "id": "view-in-github",
        "colab_type": "text"
      },
      "source": [
        "<a href=\"https://colab.research.google.com/github/liligunderson/CSC221_lgund001/blob/main/Assignment8.ipynb\" target=\"_parent\"><img src=\"https://colab.research.google.com/assets/colab-badge.svg\" alt=\"Open In Colab\"/></a>"
      ]
    },
    {
      "cell_type": "markdown",
      "source": [
        "This was turned in late but was discussed over email.\n",
        "Lili Gunderson, Assignment #8, Chapter 7\n",
        "\n"
      ],
      "metadata": {
        "id": "4iXLCfP5CrRL"
      }
    },
    {
      "cell_type": "code",
      "source": [
        "message = input(\"Tell me something, and I will repeat it back to you: \")\n",
        "print(message)"
      ],
      "metadata": {
        "id": "D_p3XFhpCv-1",
        "colab": {
          "base_uri": "https://localhost:8080/"
        },
        "outputId": "15478910-6d9a-49fc-bc03-3652d290973f"
      },
      "execution_count": null,
      "outputs": [
        {
          "output_type": "stream",
          "name": "stdout",
          "text": [
            "Tell me something, and I will repeat it back to you: Hello everyone!\n",
            "Hello everyone!\n"
          ]
        }
      ]
    },
    {
      "cell_type": "code",
      "source": [
        "name = input(\"Please enter your name: \")\n",
        "print(\"Hello, \" + name + \"!\")"
      ],
      "metadata": {
        "id": "0_LHLyUJE-D7",
        "outputId": "595636e4-12bd-438d-9126-f96d513a58a9",
        "colab": {
          "base_uri": "https://localhost:8080/"
        }
      },
      "execution_count": null,
      "outputs": [
        {
          "output_type": "stream",
          "name": "stdout",
          "text": [
            "Please enter your name: Lili\n",
            "Hello, Lili!\n"
          ]
        }
      ]
    },
    {
      "cell_type": "code",
      "source": [
        "prompt = \"If you tell us who you are, we can personalize the messages you see.\"\n",
        "prompt += \"\\nWhat is your first name?\"\n",
        "\n",
        "name = input(prompt)\n",
        "print(\"\\nHello, \" + name + \"!\")"
      ],
      "metadata": {
        "colab": {
          "base_uri": "https://localhost:8080/"
        },
        "id": "UpGQ5478FtW2",
        "outputId": "9c74a138-7f88-4734-e951-271742652436"
      },
      "execution_count": 5,
      "outputs": [
        {
          "output_type": "stream",
          "name": "stdout",
          "text": [
            "If you tell us who you are, we can personalize the messages you see.\n",
            "What is your first name?Lili\n",
            "\n",
            "Hello, Lili!\n"
          ]
        }
      ]
    },
    {
      "cell_type": "code",
      "source": [
        "age = input(\"How old are you? \")\n",
        "age"
      ],
      "metadata": {
        "colab": {
          "base_uri": "https://localhost:8080/",
          "height": 53
        },
        "id": "_p5FHAS_GVFo",
        "outputId": "e7ed8705-c2d8-4196-c1b7-2afaec77eb59"
      },
      "execution_count": 10,
      "outputs": [
        {
          "name": "stdout",
          "output_type": "stream",
          "text": [
            "How old are you? 21\n"
          ]
        },
        {
          "output_type": "execute_result",
          "data": {
            "text/plain": [
              "'21'"
            ],
            "application/vnd.google.colaboratory.intrinsic+json": {
              "type": "string"
            }
          },
          "metadata": {},
          "execution_count": 10
        }
      ]
    },
    {
      "cell_type": "code",
      "source": [
        "age = input(\"How old are you? \")\n",
        "#age >= 18 gives error bc input is still a string"
      ],
      "metadata": {
        "colab": {
          "base_uri": "https://localhost:8080/"
        },
        "id": "yD8c9tkjGpgO",
        "outputId": "adc9c88d-ac56-426d-dffb-562f56308280"
      },
      "execution_count": 11,
      "outputs": [
        {
          "name": "stdout",
          "output_type": "stream",
          "text": [
            "How old are you?  21\n"
          ]
        }
      ]
    },
    {
      "cell_type": "code",
      "source": [
        "age = input(\"How old are you? \")\n",
        "age = int(age)\n",
        "age >= 18"
      ],
      "metadata": {
        "colab": {
          "base_uri": "https://localhost:8080/"
        },
        "id": "wkfGKQ5zG7N9",
        "outputId": "de70a31a-bd21-40e6-b52f-5645f826dd51"
      },
      "execution_count": 13,
      "outputs": [
        {
          "name": "stdout",
          "output_type": "stream",
          "text": [
            "How old are you? 21\n"
          ]
        },
        {
          "output_type": "execute_result",
          "data": {
            "text/plain": [
              "True"
            ]
          },
          "metadata": {},
          "execution_count": 13
        }
      ]
    },
    {
      "cell_type": "code",
      "source": [
        "height = input(\"How tall are you, in inches? \")\n",
        "height = int(height)\n",
        "\n",
        "if height >= 36:\n",
        "  print(\"\\nYou're tall enough to ride!\")\n",
        "else:\n",
        "  print(\"\\nYou'll be able to ride when you're a little older.\")"
      ],
      "metadata": {
        "colab": {
          "base_uri": "https://localhost:8080/"
        },
        "id": "HlyJsWaTHNko",
        "outputId": "76530474-34b9-47e6-c5ca-b65a735aac46"
      },
      "execution_count": 14,
      "outputs": [
        {
          "output_type": "stream",
          "name": "stdout",
          "text": [
            "How tall are you, in inches? 71\n",
            "\n",
            "You're tall enough to ride!\n"
          ]
        }
      ]
    },
    {
      "cell_type": "code",
      "source": [
        "print(4 % 3)\n",
        "print(5 % 3) #modulo operator tells you what the remainder is"
      ],
      "metadata": {
        "colab": {
          "base_uri": "https://localhost:8080/"
        },
        "id": "C1IiPWSlIEPU",
        "outputId": "39d4d870-3d47-4d8c-f4de-4ca596b0629b"
      },
      "execution_count": 17,
      "outputs": [
        {
          "output_type": "stream",
          "name": "stdout",
          "text": [
            "1\n",
            "2\n"
          ]
        }
      ]
    },
    {
      "cell_type": "code",
      "source": [
        "number = input(\"Enter a number, and I'll tell you if it's even or odd: \")\n",
        "number= int(number)\n",
        "\n",
        "if number % 2 == 0:\n",
        "  print(\"\\nThe number \" + str(number) + \" is even.\")\n",
        "else:\n",
        "  print(\"\\nThe number \" + str(number) + \" is odd.\")\n",
        "\n"
      ],
      "metadata": {
        "colab": {
          "base_uri": "https://localhost:8080/"
        },
        "id": "dV9TJGdQIqJb",
        "outputId": "d2351f1b-848a-40c6-c18c-97e938ccf74f"
      },
      "execution_count": 21,
      "outputs": [
        {
          "output_type": "stream",
          "name": "stdout",
          "text": [
            "Enter a number, and I'll tell you if it's even or odd: 42\n",
            "\n",
            "The number 42 is even.\n"
          ]
        }
      ]
    },
    {
      "cell_type": "code",
      "source": [
        "#TiY 7-1\n",
        "rental_car = input(\"What kind of rental car would you like? \")\n",
        "print(\"Let me see if I can find you a \" + rental_car+\".\")"
      ],
      "metadata": {
        "colab": {
          "base_uri": "https://localhost:8080/"
        },
        "id": "8igaShGTJ3jz",
        "outputId": "5d47df66-bbd9-4e37-95c1-e6cb0fe4d0b2"
      },
      "execution_count": 25,
      "outputs": [
        {
          "output_type": "stream",
          "name": "stdout",
          "text": [
            "What kind of rental car would you like? Lexus\n",
            "Let me see if I can find you a Lexus.\n"
          ]
        }
      ]
    },
    {
      "cell_type": "code",
      "source": [
        "#TiY 7-2\n",
        "people = input(\"How many people are in your group? \")\n",
        "people = int(people)\n",
        "if people > 8:\n",
        "  print(\"\\nYou will have to wait for your table.\")\n",
        "else:\n",
        "  print(\"\\nYour table is ready!\")"
      ],
      "metadata": {
        "colab": {
          "base_uri": "https://localhost:8080/"
        },
        "id": "nZbOpN8TMnJI",
        "outputId": "b59bc841-6e92-48f4-cbd1-cc5e7fd0e822"
      },
      "execution_count": 28,
      "outputs": [
        {
          "output_type": "stream",
          "name": "stdout",
          "text": [
            "How many people are in your group? 5\n",
            "\n",
            "Your table is ready!\n"
          ]
        }
      ]
    },
    {
      "cell_type": "code",
      "source": [
        "#TiY 7-3\n",
        "number = input(\"Enter a number, and I'll tell you if it's a multiple of 10 or not: \")\n",
        "number = int(number)\n",
        "\n",
        "if number % 10 == 0:\n",
        "  print(\"\\nThe number \" + str(number) + \" is a multiple of 10.\")\n",
        "else:\n",
        "  print(\"\\nThe number \" + str(number) + \" is not a multiple of 10.\")"
      ],
      "metadata": {
        "colab": {
          "base_uri": "https://localhost:8080/"
        },
        "id": "u5_c0ONYLr3X",
        "outputId": "4b01a603-a277-49d8-e8b1-306759947289"
      },
      "execution_count": 26,
      "outputs": [
        {
          "output_type": "stream",
          "name": "stdout",
          "text": [
            "Enter a number, and I'll tell you if it's a multiple of 10 or not: 30\n",
            "\n",
            "The number 30 is a multiple of 10.\n"
          ]
        }
      ]
    },
    {
      "cell_type": "code",
      "source": [
        "current_number = 1\n",
        "while current_number <= 5:\n",
        "  print(current_number)\n",
        "  current_number += 1"
      ],
      "metadata": {
        "colab": {
          "base_uri": "https://localhost:8080/"
        },
        "id": "NiqL8TlfOQUt",
        "outputId": "5b3ca3a5-ee47-49eb-9cf0-bd12b5e5c0e0"
      },
      "execution_count": 29,
      "outputs": [
        {
          "output_type": "stream",
          "name": "stdout",
          "text": [
            "1\n",
            "2\n",
            "3\n",
            "4\n",
            "5\n"
          ]
        }
      ]
    },
    {
      "cell_type": "code",
      "source": [
        "prompt = \"\\nTell me something, and I will repeat it back to you:\"\n",
        "prompt+= \"\\nEnter 'quit' to end the program.\"\n",
        "message = \"\"\n",
        "while message != 'quit':\n",
        "  message = input(prompt)\n",
        "\n",
        "  if message != 'quit':\n",
        "    print(message)"
      ],
      "metadata": {
        "colab": {
          "base_uri": "https://localhost:8080/"
        },
        "id": "fIFWbYYYPdMy",
        "outputId": "df572ce5-fb1b-462c-cec2-bdbf0798bf05"
      },
      "execution_count": 31,
      "outputs": [
        {
          "name": "stdout",
          "output_type": "stream",
          "text": [
            "\n",
            "Tell me something, and I will repeat it back to you:\n",
            "Enter 'quit' to end the program.Hello everyone!\n",
            "Hello everyone!\n",
            "\n",
            "Tell me something, and I will repeat it back to you:\n",
            "Enter 'quit' to end the program.Hello again.\n",
            "Hello again.\n",
            "\n",
            "Tell me something, and I will repeat it back to you:\n",
            "Enter 'quit' to end the program.quit\n"
          ]
        }
      ]
    },
    {
      "cell_type": "code",
      "source": [
        "prompt = \"\\nTell me something, and I will repeat it back to you:\"\n",
        "prompt += \"\\nEnter 'quit' to end the program. \"\n",
        "\n",
        "active = True\n",
        "while active:\n",
        "  message = input(prompt)\n",
        "\n",
        "  if message == 'quit':\n",
        "    active = False\n",
        "  else:\n",
        "    print(message)"
      ],
      "metadata": {
        "colab": {
          "base_uri": "https://localhost:8080/"
        },
        "id": "fOqJuC1WqsFb",
        "outputId": "ae1c8951-3b62-4f68-c072-ce9b47db62cf"
      },
      "execution_count": 1,
      "outputs": [
        {
          "name": "stdout",
          "output_type": "stream",
          "text": [
            "\n",
            "Tell me something, and I will repeat it back to you:\n",
            "Enter 'quit' to end the program. hello\n",
            "hello\n",
            "\n",
            "Tell me something, and I will repeat it back to you:\n",
            "Enter 'quit' to end the program. quit\n"
          ]
        }
      ]
    },
    {
      "cell_type": "code",
      "source": [
        "prompt = \"\\nPlease enter the name of a city you have visited:\"\n",
        "prompt += \"\\n(Enter 'quit' when you are finished.) \"\n",
        "\n",
        "while True:\n",
        "  city = input(prompt)\n",
        "  if city == 'quit':\n",
        "    break\n",
        "  else:\n",
        "    print(\"I'd love to go to \" + city.title() + \"!\")"
      ],
      "metadata": {
        "colab": {
          "base_uri": "https://localhost:8080/"
        },
        "id": "KYPu4wOFr0L0",
        "outputId": "c87df783-8caf-4009-ff8a-b817409298d5"
      },
      "execution_count": 2,
      "outputs": [
        {
          "name": "stdout",
          "output_type": "stream",
          "text": [
            "\n",
            "Please enter the name of a city you have visited:\n",
            "(Enter 'quit' when you are finished.) New York\n",
            "I'd love to go to New York!\n",
            "\n",
            "Please enter the name of a city you have visited:\n",
            "(Enter 'quit' when you are finished.) San Francisco\n",
            "I'd love to go to San Francisco!\n",
            "\n",
            "Please enter the name of a city you have visited:\n",
            "(Enter 'quit' when you are finished.) quit\n"
          ]
        }
      ]
    },
    {
      "cell_type": "code",
      "source": [
        "current_number = 0\n",
        "while current_number < 10:\n",
        "  current_number += 1\n",
        "  if current_number % 2 == 0:\n",
        "    continue\n",
        "\n",
        "  print(current_number)"
      ],
      "metadata": {
        "colab": {
          "base_uri": "https://localhost:8080/"
        },
        "id": "kYULNnzXsrjC",
        "outputId": "3407747f-326b-4727-e14f-41bc01933fbb"
      },
      "execution_count": 3,
      "outputs": [
        {
          "output_type": "stream",
          "name": "stdout",
          "text": [
            "1\n",
            "3\n",
            "5\n",
            "7\n",
            "9\n"
          ]
        }
      ]
    },
    {
      "cell_type": "code",
      "source": [
        "x = 1\n",
        "while x <= 5:\n",
        "  print(x)\n",
        "  x += 1\n",
        "\n",
        "# This loop runs forever!\n",
        "x = 1\n",
        "while x <= 5:\n",
        " print(x)"
      ],
      "metadata": {
        "id": "QspWC_eKtUG-"
      },
      "execution_count": null,
      "outputs": []
    },
    {
      "cell_type": "code",
      "source": [
        "#TiY 7-4\n",
        "while True:\n",
        "    topping = input(\"Enter a pizza topping (type 'quit' when done): \")\n",
        "\n",
        "    if topping == 'quit':\n",
        "        print(\"We will make your pizza shortly!\")\n",
        "        break\n",
        "\n",
        "    print(f\"We'll add {topping} to your pizza.\")"
      ],
      "metadata": {
        "colab": {
          "base_uri": "https://localhost:8080/"
        },
        "id": "eQtykYpf0arc",
        "outputId": "5204868a-fdc0-4e56-8f3d-aefeb1b7dbdd"
      },
      "execution_count": 24,
      "outputs": [
        {
          "output_type": "stream",
          "name": "stdout",
          "text": [
            "Enter a pizza topping (type 'quit' when done): black olives\n",
            "We'll add black olives to your pizza.\n",
            "Enter a pizza topping (type 'quit' when done): mushrooms\n",
            "We'll add mushrooms to your pizza.\n",
            "Enter a pizza topping (type 'quit' when done): quit\n",
            "We will make your pizza shortly!\n"
          ]
        }
      ]
    },
    {
      "cell_type": "code",
      "source": [
        "#TiY 7-5\n",
        "\n",
        "loop = True\n",
        "while loop == True:\n",
        "  age = input(\"What is your age? To quit enter 0 :)\")\n",
        "  age = int(age)\n",
        "  if age == 0:\n",
        "    print(\"Thank you for choosing our theater!\")\n",
        "    break\n",
        "  elif age < 3:\n",
        "    print(\"Your ticket is free!\")\n",
        "  elif age > 3 and age < 12:\n",
        "    print(\"Your ticket is $10.\")\n",
        "  else: #if they are over age 12\n",
        "    print(\"Your ticket is $15.\")"
      ],
      "metadata": {
        "colab": {
          "base_uri": "https://localhost:8080/"
        },
        "id": "90r3FKwQt0VV",
        "outputId": "c7060221-e31f-44bc-d737-b19df126108c"
      },
      "execution_count": 12,
      "outputs": [
        {
          "output_type": "stream",
          "name": "stdout",
          "text": [
            "What is your age? To quit enter 0 :)21\n",
            "Your ticket is $15.\n",
            "What is your age? To quit enter 0 :)0\n",
            "Thank you for choosing our theater!\n"
          ]
        }
      ]
    },
    {
      "cell_type": "code",
      "source": [
        "#TiY 7-6\n",
        "#I used a conditional test to stop the loop in 7-5\n",
        "#active variable\n",
        "active = True\n",
        "while active:\n",
        "  age = input(\"What is your age? To quit enter 0 :)\")\n",
        "  age = int(age)\n",
        "  if age == 0:\n",
        "    print(\"Thank you for choosing our theater!\")\n",
        "    break\n",
        "  elif age < 3:\n",
        "    print(\"Your ticket is free!\")\n",
        "  elif age > 3 and age < 12:\n",
        "    print(\"Your ticket is $10.\")\n",
        "  else: #if they are over age 12\n",
        "    print(\"Your ticket is $15.\")\n",
        "  #break statement entering a quit value\n"
      ],
      "metadata": {
        "colab": {
          "base_uri": "https://localhost:8080/"
        },
        "id": "YErckokJw2i0",
        "outputId": "c91c1d1d-1637-4a83-91d3-2bc19f4a0b80"
      },
      "execution_count": 18,
      "outputs": [
        {
          "output_type": "stream",
          "name": "stdout",
          "text": [
            "What is your age? To quit enter 0 :)7\n",
            "Your ticket is $10.\n",
            "What is your age? To quit enter 0 :)0\n",
            "Thank you for choosing our theater!\n"
          ]
        }
      ]
    },
    {
      "cell_type": "code",
      "source": [
        "#TiY 7-6, for 7-4 I used a break statement that exited the loop when the user enters 'quit'\n",
        "while True:\n",
        "    topping = input(\"Enter a pizza topping (type 'quit' when done): \")\n",
        "\n",
        "    if topping == 'quit':\n",
        "        print(\"We will make your pizza shortly!\")\n",
        "        break\n",
        "\n",
        "    print(f\"We'll add {topping} to your pizza.\")"
      ],
      "metadata": {
        "id": "zE9pRUJ73DGs"
      },
      "execution_count": null,
      "outputs": []
    },
    {
      "cell_type": "code",
      "source": [
        "#Start with users that need to be verified,\n",
        "#and an empty list to hold confirmed users.\n",
        "unconfirmed_users = ['alice', 'brian', 'candace']\n",
        "confirmed_users = []\n",
        "\n",
        "# Verify each user until there are no more unconfirmed users.\n",
        "# Move each verified user into the list of confirmed users.\n",
        "while unconfirmed_users:\n",
        "  current_user = unconfirmed_users.pop()\n",
        "\n",
        "  print(\"Verifying user: \" + current_user.title())\n",
        "  confirmed_users.append(current_user)\n",
        "\n",
        "# Display all confirmed users.\n",
        "print(\"\\nThe following users have been confirmed:\")\n",
        "for confirmed_user in confirmed_users:\n",
        "  print(confirmed_user.title())"
      ],
      "metadata": {
        "colab": {
          "base_uri": "https://localhost:8080/"
        },
        "id": "nKD7xGsv4AbX",
        "outputId": "0f844e76-780e-4337-c686-84b89829cc68"
      },
      "execution_count": 25,
      "outputs": [
        {
          "output_type": "stream",
          "name": "stdout",
          "text": [
            "Verifying user: Candace\n",
            "Verifying user: Brian\n",
            "Verifying user: Alice\n",
            "\n",
            "The following users have been confirmed:\n",
            "Candace\n",
            "Brian\n",
            "Alice\n"
          ]
        }
      ]
    },
    {
      "cell_type": "code",
      "source": [
        "pets = ['dog', 'cat', 'dog', 'goldfish', 'cat', 'rabbit', 'cat']\n",
        "print(pets)\n",
        "\n",
        "while 'cat' in pets:\n",
        "  pets.remove('cat')\n",
        "\n",
        "print(pets)"
      ],
      "metadata": {
        "colab": {
          "base_uri": "https://localhost:8080/"
        },
        "id": "VeyS0i5U6CRB",
        "outputId": "f8b7596a-c2c6-4972-cf14-885bd34f0c54"
      },
      "execution_count": 26,
      "outputs": [
        {
          "output_type": "stream",
          "name": "stdout",
          "text": [
            "['dog', 'cat', 'dog', 'goldfish', 'cat', 'rabbit', 'cat']\n",
            "['dog', 'dog', 'goldfish', 'rabbit']\n"
          ]
        }
      ]
    },
    {
      "cell_type": "code",
      "source": [
        "responses = {}\n",
        "\n",
        "# Set a flag to indicate that polling is active.\n",
        "polling_active = True\n",
        "\n",
        "while polling_active:\n",
        "  #prompt for the person's name and response.\n",
        "  name = input(\"\\nWhat is your name? \")\n",
        "  response = input(\"Which mountain would you like to climb someday? \")\n",
        "\n",
        "  #Store the response in the dictionary:\n",
        "  responses[name] = response\n",
        "\n",
        "  #Find out if anyone else is going to take the poll.\n",
        "  repeat = input(\"Would you like to let another person respond? (yes/no) \")\n",
        "  if repeat == 'no':\n",
        "    polling_active = False\n",
        "\n",
        "  #polling is complete. Show the results.\n",
        "print(\"\\n---Poll Results---\")\n",
        "for name, response in responses.items():\n",
        "  print(name + \" would like to climb \" + response + \".\")"
      ],
      "metadata": {
        "colab": {
          "base_uri": "https://localhost:8080/"
        },
        "id": "XnbwqA7j6XZ7",
        "outputId": "38be15c9-5a36-4871-81b0-45cc7c34eafa"
      },
      "execution_count": 29,
      "outputs": [
        {
          "output_type": "stream",
          "name": "stdout",
          "text": [
            "\n",
            "What is your name? Eric\n",
            "Which mountain would you like to climb someday? Denali\n",
            "Would you like to let another person respond? (yes/no) yes\n",
            "\n",
            "What is your name? Lynn\n",
            "Which mountain would you like to climb someday? Devil's Thumb\n",
            "Would you like to let another person respond? (yes/no) no\n",
            "\n",
            "---Poll Results---\n",
            "Eric would like to climb Denali.\n",
            "Lynn would like to climb Devil's Thumb.\n"
          ]
        }
      ]
    },
    {
      "cell_type": "code",
      "source": [
        "#TiY 7-8\n",
        "sandwich_orders = ['reuben', 'blt', 'grilled cheese', 'egg sandwich']\n",
        "finished_sandwiches = []\n",
        "\n",
        "while sandwich_orders:\n",
        "  sandwich = sandwich_orders.pop()\n",
        "\n",
        "  print(f\"I made your {sandwich.capitalize()}.\")\n",
        "  finished_sandwiches.append(sandwich)\n",
        "\n",
        "print(\"\\nThe following sandwiches have been made: \")\n",
        "for sandwiches in finished_sandwiches:\n",
        "  print(sandwiches)"
      ],
      "metadata": {
        "colab": {
          "base_uri": "https://localhost:8080/"
        },
        "id": "gPeZqk2-8Lfu",
        "outputId": "b5588fe9-71f4-4b79-c62c-c1b4d0632200"
      },
      "execution_count": 11,
      "outputs": [
        {
          "output_type": "stream",
          "name": "stdout",
          "text": [
            "I made your Egg sandwich.\n",
            "I made your Grilled cheese.\n",
            "I made your Blt.\n",
            "I made your Reuben.\n",
            "\n",
            "The following sandwiches have been made: \n",
            "egg sandwich\n",
            "grilled cheese\n",
            "blt\n",
            "reuben\n"
          ]
        }
      ]
    },
    {
      "cell_type": "code",
      "source": [
        "total = 0\n",
        "\n",
        "while True:\n",
        "    user_num = input(\"Give me a number [to exit enter 'quit']: \")\n",
        "\n",
        "    if user_num == 'quit':\n",
        "      print(\"Thank you for using this calculator, goodbye :)\")\n",
        "      break\n",
        "\n",
        "    try:\n",
        "      user_num = int(user_num)\n",
        "    except:\n",
        "      continue\n",
        "\n",
        "    operator = input(\"What operator do you wish to use? [+, -, *, /]: \")\n",
        "\n",
        "    if operator == '+':\n",
        "      total += user_num\n",
        "    elif operator == '-':\n",
        "      total -= user_num\n",
        "    elif operator == '*':\n",
        "      total *= user_num\n",
        "    elif operator == '/':\n",
        "      total /= user_num\n",
        "\n",
        "    print(f\"The current total is: {total}\")"
      ],
      "metadata": {
        "colab": {
          "base_uri": "https://localhost:8080/"
        },
        "id": "d8bLtQG1eJ51",
        "outputId": "4f0eddff-1286-48c5-f37c-264b13696a62"
      },
      "execution_count": 33,
      "outputs": [
        {
          "output_type": "stream",
          "name": "stdout",
          "text": [
            "Give me a number [to exit enter 'quit']: 5\n",
            "What operator do you wish to use? [+, -, *, /]: +\n",
            "The current total is: 5\n",
            "Give me a number [to exit enter 'quit']: 100\n",
            "What operator do you wish to use? [+, -, *, /]: +\n",
            "The current total is: 105\n",
            "Give me a number [to exit enter 'quit']: 20\n",
            "What operator do you wish to use? [+, -, *, /]: -\n",
            "The current total is: 85\n",
            "Give me a number [to exit enter 'quit']: 23\n",
            "What operator do you wish to use? [+, -, *, /]: *\n",
            "The current total is: 1955\n",
            "Give me a number [to exit enter 'quit']: 2\n",
            "What operator do you wish to use? [+, -, *, /]: /\n",
            "The current total is: 977.5\n",
            "Give me a number [to exit enter 'quit']: quit\n",
            "Thank you for using this calculator, goodbye :)\n"
          ]
        }
      ]
    }
  ]
}