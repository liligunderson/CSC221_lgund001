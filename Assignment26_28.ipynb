{
  "nbformat": 4,
  "nbformat_minor": 0,
  "metadata": {
    "colab": {
      "provenance": [],
      "authorship_tag": "ABX9TyMCIOg6Z+NksTpg27XiT9S1",
      "include_colab_link": true
    },
    "kernelspec": {
      "name": "python3",
      "display_name": "Python 3"
    },
    "language_info": {
      "name": "python"
    }
  },
  "cells": [
    {
      "cell_type": "markdown",
      "metadata": {
        "id": "view-in-github",
        "colab_type": "text"
      },
      "source": [
        "<a href=\"https://colab.research.google.com/github/liligunderson/CSC221_lgund001/blob/main/Assignment26_28.ipynb\" target=\"_parent\"><img src=\"https://colab.research.google.com/assets/colab-badge.svg\" alt=\"Open In Colab\"/></a>"
      ]
    },
    {
      "cell_type": "code",
      "execution_count": 76,
      "metadata": {
        "id": "XR8S4FqKwcgE",
        "colab": {
          "base_uri": "https://localhost:8080/"
        },
        "outputId": "37bec394-83be-4cc8-8646-25f6c9d3ce28"
      },
      "outputs": [
        {
          "output_type": "stream",
          "name": "stdout",
          "text": [
            "Integer Example: 42\n",
            "Float Example: 3.14\n",
            "String Example: Hello, World!\n"
          ]
        }
      ],
      "source": [
        "#Cell 1: Demonstrate int, float, and string\n",
        "\n",
        "#integer\n",
        "integer_example = 42\n",
        "print(\"Integer Example:\", integer_example)\n",
        "\n",
        "#float\n",
        "float_example = 3.14\n",
        "print(\"Float Example:\", float_example)\n",
        "\n",
        "#string\n",
        "string_example = \"Hello, World!\"\n",
        "print(\"String Example:\", string_example)\n",
        "\n"
      ]
    },
    {
      "cell_type": "code",
      "source": [
        "#Cell 2: Show how an f-string works (f'Something like this with {something} in it.')\n",
        "print(f\"the variable a is (a) and c*5 is (c*5)\")\n",
        "\n"
      ],
      "metadata": {
        "id": "sOSFywxDwkXF",
        "colab": {
          "base_uri": "https://localhost:8080/"
        },
        "outputId": "27c0b7e9-eb84-40c3-8eaf-91a6a3dea2ff"
      },
      "execution_count": 77,
      "outputs": [
        {
          "output_type": "stream",
          "name": "stdout",
          "text": [
            "the variable a is (a) and c*5 is (c*5)\n"
          ]
        }
      ]
    },
    {
      "cell_type": "code",
      "source": [
        "\n",
        "#Cell 3: Demonstrate some methods of the string class\n",
        "name = 'fred flintstone'\n",
        "print(name, name.title())\n",
        "upper = name.upper()\n",
        "print(upper)"
      ],
      "metadata": {
        "id": "o9bOFqiJxBG9",
        "colab": {
          "base_uri": "https://localhost:8080/"
        },
        "outputId": "88d7ba42-7880-4091-cf3b-b22767de2b6e"
      },
      "execution_count": 78,
      "outputs": [
        {
          "output_type": "stream",
          "name": "stdout",
          "text": [
            "fred flintstone Fred Flintstone\n",
            "FRED FLINTSTONE\n"
          ]
        }
      ]
    },
    {
      "cell_type": "code",
      "source": [
        "#Cell 4: Do something with a list\n",
        "abc = [13,27, 120, 8]\n",
        "print(abc)\n",
        "for x in sorted(abc):\n",
        "  print(x)\n",
        "\n",
        "print(f'min: {min(abc)}')\n",
        "print('min: ' + str(min(abc)))\n",
        "print('max: ' + str(max(abc)))\n",
        "print('sum: ' + str(sum(abc)))"
      ],
      "metadata": {
        "colab": {
          "base_uri": "https://localhost:8080/"
        },
        "id": "JN4SNcEHxRSH",
        "outputId": "b9d84589-4cc9-455e-e14a-9f16f477e5d3"
      },
      "execution_count": 79,
      "outputs": [
        {
          "output_type": "stream",
          "name": "stdout",
          "text": [
            "[13, 27, 120, 8]\n",
            "8\n",
            "13\n",
            "27\n",
            "120\n",
            "min: 8\n",
            "min: 8\n",
            "max: 120\n",
            "sum: 168\n"
          ]
        }
      ]
    },
    {
      "cell_type": "code",
      "source": [
        "#Cell 5: Do something with a list of lists\n",
        "xyz = []\n",
        "xyz.append([13,12,5])\n",
        "xyz.append([12, 'asd'])\n",
        "\n",
        "print(xyz)\n",
        "\n",
        "xyz2 = [[13, 12, 5], [8, 5], [12, 'asd']]\n",
        "print(xyz2)"
      ],
      "metadata": {
        "colab": {
          "base_uri": "https://localhost:8080/"
        },
        "id": "Lcr4Ffg-yCv3",
        "outputId": "040185d9-5bc7-4bfc-f1d1-c193ea28f019"
      },
      "execution_count": 80,
      "outputs": [
        {
          "output_type": "stream",
          "name": "stdout",
          "text": [
            "[[13, 12, 5], [12, 'asd']]\n",
            "[[13, 12, 5], [8, 5], [12, 'asd']]\n"
          ]
        }
      ]
    },
    {
      "cell_type": "code",
      "source": [
        "#Cell 6: Show how to print a list in sorted order without changing it.\n",
        "abc = [13, 27, 120, 8]\n",
        "\n",
        "abc = [13, 27, 120, 8]\n",
        "print(sorted(abc))\n",
        "print(abc)"
      ],
      "metadata": {
        "colab": {
          "base_uri": "https://localhost:8080/"
        },
        "id": "A_sPzm_UyHsH",
        "outputId": "3c683f42-aeea-41c5-cd7a-119ae84fbfca"
      },
      "execution_count": 81,
      "outputs": [
        {
          "output_type": "stream",
          "name": "stdout",
          "text": [
            "[8, 13, 27, 120]\n",
            "[13, 27, 120, 8]\n"
          ]
        }
      ]
    },
    {
      "cell_type": "code",
      "source": [
        "#Cell 7: Printing a series of numbers using for and range\n",
        "def f1():\n",
        "  for x in range(5, 100, 2):\n",
        "    print(x, end= ' ')\n",
        "\n",
        "f1()"
      ],
      "metadata": {
        "colab": {
          "base_uri": "https://localhost:8080/"
        },
        "id": "OWcfmbiVy4G1",
        "outputId": "8090b1c9-d461-454f-fcea-059cb7d9c41b"
      },
      "execution_count": 82,
      "outputs": [
        {
          "output_type": "stream",
          "name": "stdout",
          "text": [
            "5 7 9 11 13 15 17 19 21 23 25 27 29 31 33 35 37 39 41 43 45 47 49 51 53 55 57 59 61 63 65 67 69 71 73 75 77 79 81 83 85 87 89 91 93 95 97 99 "
          ]
        }
      ]
    },
    {
      "cell_type": "code",
      "source": [
        "#Cell 8: Printing a series of squares of all numbers from 1 to 1000 that are not multiples of 7 using list comprehension.\n",
        "print([x*x for x in range(1, 1000) if x % 7 != 0])"
      ],
      "metadata": {
        "colab": {
          "base_uri": "https://localhost:8080/"
        },
        "id": "aR3r8zC4y-MQ",
        "outputId": "04d6a000-192d-4bc9-cf68-d8165efe23fe"
      },
      "execution_count": 83,
      "outputs": [
        {
          "output_type": "stream",
          "name": "stdout",
          "text": [
            "[1, 4, 9, 16, 25, 36, 64, 81, 100, 121, 144, 169, 225, 256, 289, 324, 361, 400, 484, 529, 576, 625, 676, 729, 841, 900, 961, 1024, 1089, 1156, 1296, 1369, 1444, 1521, 1600, 1681, 1849, 1936, 2025, 2116, 2209, 2304, 2500, 2601, 2704, 2809, 2916, 3025, 3249, 3364, 3481, 3600, 3721, 3844, 4096, 4225, 4356, 4489, 4624, 4761, 5041, 5184, 5329, 5476, 5625, 5776, 6084, 6241, 6400, 6561, 6724, 6889, 7225, 7396, 7569, 7744, 7921, 8100, 8464, 8649, 8836, 9025, 9216, 9409, 9801, 10000, 10201, 10404, 10609, 10816, 11236, 11449, 11664, 11881, 12100, 12321, 12769, 12996, 13225, 13456, 13689, 13924, 14400, 14641, 14884, 15129, 15376, 15625, 16129, 16384, 16641, 16900, 17161, 17424, 17956, 18225, 18496, 18769, 19044, 19321, 19881, 20164, 20449, 20736, 21025, 21316, 21904, 22201, 22500, 22801, 23104, 23409, 24025, 24336, 24649, 24964, 25281, 25600, 26244, 26569, 26896, 27225, 27556, 27889, 28561, 28900, 29241, 29584, 29929, 30276, 30976, 31329, 31684, 32041, 32400, 32761, 33489, 33856, 34225, 34596, 34969, 35344, 36100, 36481, 36864, 37249, 37636, 38025, 38809, 39204, 39601, 40000, 40401, 40804, 41616, 42025, 42436, 42849, 43264, 43681, 44521, 44944, 45369, 45796, 46225, 46656, 47524, 47961, 48400, 48841, 49284, 49729, 50625, 51076, 51529, 51984, 52441, 52900, 53824, 54289, 54756, 55225, 55696, 56169, 57121, 57600, 58081, 58564, 59049, 59536, 60516, 61009, 61504, 62001, 62500, 63001, 64009, 64516, 65025, 65536, 66049, 66564, 67600, 68121, 68644, 69169, 69696, 70225, 71289, 71824, 72361, 72900, 73441, 73984, 75076, 75625, 76176, 76729, 77284, 77841, 78961, 79524, 80089, 80656, 81225, 81796, 82944, 83521, 84100, 84681, 85264, 85849, 87025, 87616, 88209, 88804, 89401, 90000, 91204, 91809, 92416, 93025, 93636, 94249, 95481, 96100, 96721, 97344, 97969, 98596, 99856, 100489, 101124, 101761, 102400, 103041, 104329, 104976, 105625, 106276, 106929, 107584, 108900, 109561, 110224, 110889, 111556, 112225, 113569, 114244, 114921, 115600, 116281, 116964, 118336, 119025, 119716, 120409, 121104, 121801, 123201, 123904, 124609, 125316, 126025, 126736, 128164, 128881, 129600, 130321, 131044, 131769, 133225, 133956, 134689, 135424, 136161, 136900, 138384, 139129, 139876, 140625, 141376, 142129, 143641, 144400, 145161, 145924, 146689, 147456, 148996, 149769, 150544, 151321, 152100, 152881, 154449, 155236, 156025, 156816, 157609, 158404, 160000, 160801, 161604, 162409, 163216, 164025, 165649, 166464, 167281, 168100, 168921, 169744, 171396, 172225, 173056, 173889, 174724, 175561, 177241, 178084, 178929, 179776, 180625, 181476, 183184, 184041, 184900, 185761, 186624, 187489, 189225, 190096, 190969, 191844, 192721, 193600, 195364, 196249, 197136, 198025, 198916, 199809, 201601, 202500, 203401, 204304, 205209, 206116, 207936, 208849, 209764, 210681, 211600, 212521, 214369, 215296, 216225, 217156, 218089, 219024, 220900, 221841, 222784, 223729, 224676, 225625, 227529, 228484, 229441, 230400, 231361, 232324, 234256, 235225, 236196, 237169, 238144, 239121, 241081, 242064, 243049, 244036, 245025, 246016, 248004, 249001, 250000, 251001, 252004, 253009, 255025, 256036, 257049, 258064, 259081, 260100, 262144, 263169, 264196, 265225, 266256, 267289, 269361, 270400, 271441, 272484, 273529, 274576, 276676, 277729, 278784, 279841, 280900, 281961, 284089, 285156, 286225, 287296, 288369, 289444, 291600, 292681, 293764, 294849, 295936, 297025, 299209, 300304, 301401, 302500, 303601, 304704, 306916, 308025, 309136, 310249, 311364, 312481, 314721, 315844, 316969, 318096, 319225, 320356, 322624, 323761, 324900, 326041, 327184, 328329, 330625, 331776, 332929, 334084, 335241, 336400, 338724, 339889, 341056, 342225, 343396, 344569, 346921, 348100, 349281, 350464, 351649, 352836, 355216, 356409, 357604, 358801, 360000, 361201, 363609, 364816, 366025, 367236, 368449, 369664, 372100, 373321, 374544, 375769, 376996, 378225, 380689, 381924, 383161, 384400, 385641, 386884, 389376, 390625, 391876, 393129, 394384, 395641, 398161, 399424, 400689, 401956, 403225, 404496, 407044, 408321, 409600, 410881, 412164, 413449, 416025, 417316, 418609, 419904, 421201, 422500, 425104, 426409, 427716, 429025, 430336, 431649, 434281, 435600, 436921, 438244, 439569, 440896, 443556, 444889, 446224, 447561, 448900, 450241, 452929, 454276, 455625, 456976, 458329, 459684, 462400, 463761, 465124, 466489, 467856, 469225, 471969, 473344, 474721, 476100, 477481, 478864, 481636, 483025, 484416, 485809, 487204, 488601, 491401, 492804, 494209, 495616, 497025, 498436, 501264, 502681, 504100, 505521, 506944, 508369, 511225, 512656, 514089, 515524, 516961, 518400, 521284, 522729, 524176, 525625, 527076, 528529, 531441, 532900, 534361, 535824, 537289, 538756, 541696, 543169, 544644, 546121, 547600, 549081, 552049, 553536, 555025, 556516, 558009, 559504, 562500, 564001, 565504, 567009, 568516, 570025, 573049, 574564, 576081, 577600, 579121, 580644, 583696, 585225, 586756, 588289, 589824, 591361, 594441, 595984, 597529, 599076, 600625, 602176, 605284, 606841, 608400, 609961, 611524, 613089, 616225, 617796, 619369, 620944, 622521, 624100, 627264, 628849, 630436, 632025, 633616, 635209, 638401, 640000, 641601, 643204, 644809, 646416, 649636, 651249, 652864, 654481, 656100, 657721, 660969, 662596, 664225, 665856, 667489, 669124, 672400, 674041, 675684, 677329, 678976, 680625, 683929, 685584, 687241, 688900, 690561, 692224, 695556, 697225, 698896, 700569, 702244, 703921, 707281, 708964, 710649, 712336, 714025, 715716, 719104, 720801, 722500, 724201, 725904, 727609, 731025, 732736, 734449, 736164, 737881, 739600, 743044, 744769, 746496, 748225, 749956, 751689, 755161, 756900, 758641, 760384, 762129, 763876, 767376, 769129, 770884, 772641, 774400, 776161, 779689, 781456, 783225, 784996, 786769, 788544, 792100, 793881, 795664, 797449, 799236, 801025, 804609, 806404, 808201, 810000, 811801, 813604, 817216, 819025, 820836, 822649, 824464, 826281, 829921, 831744, 833569, 835396, 837225, 839056, 842724, 844561, 846400, 848241, 850084, 851929, 855625, 857476, 859329, 861184, 863041, 864900, 868624, 870489, 872356, 874225, 876096, 877969, 881721, 883600, 885481, 887364, 889249, 891136, 894916, 896809, 898704, 900601, 902500, 904401, 908209, 910116, 912025, 913936, 915849, 917764, 921600, 923521, 925444, 927369, 929296, 931225, 935089, 937024, 938961, 940900, 942841, 944784, 948676, 950625, 952576, 954529, 956484, 958441, 962361, 964324, 966289, 968256, 970225, 972196, 976144, 978121, 980100, 982081, 984064, 986049, 990025, 992016, 994009, 996004, 998001]\n"
          ]
        }
      ]
    },
    {
      "cell_type": "code",
      "source": [
        "#Cell 9: Generating all of the prime numbers from 2 to 1000 using the Sieve of Eratosthenes which I suggest you ask ChatGPT for help on.\n",
        "def sieve_of_eratosthenes(limit):\n",
        "    primes = []\n",
        "    is_prime = [True] * (limit + 1)\n",
        "    is_prime[0] = is_prime[1] = False  # 0 and 1 are not prime numbers\n",
        "\n",
        "    for i in range(2, int(limit**0.5) + 1):\n",
        "        if is_prime[i]:\n",
        "            primes.append(i)\n",
        "            for j in range(i*i, limit + 1, i):\n",
        "                is_prime[j] = False\n",
        "\n",
        "    # Add remaining primes greater than sqrt(limit)\n",
        "    for i in range(int(limit**0.5) + 1, limit + 1):\n",
        "        if is_prime[i]:\n",
        "            primes.append(i)\n",
        "\n",
        "    return primes\n",
        "\n",
        "# Generating primes from 2 to 1000\n",
        "primes_up_to_1000 = sieve_of_eratosthenes(1000)\n",
        "\n",
        "# Printing the result\n",
        "print(\"Prime numbers from 2 to 1000:\", primes_up_to_1000)\n"
      ],
      "metadata": {
        "colab": {
          "base_uri": "https://localhost:8080/"
        },
        "id": "tJo3dBLOzBr0",
        "outputId": "7f3e30b9-f1e6-467d-bac7-2b7eee3a1b83"
      },
      "execution_count": 84,
      "outputs": [
        {
          "output_type": "stream",
          "name": "stdout",
          "text": [
            "Prime numbers from 2 to 1000: [2, 3, 5, 7, 11, 13, 17, 19, 23, 29, 31, 37, 41, 43, 47, 53, 59, 61, 67, 71, 73, 79, 83, 89, 97, 101, 103, 107, 109, 113, 127, 131, 137, 139, 149, 151, 157, 163, 167, 173, 179, 181, 191, 193, 197, 199, 211, 223, 227, 229, 233, 239, 241, 251, 257, 263, 269, 271, 277, 281, 283, 293, 307, 311, 313, 317, 331, 337, 347, 349, 353, 359, 367, 373, 379, 383, 389, 397, 401, 409, 419, 421, 431, 433, 439, 443, 449, 457, 461, 463, 467, 479, 487, 491, 499, 503, 509, 521, 523, 541, 547, 557, 563, 569, 571, 577, 587, 593, 599, 601, 607, 613, 617, 619, 631, 641, 643, 647, 653, 659, 661, 673, 677, 683, 691, 701, 709, 719, 727, 733, 739, 743, 751, 757, 761, 769, 773, 787, 797, 809, 811, 821, 823, 827, 829, 839, 853, 857, 859, 863, 877, 881, 883, 887, 907, 911, 919, 929, 937, 941, 947, 953, 967, 971, 977, 983, 991, 997]\n"
          ]
        }
      ]
    },
    {
      "cell_type": "code",
      "source": [
        "#Cell 10: Create a generator from your function above that you can use to print the first N prime numbers. This should look like:\n",
        "\n",
        "def my_prime_generator(N):\n",
        "  primes = sieve_of_eratosthenes(N)\n",
        "\n",
        "  for x in primes:\n",
        "    yield x\n",
        "\n",
        "for x in my_prime_generator(200):\n",
        "  print(x, end=' ')"
      ],
      "metadata": {
        "colab": {
          "base_uri": "https://localhost:8080/"
        },
        "id": "H2rDVRCgzBzX",
        "outputId": "2a84b714-c071-4768-e7a7-8822138f2d0e"
      },
      "execution_count": 85,
      "outputs": [
        {
          "output_type": "stream",
          "name": "stdout",
          "text": [
            "2 3 5 7 11 13 17 19 23 29 31 37 41 43 47 53 59 61 67 71 73 79 83 89 97 101 103 107 109 113 127 131 137 139 149 151 157 163 167 173 179 181 191 193 197 199 "
          ]
        }
      ]
    },
    {
      "cell_type": "code",
      "source": [
        "#Cell 11: Generate 1000 random integers in a list (random.randint(...)) and print their min, max, sum, and average.\n",
        "import random\n",
        "\n",
        "random_integers = [random.randint(1, 100) for _ in range(1000)]\n",
        "\n",
        "min_value = min(random_integers)\n",
        "max_value = max(random_integers)\n",
        "sum_value = sum(random_integers)\n",
        "average_value = sum_value / len(random_integers)\n",
        "\n",
        "print(f\"Min: {min_value}\")\n",
        "print(f\"Max: {max_value}\")\n",
        "print(f\"Sum: {sum_value}\")\n",
        "print(f\"Average: {average_value}\")\n"
      ],
      "metadata": {
        "id": "SAmNKBcxzB47",
        "colab": {
          "base_uri": "https://localhost:8080/"
        },
        "outputId": "19df5706-131b-451c-a814-69b0052810b3"
      },
      "execution_count": 86,
      "outputs": [
        {
          "output_type": "stream",
          "name": "stdout",
          "text": [
            "Min: 1\n",
            "Max: 100\n",
            "Sum: 51061\n",
            "Average: 51.061\n"
          ]
        }
      ]
    },
    {
      "cell_type": "code",
      "source": [
        "#Cell 12: Write a simple function that uses if, elif, and else and show that it works.\n",
        "def number_classification (number):\n",
        "    if number > 0:\n",
        "        return \"Positive\"\n",
        "    elif number < 0:\n",
        "        return \"Negative\"\n",
        "    else:\n",
        "        return \"Zero\"\n",
        "\n",
        "#test code\n",
        "test_number = 7\n",
        "result = number_classification(test_number)\n",
        "print(f\"The number {test_number} is {result}.\")\n",
        "\n"
      ],
      "metadata": {
        "id": "KrwycubjzcC8",
        "colab": {
          "base_uri": "https://localhost:8080/"
        },
        "outputId": "f2e7337c-cdd6-4d19-c5a6-84867651d427"
      },
      "execution_count": 87,
      "outputs": [
        {
          "output_type": "stream",
          "name": "stdout",
          "text": [
            "The number 7 is Positive.\n"
          ]
        }
      ]
    },
    {
      "cell_type": "code",
      "source": [
        "#Cell 13: Show me three things from PEP-8 that surprise you\n",
        "\n",
        "#I found it surprising that pep 8 recommends using 4 spaces per indentation level and not using tabs for the indent.\n",
        "#ex. showing indentation\n",
        "if True:\n",
        "  print(\"True\")\n",
        "else:\n",
        "  print(\"False\")\n",
        "#I also found it interesting that it recommends you to keep lines to a Maximum of 79 Characters.\n",
        "#ex.\n",
        "long_variable_name = \"This is a long variable name that follows PEP 8 guidelines.\" #79 characters\n",
        "#I thought it was interesting that you can create a string with 'apostrophes' and with \"quotes.\"\n",
        "#ex.\n",
        "string = 'this is a string'\n",
        "string2 = \"this is also a string\""
      ],
      "metadata": {
        "id": "HYQ8SnbJzcGq"
      },
      "execution_count": null,
      "outputs": []
    },
    {
      "cell_type": "code",
      "source": [
        "#Cell 14: Create a file using %%file testfile.txt in Colab. The file should contain lines like the following:\n",
        "\n",
        "%%file textfile.txt\n",
        "Amy, cat\n",
        "Fred, dog\n",
        "Hunter, dog\n",
        "Peena, parakeet\n",
        "Rover, dog"
      ],
      "metadata": {
        "colab": {
          "base_uri": "https://localhost:8080/"
        },
        "id": "Z0mkBhNYzcJ0",
        "outputId": "c9113ddb-8e22-4478-afc8-b43d29c3c549"
      },
      "execution_count": 94,
      "outputs": [
        {
          "output_type": "stream",
          "name": "stdout",
          "text": [
            "Overwriting textfile.txt\n"
          ]
        }
      ]
    },
    {
      "cell_type": "code",
      "source": [
        "#Cell 15: Read that file in and convert it to a dictionary. Show how you can lookup pet type by using pet name with your dictionary.\n",
        "with open('textfile.txt', 'r') as file:\n",
        "    pet_info = [line.strip().split(', ') for line in file]\n",
        "\n",
        "pet_dict = dict(pet_info)\n",
        "print(pet_dict)\n",
        "\n",
        "pet_name = 'Fred'\n",
        "print(f'{pet_name} has a {pet_dict[pet_name]}')\n"
      ],
      "metadata": {
        "colab": {
          "base_uri": "https://localhost:8080/"
        },
        "id": "xGJzoRGYzcMd",
        "outputId": "180437ba-6b1a-4fc1-e6f0-724905ee0ccd"
      },
      "execution_count": 95,
      "outputs": [
        {
          "output_type": "stream",
          "name": "stdout",
          "text": [
            "{'Amy': 'cat', 'Fred': 'dog', 'Hunter': 'dog', 'Peena': 'parakeet', 'Rover': 'dog'}\n",
            "Fred has a dog\n"
          ]
        }
      ]
    },
    {
      "cell_type": "code",
      "source": [
        "#Cell 16: Generate a list of all the unique pet types in the dictionary. Use a set to make this happen.\n",
        "unique_pet_types = set(pet_dict.values())\n",
        "print(\"Unique Pet Types:\", unique_pet_types)"
      ],
      "metadata": {
        "colab": {
          "base_uri": "https://localhost:8080/"
        },
        "id": "NHK0Iff9zcRc",
        "outputId": "b297b367-8a14-4200-af70-8ad84caa1ac0"
      },
      "execution_count": 96,
      "outputs": [
        {
          "output_type": "stream",
          "name": "stdout",
          "text": [
            "Unique Pet Types: {'dog', 'parakeet', 'cat'}\n"
          ]
        }
      ]
    },
    {
      "cell_type": "code",
      "source": [
        "#Cell 17: Use a while loop to print the numbers from 80 down to 16 by 8. Do not use for or range.\n",
        "n = 80\n",
        "while n >= 16:\n",
        "  print(n)\n",
        "  n -= 8"
      ],
      "metadata": {
        "colab": {
          "base_uri": "https://localhost:8080/"
        },
        "id": "8k12NafzzcVD",
        "outputId": "a3479c18-3109-4c38-d967-5fced2363305"
      },
      "execution_count": 97,
      "outputs": [
        {
          "output_type": "stream",
          "name": "stdout",
          "text": [
            "80\n",
            "72\n",
            "64\n",
            "56\n",
            "48\n",
            "40\n",
            "32\n",
            "24\n",
            "16\n"
          ]
        }
      ]
    },
    {
      "cell_type": "code",
      "source": [
        "#Cell 18: Write a function that takes three numbers and returns their min, max, and sum as a tuple.\n",
        "def min_max_sum_tuple(x, y, z):\n",
        "  return min(x, y, z), max(x, y, z), x + y + z\n",
        "\n",
        "result_tuple = min_max_sum_tuple(1, 2, 3)\n",
        "print(result_tuple)\n"
      ],
      "metadata": {
        "colab": {
          "base_uri": "https://localhost:8080/"
        },
        "id": "Lga1hxtdzcaN",
        "outputId": "4469136e-1819-4aed-af3c-ec30fa0b6c99"
      },
      "execution_count": 98,
      "outputs": [
        {
          "output_type": "stream",
          "name": "stdout",
          "text": [
            "(1, 3, 6)\n"
          ]
        }
      ]
    },
    {
      "cell_type": "code",
      "source": [
        "#Cell 19: Write a function that takes any number of numbers and returns their min, max, and sum as a tuple.\n",
        "\n",
        "def min_max_sum_tuple(*numbers):\n",
        "    if not numbers:\n",
        "        raise ValueError(\"At least one number is required.\")\n",
        "\n",
        "    return min(numbers), max(numbers), sum(numbers)\n",
        "\n",
        "result_tuple = min_max_sum_tuple(1, 2, 3, 4, 5)\n",
        "print(result_tuple)\n"
      ],
      "metadata": {
        "id": "qtHg0kHh08kj",
        "colab": {
          "base_uri": "https://localhost:8080/"
        },
        "outputId": "2803da63-11ec-494e-ba6a-745e95c0dfb9"
      },
      "execution_count": 100,
      "outputs": [
        {
          "output_type": "stream",
          "name": "stdout",
          "text": [
            "(1, 5, 15)\n"
          ]
        }
      ]
    },
    {
      "cell_type": "code",
      "source": [
        "#Cell 20: Create a decorator called traceroo and use it to print messages showing how your function above executes.\n",
        "def traceroo(func):\n",
        "  def newfunc(*args, **kwargs):\n",
        "    print(f'TRACEROO {func.__name__} {args} {kwargs}')\n",
        "    return func(*args, **kwargs)\n",
        "\n",
        "  return newfunc\n",
        "\n",
        "@traceroo\n",
        "def f1(a, b, c):\n",
        "  return a + b + c\n",
        "\n",
        "f1d = traceroo(f1)\n",
        "print(f1(3, 2, 1))\n",
        "print(f1d(3, 2, 1))\n",
        "\n",
        "@traceroo\n",
        "def f4():\n",
        "  print(\"Hi... I'm f4\")\n",
        "\n",
        "f4()"
      ],
      "metadata": {
        "colab": {
          "base_uri": "https://localhost:8080/"
        },
        "id": "Bkt14Ce_08qq",
        "outputId": "6c37626d-6688-439b-8820-c31f7621c349"
      },
      "execution_count": 101,
      "outputs": [
        {
          "output_type": "stream",
          "name": "stdout",
          "text": [
            "TRACEROO f1 (3, 2, 1) {}\n",
            "6\n",
            "TRACEROO newfunc (3, 2, 1) {}\n",
            "TRACEROO f1 (3, 2, 1) {}\n",
            "6\n",
            "TRACEROO f4 () {}\n",
            "Hi... I'm f4\n"
          ]
        }
      ]
    },
    {
      "cell_type": "code",
      "source": [
        "#Cell 21: Create a class that uses __init__, __repr__, __str__, and __add__. Demonstrate that all of the methods work.\n",
        "class ClassLili:\n",
        "    def __init__(self, value):\n",
        "        self.value = value\n",
        "\n",
        "    def __repr__(self):\n",
        "        return f\"ClassLili({self.value})\"\n",
        "\n",
        "    def __str__(self):\n",
        "        return f\"Instance of ClassLili with value: {self.value}\"\n",
        "\n",
        "    def __add__(self, other):\n",
        "        if isinstance(other, ClassLili):\n",
        "            return ClassLili(self.value + other.value)\n",
        "        else:\n",
        "            raise TypeError(\"Unsupported operand type. You can only add instances of MyClass.\")\n",
        "\n",
        "\n",
        "obj1 = ClassLili(10)\n",
        "obj2 = ClassLili(20)\n",
        "\n",
        "#test code\n",
        "print(\"Using __str__:\", str(obj1))\n",
        "print(\"Using __repr__:\", repr(obj1))\n",
        "\n",
        "result = obj1 + obj2\n",
        "print(\"Using __add__:\", result)\n"
      ],
      "metadata": {
        "id": "h9iJbgKE1FW3",
        "colab": {
          "base_uri": "https://localhost:8080/"
        },
        "outputId": "45077e63-12fb-48a6-92d0-3adce82d8c67"
      },
      "execution_count": 102,
      "outputs": [
        {
          "output_type": "stream",
          "name": "stdout",
          "text": [
            "Using __str__: Instance of ClassLili with value: 10\n",
            "Using __repr__: ClassLili(10)\n",
            "Using __add__: Instance of ClassLili with value: 30\n"
          ]
        }
      ]
    },
    {
      "cell_type": "code",
      "source": [
        "#Cell 22: Is your birth date included in the digits of pi? Where? Feel free to use the code from Chapter 10.\n",
        "from mpmath import mp\n",
        "\n",
        "def find_birth_date_in_pi(birth_date):\n",
        "    # Set precision to a desired value (e.g., 1000)\n",
        "    mp.dps = 1000\n",
        "\n",
        "    # Calculate pi using the BBP formula\n",
        "    pi = mp.pi\n",
        "\n",
        "    # Search for the birth date in the decimal representation of pi\n",
        "    pi_str = str(pi)\n",
        "    index = pi_str.find(birth_date)\n",
        "\n",
        "    return index\n",
        "\n",
        "# Your birth date in the format MMDD\n",
        "birth_date = \"0125\"\n",
        "\n",
        "# Find the birth date in the digits of pi\n",
        "index = find_birth_date_in_pi(birth_date)\n",
        "\n",
        "# Print the result\n",
        "if index != -1:\n",
        "    print(f\"Your birth date '{birth_date}' is found in the decimal places of pi at index {index}.\")\n",
        "else:\n",
        "    print(f\"Your birth date '{birth_date}' is not found in the first 1000 decimal places of pi.\")\n",
        "\n",
        "#apparently it is not in the first 1000 decimals of pi :(\n"
      ],
      "metadata": {
        "id": "JN4XiKuG1Fbr",
        "colab": {
          "base_uri": "https://localhost:8080/"
        },
        "outputId": "4da29ffa-85c8-401d-fdc6-76c860da8ee5"
      },
      "execution_count": 103,
      "outputs": [
        {
          "output_type": "stream",
          "name": "stdout",
          "text": [
            "Your birth date '0125' is not found in the first 1000 decimal places of pi.\n"
          ]
        }
      ]
    },
    {
      "cell_type": "code",
      "source": [
        "#Put three of your above functions in a file called final_functions.py. Show that they work using python final_functions.py from the command line.\n",
        "\n",
        "%%writefile final_functions.py\n",
        "\n",
        "# final_functions.py\n",
        "\n",
        "# Function 1\n",
        "def number_classification(number):\n",
        "    if number > 0:\n",
        "        return \"Positive\"\n",
        "    elif number < 0:\n",
        "        return \"Negative\"\n",
        "    else:\n",
        "        return \"Zero\"\n",
        "\n",
        "# Function 2\n",
        "def min_max_sum_tuple(x, y, z):\n",
        "    return min(x, y, z), max(x, y, z), x + y + z\n",
        "\n",
        "# Function 3\n",
        "def f1():\n",
        "    for x in range(5, 100, 2):\n",
        "        print(x, end=' ')\n",
        "\n"
      ],
      "metadata": {
        "id": "PHZ4Symj1Ft-",
        "colab": {
          "base_uri": "https://localhost:8080/"
        },
        "outputId": "00194091-52ea-451a-f268-9a23309ab997"
      },
      "execution_count": 104,
      "outputs": [
        {
          "output_type": "stream",
          "name": "stdout",
          "text": [
            "Overwriting final_functions.py\n"
          ]
        }
      ]
    },
    {
      "cell_type": "code",
      "source": [
        "#Add a file final.py that imports final_functions.py and exercises them a bit using python final.py from the command line.\n",
        "\n",
        "%%file final.py\n",
        "\n",
        "\n",
        "from final_functions import number_classification, min_max_sum_tuple, f1\n",
        "\n",
        "# Test number_classification function\n",
        "numbers = number_classification(5)\n",
        "print(\"Number classification result:\", numbers)\n",
        "\n",
        "# Test min_max_sum_tuple function\n",
        "tuples = min_max_sum_tuple(1, 2, 3)\n",
        "print(\"The result of the tuple is:\", tuples)\n",
        "\n",
        "# Test f1 function\n",
        "print(\"Series of numbers:\")\n",
        "f1()\n"
      ],
      "metadata": {
        "colab": {
          "base_uri": "https://localhost:8080/"
        },
        "id": "FRFAsbv56AE0",
        "outputId": "69d757f7-585b-4e79-f96f-21e6986e5575"
      },
      "execution_count": 106,
      "outputs": [
        {
          "output_type": "stream",
          "name": "stdout",
          "text": [
            "Overwriting final.py\n"
          ]
        }
      ]
    },
    {
      "cell_type": "code",
      "source": [
        "!python final.py"
      ],
      "metadata": {
        "colab": {
          "base_uri": "https://localhost:8080/"
        },
        "id": "FFWCypV2yhB_",
        "outputId": "ead12c7f-57e6-4524-d8aa-e08755c8394e"
      },
      "execution_count": 107,
      "outputs": [
        {
          "output_type": "stream",
          "name": "stdout",
          "text": [
            "Number classification result: Positive\n",
            "The result of the tuple is: (1, 3, 6)\n",
            "Series of numbers:\n",
            "5 7 9 11 13 15 17 19 21 23 25 27 29 31 33 35 37 39 41 43 45 47 49 51 53 55 57 59 61 63 65 67 69 71 73 75 77 79 81 83 85 87 89 91 93 95 97 99 "
          ]
        }
      ]
    },
    {
      "cell_type": "code",
      "source": [
        "#Add a file test_final.py and use pytest from the command line to test the functions. Show that the tests pass.\n",
        "\n",
        "%%writefile test_final.py\n",
        "\n",
        "from final_functions import number_classification, min_max_sum_tuple, f1\n",
        "\n",
        "def test_number_classification_positive():\n",
        "    assert number_classification(7) == \"Positive\"\n",
        "\n",
        "def test_number_classification_negative():\n",
        "    assert number_classification(-7) == \"Negative\"\n",
        "\n",
        "def test_number_classification_zero():\n",
        "    assert number_classification(0) == \"Zero\"\n",
        "\n",
        "def test_min_max_sum_tuple():\n",
        "    assert min_max_sum_tuple(1, 2, 3) == (1, 3, 6)\n",
        "\n",
        "# Note: This test assumes that the output of f1 is printed to the console.\n",
        "# You might need to modify it if f1 returns a value instead of printing.\n",
        "def test_f1(capsys):\n",
        "    f1()\n",
        "    captured = capsys.readouterr()\n",
        "    assert captured.out.strip() == \" \".join(map(str, range(5, 100, 2)))\n",
        "\n",
        "# Run pytest from within the notebook and print the results\n",
        "import pytest\n",
        "\n",
        "result = pytest.main(['-v', 'test_final.py'])\n",
        "print(\"Test result:\", result)"
      ],
      "metadata": {
        "colab": {
          "base_uri": "https://localhost:8080/"
        },
        "id": "GA6geMpa-K-i",
        "outputId": "9e46687f-15ca-4c15-d0c6-3ece5f36ea35"
      },
      "execution_count": 108,
      "outputs": [
        {
          "output_type": "stream",
          "name": "stdout",
          "text": [
            "Overwriting test_final.py\n"
          ]
        }
      ]
    },
    {
      "cell_type": "code",
      "source": [
        "!python test_final.py"
      ],
      "metadata": {
        "colab": {
          "base_uri": "https://localhost:8080/"
        },
        "id": "GVo-EeS6-dqI",
        "outputId": "d89c3b54-66b4-4891-9222-3166c5766228"
      },
      "execution_count": 109,
      "outputs": [
        {
          "output_type": "stream",
          "name": "stdout",
          "text": [
            "\u001b[1m======================================= test session starts ========================================\u001b[0m\n",
            "platform linux -- Python 3.10.12, pytest-7.4.3, pluggy-1.3.0 -- /usr/bin/python3\n",
            "cachedir: .pytest_cache\n",
            "rootdir: /content\n",
            "plugins: anyio-3.7.1\n",
            "\u001b[1mcollecting ... \u001b[0m\u001b[1m\rcollected 5 items                                                                                  \u001b[0m\n",
            "\n",
            "test_final.py::test_number_classification_positive \u001b[32mPASSED\u001b[0m\u001b[32m                                    [ 20%]\u001b[0m\n",
            "test_final.py::test_number_classification_negative \u001b[32mPASSED\u001b[0m\u001b[32m                                    [ 40%]\u001b[0m\n",
            "test_final.py::test_number_classification_zero \u001b[32mPASSED\u001b[0m\u001b[32m                                        [ 60%]\u001b[0m\n",
            "test_final.py::test_min_max_sum_tuple \u001b[32mPASSED\u001b[0m\u001b[32m                                                 [ 80%]\u001b[0m\n",
            "test_final.py::test_f1 \u001b[32mPASSED\u001b[0m\u001b[32m                                                                [100%]\u001b[0m\n",
            "\n",
            "\u001b[32m======================================== \u001b[32m\u001b[1m5 passed\u001b[0m\u001b[32m in 0.10s\u001b[0m\u001b[32m =========================================\u001b[0m\n",
            "Test result: ExitCode.OK\n"
          ]
        }
      ]
    },
    {
      "cell_type": "code",
      "source": [
        "#Put a bug in one of your functions. Show that your pytest tests now fail!\n",
        "\n",
        "%%writefile final_functions.py\n",
        "\n",
        "# final_functions.py\n",
        "\n",
        "# Function 1\n",
        "def number_classification(number):\n",
        "    if number >= 0: #Intentional bug: Changed > to >=\n",
        "        return \"Positive\"\n",
        "    elif number < 0:\n",
        "        return \"Negative\"\n",
        "    else:\n",
        "        return \"Zero\"\n",
        "\n",
        "# Function 2\n",
        "def min_max_sum_tuple(x, y, z):\n",
        "    return min(x, y, z), max(x, y, z), x + y + z\n",
        "\n",
        "# Function 3\n",
        "def f1():\n",
        "    for x in range(5, 100, 2):\n",
        "        print(x, end=' ')\n",
        "\n",
        "import pytest\n",
        "\n",
        "result = pytest.main(['-v', 'test_final.py'])\n",
        "print(\"Test result:\", result)"
      ],
      "metadata": {
        "colab": {
          "base_uri": "https://localhost:8080/"
        },
        "id": "dMfFvAQJ-3Px",
        "outputId": "19e1c7d3-e1ff-458f-a9dd-28a6533a7ceb"
      },
      "execution_count": 110,
      "outputs": [
        {
          "output_type": "stream",
          "name": "stdout",
          "text": [
            "Overwriting final_functions.py\n"
          ]
        }
      ]
    },
    {
      "cell_type": "code",
      "source": [
        "!python final_functions.py"
      ],
      "metadata": {
        "colab": {
          "base_uri": "https://localhost:8080/"
        },
        "id": "X48G7bTh_H2I",
        "outputId": "a975460c-708b-4b78-bd36-dacbeff6e9ce"
      },
      "execution_count": 111,
      "outputs": [
        {
          "output_type": "stream",
          "name": "stdout",
          "text": [
            "\u001b[1m======================================= test session starts ========================================\u001b[0m\n",
            "platform linux -- Python 3.10.12, pytest-7.4.3, pluggy-1.3.0 -- /usr/bin/python3\n",
            "cachedir: .pytest_cache\n",
            "rootdir: /content\n",
            "plugins: anyio-3.7.1\n",
            "\u001b[1mcollecting ... \u001b[0m\u001b[1m\rcollected 5 items                                                                                  \u001b[0m\n",
            "\n",
            "test_final.py::test_number_classification_positive \u001b[32mPASSED\u001b[0m\u001b[32m                                    [ 20%]\u001b[0m\n",
            "test_final.py::test_number_classification_negative \u001b[32mPASSED\u001b[0m\u001b[32m                                    [ 40%]\u001b[0m\n",
            "test_final.py::test_number_classification_zero \u001b[31mFAILED\u001b[0m\u001b[31m                                        [ 60%]\u001b[0m\n",
            "test_final.py::test_min_max_sum_tuple \u001b[32mPASSED\u001b[0m\u001b[31m                                                 [ 80%]\u001b[0m\n",
            "test_final.py::test_f1 \u001b[32mPASSED\u001b[0m\u001b[31m                                                                [100%]\u001b[0m\n",
            "\n",
            "============================================= FAILURES =============================================\n",
            "\u001b[31m\u001b[1m_________________________________ test_number_classification_zero __________________________________\u001b[0m\n",
            "\n",
            "    \u001b[94mdef\u001b[39;49;00m \u001b[92mtest_number_classification_zero\u001b[39;49;00m():\u001b[90m\u001b[39;49;00m\n",
            ">       \u001b[94massert\u001b[39;49;00m number_classification(\u001b[94m0\u001b[39;49;00m) == \u001b[33m\"\u001b[39;49;00m\u001b[33mZero\u001b[39;49;00m\u001b[33m\"\u001b[39;49;00m\u001b[90m\u001b[39;49;00m\n",
            "\u001b[1m\u001b[31mE       AssertionError: assert 'Positive' == 'Zero'\u001b[0m\n",
            "\u001b[1m\u001b[31mE         - Zero\u001b[0m\n",
            "\u001b[1m\u001b[31mE         + Positive\u001b[0m\n",
            "\n",
            "\u001b[1m\u001b[31mtest_final.py\u001b[0m:11: AssertionError\n",
            "\u001b[36m\u001b[1m===================================== short test summary info ======================================\u001b[0m\n",
            "\u001b[31mFAILED\u001b[0m test_final.py::\u001b[1mtest_number_classification_zero\u001b[0m - AssertionError: assert 'Positive' == 'Zero'\n",
            "\u001b[31m=================================== \u001b[31m\u001b[1m1 failed\u001b[0m, \u001b[32m4 passed\u001b[0m\u001b[31m in 0.23s\u001b[0m\u001b[31m ====================================\u001b[0m\n",
            "Test result: ExitCode.TESTS_FAILED\n"
          ]
        }
      ]
    }
  ]
}