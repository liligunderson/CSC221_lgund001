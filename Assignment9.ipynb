{
  "nbformat": 4,
  "nbformat_minor": 0,
  "metadata": {
    "colab": {
      "provenance": [],
      "authorship_tag": "ABX9TyNmexCTeiQM8draVeTha4/r",
      "include_colab_link": true
    },
    "kernelspec": {
      "name": "python3",
      "display_name": "Python 3"
    },
    "language_info": {
      "name": "python"
    }
  },
  "cells": [
    {
      "cell_type": "markdown",
      "metadata": {
        "id": "view-in-github",
        "colab_type": "text"
      },
      "source": [
        "<a href=\"https://colab.research.google.com/github/liligunderson/CSC221_lgund001/blob/main/Assignment9.ipynb\" target=\"_parent\"><img src=\"https://colab.research.google.com/assets/colab-badge.svg\" alt=\"Open In Colab\"/></a>"
      ]
    },
    {
      "cell_type": "markdown",
      "source": [
        "Lili Gunderson, Assignment #9 chapter 8,\n",
        "Do TIY 8-2, 8-3, 8-4, 8-14"
      ],
      "metadata": {
        "id": "CY665LZQKEDb"
      }
    },
    {
      "cell_type": "code",
      "execution_count": null,
      "metadata": {
        "colab": {
          "base_uri": "https://localhost:8080/"
        },
        "id": "ew13fY_TKA7Y",
        "outputId": "9ceb2a96-e134-4458-c9d4-bf4b15df72af"
      },
      "outputs": [
        {
          "output_type": "stream",
          "name": "stdout",
          "text": [
            "Hello!\n"
          ]
        }
      ],
      "source": [
        "def greet_user():\n",
        "  \"\"\"Display a simple greeting.\"\"\" #docstring\n",
        "  print(\"Hello!\")\n",
        "\n",
        "greet_user()"
      ]
    },
    {
      "cell_type": "code",
      "source": [
        "def greet_user(username):\n",
        " \"\"\"Display a simple greeting.\"\"\"\n",
        " print(\"Hello, \" + username.title() + \"!\")\n",
        "\n",
        "greet_user('jesse')"
      ],
      "metadata": {
        "colab": {
          "base_uri": "https://localhost:8080/"
        },
        "id": "KdI6KGnKloA4",
        "outputId": "34864e95-32c1-4d49-e870-ce3df7118b1d"
      },
      "execution_count": null,
      "outputs": [
        {
          "output_type": "stream",
          "name": "stdout",
          "text": [
            "Hello, Jesse!\n"
          ]
        }
      ]
    },
    {
      "cell_type": "code",
      "source": [
        "#TiY 8-2\n",
        "def favorite_book(title):\n",
        "  \"\"\"Display a message about a favorite book\"\"\"\n",
        "  print(\"One of my favorite books is \" + title + \"!\")\n",
        "\n",
        "favorite_book('Alice in Wonderland')"
      ],
      "metadata": {
        "colab": {
          "base_uri": "https://localhost:8080/"
        },
        "id": "4f7-_AC8no4s",
        "outputId": "a0c59302-30d1-4950-e6af-a0135ae3f660"
      },
      "execution_count": null,
      "outputs": [
        {
          "output_type": "stream",
          "name": "stdout",
          "text": [
            "One of my favorite books is Alice in Wonderland!\n"
          ]
        }
      ]
    },
    {
      "cell_type": "code",
      "source": [
        "def describe_pet(animal_type, pet_name):\n",
        "  \"\"\"Display information about a pet.\"\"\"\n",
        "  print(\"\\nI have a \" + animal_type + \".\")\n",
        "  print(\"My \" + animal_type + \"'s name is \" + pet_name.title() + \".\")\n",
        "\n",
        "describe_pet('hamster', 'harry')\n",
        "describe_pet('dog', 'willie')\n",
        "describe_pet('harry', 'hamster')\n",
        "describe_pet(animal_type='hamster', pet_name='harry')\n",
        "describe_pet(pet_name='harry', animal_type='hamster')"
      ],
      "metadata": {
        "colab": {
          "base_uri": "https://localhost:8080/"
        },
        "id": "zKm21Py0p_k-",
        "outputId": "8236dbcb-274d-451b-afca-4fa6af40b3da"
      },
      "execution_count": null,
      "outputs": [
        {
          "output_type": "stream",
          "name": "stdout",
          "text": [
            "\n",
            "I have a hamster.\n",
            "My hamster's name is Harry.\n",
            "\n",
            "I have a dog.\n",
            "My dog's name is Willie.\n",
            "\n",
            "I have a harry.\n",
            "My harry's name is Hamster.\n",
            "\n",
            "I have a hamster.\n",
            "My hamster's name is Harry.\n",
            "\n",
            "I have a hamster.\n",
            "My hamster's name is Harry.\n"
          ]
        }
      ]
    },
    {
      "cell_type": "code",
      "source": [
        "def describe_pet(pet_name, animal_type='dog'):\n",
        " \"\"\"Display information about a pet.\"\"\"\n",
        " print(\"\\nI have a \" + animal_type + \".\")\n",
        " print(\"My \" + animal_type + \"'s name is \" + pet_name.title() + \".\")\n",
        "\n",
        "describe_pet(pet_name='willie')\n",
        "describe_pet('willie')\n",
        "describe_pet(pet_name='harry', animal_type='hamster')"
      ],
      "metadata": {
        "colab": {
          "base_uri": "https://localhost:8080/"
        },
        "id": "acKNGTTwuXE0",
        "outputId": "62465a08-23a9-4961-af9f-abb03d621acd"
      },
      "execution_count": null,
      "outputs": [
        {
          "output_type": "stream",
          "name": "stdout",
          "text": [
            "\n",
            "I have a dog.\n",
            "My dog's name is Willie.\n",
            "\n",
            "I have a dog.\n",
            "My dog's name is Willie.\n",
            "\n",
            "I have a hamster.\n",
            "My hamster's name is Harry.\n"
          ]
        }
      ]
    },
    {
      "cell_type": "code",
      "source": [
        "#TiY 8-3\n",
        "def make_shirt(shirt_size, shirt_text):\n",
        "  \"\"\"display info about the size and text of a shirt\"\"\"\n",
        "  print(\"\\nThis shirt is a size \" + shirt_size + \" and it says \" + shirt_text + \" on it.\")\n",
        "\n",
        "make_shirt('small', 'Python')\n",
        "make_shirt(shirt_size='medium', shirt_text='Python')"
      ],
      "metadata": {
        "colab": {
          "base_uri": "https://localhost:8080/"
        },
        "id": "U7N5uDPQxT5E",
        "outputId": "b3caae2f-7bf4-4c5a-9f77-d2b71c303ee2"
      },
      "execution_count": null,
      "outputs": [
        {
          "output_type": "stream",
          "name": "stdout",
          "text": [
            "\n",
            "This shirt is a size small and it says Python on it.\n",
            "\n",
            "This shirt is a size medium and it says Python on it.\n"
          ]
        }
      ]
    },
    {
      "cell_type": "code",
      "source": [
        "#TiY 8-4\n",
        "def make_shirt(shirt_text='I love python', shirt_size='large'):\n",
        "  \"\"\"display info about the size and text of a shirt\"\"\"\n",
        "  print(\"\\nThis shirt is a size \" + shirt_size + \" and it says \" + shirt_text + \" on it.\")\n",
        "\n",
        "make_shirt()\n",
        "make_shirt(shirt_size='medium')\n",
        "make_shirt(shirt_text='thrift more!')"
      ],
      "metadata": {
        "colab": {
          "base_uri": "https://localhost:8080/"
        },
        "id": "ImrFWxvcypAr",
        "outputId": "2349288a-17cf-4793-ea36-51c49d71f5cc"
      },
      "execution_count": null,
      "outputs": [
        {
          "output_type": "stream",
          "name": "stdout",
          "text": [
            "\n",
            "This shirt is a size large and it says I love python on it.\n",
            "\n",
            "This shirt is a size medium and it says I love python on it.\n",
            "\n",
            "This shirt is a size large and it says thrift more! on it.\n"
          ]
        }
      ]
    },
    {
      "cell_type": "code",
      "source": [
        "def get_formatted_name(first_name, last_name):\n",
        "  \"\"\"Return a full name, neatly formatted.\"\"\"\n",
        "  full_name = first_name + ' ' + last_name\n",
        "  return full_name.title()\n",
        "\n",
        "musician = get_formatted_name('jimi', 'hendrix')\n",
        "print(musician)"
      ],
      "metadata": {
        "colab": {
          "base_uri": "https://localhost:8080/"
        },
        "id": "5GPe0QAN5WKe",
        "outputId": "9a69106d-3a72-4abd-f049-72260cb41fdf"
      },
      "execution_count": null,
      "outputs": [
        {
          "output_type": "stream",
          "name": "stdout",
          "text": [
            "Jimi Hendrix\n"
          ]
        }
      ]
    },
    {
      "cell_type": "code",
      "source": [
        "def get_formatted_name(first_name, middle_name, last_name):\n",
        " \"\"\"Return a full name, neatly formatted.\"\"\"\n",
        " full_name = first_name + ' ' + middle_name + ' ' + last_name\n",
        " return full_name.title()\n",
        "\n",
        "musician = get_formatted_name('john', 'lee', 'hooker')\n",
        "print(musician)"
      ],
      "metadata": {
        "colab": {
          "base_uri": "https://localhost:8080/"
        },
        "id": "rbOLuQSI7BcI",
        "outputId": "fa68a618-4f48-4b8e-c6ba-bd7ac1a6c690"
      },
      "execution_count": null,
      "outputs": [
        {
          "output_type": "stream",
          "name": "stdout",
          "text": [
            "John Lee Hooker\n"
          ]
        }
      ]
    },
    {
      "cell_type": "code",
      "source": [
        "def get_formatted_name(first_name, last_name, middle_name=''):\n",
        " \"\"\"Return a full name, neatly formatted.\"\"\"\n",
        " if middle_name:\n",
        "  full_name = first_name + ' ' + middle_name + ' ' + last_name\n",
        " else:\n",
        "  full_name = first_name + ' ' + last_name\n",
        " return full_name.title()\n",
        "musician = get_formatted_name('jimi', 'hendrix')\n",
        "print(musician)\n",
        "musician = get_formatted_name('john', 'hooker', 'lee')\n",
        "print(musician)"
      ],
      "metadata": {
        "colab": {
          "base_uri": "https://localhost:8080/"
        },
        "id": "zb6oAKig75SX",
        "outputId": "244bb77a-d478-4a17-c30d-9b09384a5e3a"
      },
      "execution_count": null,
      "outputs": [
        {
          "output_type": "stream",
          "name": "stdout",
          "text": [
            "Jimi Hendrix\n",
            "John Lee Hooker\n"
          ]
        }
      ]
    },
    {
      "cell_type": "code",
      "source": [
        "def build_person(first_name, last_name):\n",
        "  \"\"\"Return a dictionary of information about a person.\"\"\"\n",
        "  person = {'first': first_name, 'last': last_name}\n",
        "  return person\n",
        "\n",
        "musician = build_person('jimi', 'hendrix')\n",
        "print(musician)"
      ],
      "metadata": {
        "colab": {
          "base_uri": "https://localhost:8080/"
        },
        "id": "SlMnZ8kv8vCQ",
        "outputId": "9f7b200c-c9ca-495f-faf9-17a4831af87f"
      },
      "execution_count": null,
      "outputs": [
        {
          "output_type": "stream",
          "name": "stdout",
          "text": [
            "{'first': 'jimi', 'last': 'hendrix'}\n"
          ]
        }
      ]
    },
    {
      "cell_type": "code",
      "source": [
        "def build_person(first_name, last_name, age=''):\n",
        " \"\"\"Return a dictionary of information about a person.\"\"\"\n",
        " person = {'first': first_name, 'last': last_name}\n",
        " if age:\n",
        "  person['age'] = age\n",
        " return person\n",
        "\n",
        "musician = build_person('jimi', 'hendrix', age=27)\n",
        "print(musician)"
      ],
      "metadata": {
        "colab": {
          "base_uri": "https://localhost:8080/"
        },
        "id": "oWIn4iF7-Lth",
        "outputId": "86dac10a-6ca0-4cca-ca64-8b295f95e29a"
      },
      "execution_count": null,
      "outputs": [
        {
          "output_type": "stream",
          "name": "stdout",
          "text": [
            "{'first': 'jimi', 'last': 'hendrix', 'age': 27}\n"
          ]
        }
      ]
    },
    {
      "cell_type": "code",
      "source": [
        "def get_fornatted_name(first_name, last_name):\n",
        "  \"\"\"Return a full name, neatly formatted.\"\"\"\n",
        "  full_name = first_name + ' ' + last_name\n",
        "  return full_name.title()\n",
        "\n",
        "#this is an infinite loop!\n",
        "while True:\n",
        "  print(\"\\nPlease tell me your name: \")\n",
        "  print(\"(enter 'q' at any time to quit)\")\n",
        "\n",
        "  f_name = input(\"First name: \")\n",
        "  if f_name == 'q':\n",
        "    break\n",
        "  l_name = input(\"Last name: \")\n",
        "  if l_name == 'q':\n",
        "    break\n",
        "\n",
        "  formatted_name = get_formatted_name(f_name, l_name)\n",
        "  print(\"\\nHello, \" + formatted_name + \"!\")"
      ],
      "metadata": {
        "colab": {
          "base_uri": "https://localhost:8080/"
        },
        "id": "mtrJdmnu-8oM",
        "outputId": "c657d49d-5bda-4fd5-bfe0-b44101d8c5b8"
      },
      "execution_count": null,
      "outputs": [
        {
          "name": "stdout",
          "output_type": "stream",
          "text": [
            "\n",
            "Please tell me your name: \n",
            "(enter 'q' at any time to quit)\n",
            "First name: Lili\n",
            "Last name: Gunderson\n",
            "\n",
            "Hello, Lili Gunderson!\n",
            "\n",
            "Please tell me your name: \n",
            "(enter 'q' at any time to quit)\n",
            "First name: q\n"
          ]
        }
      ]
    },
    {
      "cell_type": "code",
      "source": [
        "def greet_users(names):\n",
        "  \"\"\"Print a simple greeting to each user in the list.\"\"\"\n",
        "  for name in names:\n",
        "    msg = \"Hello, \" + name.title() + \"!\"\n",
        "    print(msg)\n",
        "usernames = ['hannah', 'ty', 'margot']\n",
        "greet_users(usernames)"
      ],
      "metadata": {
        "colab": {
          "base_uri": "https://localhost:8080/"
        },
        "id": "GcCUusMaCEZm",
        "outputId": "b0c9d702-9084-48b2-cfea-65ba12015c9f"
      },
      "execution_count": null,
      "outputs": [
        {
          "output_type": "stream",
          "name": "stdout",
          "text": [
            "Hello, Hannah!\n",
            "Hello, Ty!\n",
            "Hello, Margot!\n"
          ]
        }
      ]
    },
    {
      "cell_type": "code",
      "source": [
        "# Start with some designs that need to be printed.\n",
        "unprinted_designs = ['iphone case', 'ropot pendant', 'dodecahedron']\n",
        "completed_models = []\n",
        "\n",
        "# Simulate printing each design, until none are left.\n",
        "# Move each design to completed_models after printing.\n",
        "while unprinted_designs:\n",
        "  current_design = unprinted_designs.pop()\n",
        "\n",
        "  # Simulate creating a 3D print from the design.\n",
        "  print(\"Printing model: \" + current_design)\n",
        "  completed_models.append(current_design)\n",
        "\n",
        "# Display all completed models.\n",
        "print(\"\\nThe following models have been printed:\")\n",
        "for completed_model in completed_models:\n",
        " print(completed_model)"
      ],
      "metadata": {
        "colab": {
          "base_uri": "https://localhost:8080/"
        },
        "id": "DQ6B1_JcDkPu",
        "outputId": "ea2349e7-eb19-445f-8bc6-aa56dde21ff1"
      },
      "execution_count": null,
      "outputs": [
        {
          "output_type": "stream",
          "name": "stdout",
          "text": [
            "Printing model: dodecahedron\n",
            "Printing model: ropot pendant\n",
            "Printing model: iphone case\n",
            "\n",
            "The following models have been printed:\n",
            "dodecahedron\n",
            "ropot pendant\n",
            "iphone case\n"
          ]
        }
      ]
    },
    {
      "cell_type": "code",
      "source": [
        "def print_models(unprinted_designs, completed_models):\n",
        " \"\"\"\n",
        " Simulate printing each design, until none are left.\n",
        " Move each design to completed_models after printing.\n",
        " \"\"\"\n",
        " while unprinted_designs:\n",
        "  current_design = unprinted_designs.pop()\n",
        "\n",
        "  # Simulate creating a 3D print from the design.\n",
        "  print(\"Printing model: \" + current_design)\n",
        "  completed_models.append(current_design)\n",
        "\n",
        "def show_completed_models(completed_models):\n",
        " \"\"\"Show all the models that were printed.\"\"\"\n",
        "print(\"\\nThe following models have been printed:\")\n",
        "for completed_model in completed_models:\n",
        "  print(completed_model)\n",
        "\n",
        "unprinted_designs = ['iphone case', 'robot pendant', 'dodecahedron']\n",
        "completed_models = []"
      ],
      "metadata": {
        "colab": {
          "base_uri": "https://localhost:8080/"
        },
        "id": "Nn3sGnmuGUw4",
        "outputId": "63431f03-736c-41f4-94fa-50b9eb56f948"
      },
      "execution_count": null,
      "outputs": [
        {
          "output_type": "stream",
          "name": "stdout",
          "text": [
            "\n",
            "The following models have been printed:\n",
            "dodecahedron\n",
            "ropot pendant\n",
            "iphone case\n"
          ]
        }
      ]
    },
    {
      "cell_type": "code",
      "source": [
        "function_name(list_name[:]) #send a copy of a list to a function like this\n",
        "print_models(unprinted_designs[:], completed_models) #this doesn't empty the list of unprinted designs\n"
      ],
      "metadata": {
        "id": "3nSedvzDHbs5"
      },
      "execution_count": null,
      "outputs": []
    },
    {
      "cell_type": "code",
      "source": [
        "def make_pizza(*toppings): #the * tells Python to make an empty tuple called toppings and pack whatever values it receives into this tuple\n",
        " \"\"\"Print the list of toppings that have been requested.\"\"\"\n",
        " print(toppings)\n",
        "\n",
        "make_pizza('pepperoni')\n",
        "make_pizza('mushrooms', 'green peppers', 'extra cheese')"
      ],
      "metadata": {
        "colab": {
          "base_uri": "https://localhost:8080/"
        },
        "id": "w2Ab0VSCoLT5",
        "outputId": "7ed52822-8ca2-4ca2-ab01-26f82d0d6c5f"
      },
      "execution_count": 1,
      "outputs": [
        {
          "output_type": "stream",
          "name": "stdout",
          "text": [
            "('pepperoni',)\n",
            "('mushrooms', 'green peppers', 'extra cheese')\n"
          ]
        }
      ]
    },
    {
      "cell_type": "code",
      "source": [
        "def make_pizza(*toppings):\n",
        " \"\"\"Summarize the pizza we are about to make.\"\"\"\n",
        " print(\"\\nMaking a pizza with the following toppings:\")\n",
        " for topping in toppings:\n",
        "  print(\"- \" + topping)\n",
        "\n",
        "make_pizza('pepperoni')\n",
        "make_pizza('mushrooms', 'green peppers', 'extra cheese')"
      ],
      "metadata": {
        "colab": {
          "base_uri": "https://localhost:8080/"
        },
        "id": "_WNaYnL1oj87",
        "outputId": "d16de20d-4d55-4a7c-e320-a7b8eb7f3586"
      },
      "execution_count": 2,
      "outputs": [
        {
          "output_type": "stream",
          "name": "stdout",
          "text": [
            "\n",
            "Making a pizza with the following toppings:\n",
            "- pepperoni\n",
            "\n",
            "Making a pizza with the following toppings:\n",
            "- mushrooms\n",
            "- green peppers\n",
            "- extra cheese\n"
          ]
        }
      ]
    },
    {
      "cell_type": "code",
      "source": [
        "def make_pizza(size, *toppings):\n",
        " \"\"\"Summarize the pizza we are about to make.\"\"\"\n",
        " print(\"\\nMaking a \" + str(size) +\n",
        " \"-inch pizza with the following toppings:\")\n",
        " for topping in toppings:\n",
        "  print(\"- \" + topping)\n",
        "\n",
        "make_pizza(16, 'pepperoni')\n",
        "make_pizza(12, 'mushrooms', 'green peppers', 'extra cheese')"
      ],
      "metadata": {
        "colab": {
          "base_uri": "https://localhost:8080/"
        },
        "id": "XTuIjbvko5Qe",
        "outputId": "3a4a91bf-3d82-4684-e0ba-b0cbb7bff739"
      },
      "execution_count": 3,
      "outputs": [
        {
          "output_type": "stream",
          "name": "stdout",
          "text": [
            "\n",
            "Making a 16-inch pizza with the following toppings:\n",
            "- pepperoni\n",
            "\n",
            "Making a 12-inch pizza with the following toppings:\n",
            "- mushrooms\n",
            "- green peppers\n",
            "- extra cheese\n"
          ]
        }
      ]
    },
    {
      "cell_type": "code",
      "source": [
        "def build_profile(first, last, **user_info):\n",
        " \"\"\"Build a dictionary containing everything we know about a user.\"\"\"\n",
        " profile = {}\n",
        " profile['first_name'] = first\n",
        " profile['last_name'] = last\n",
        " for key, value in user_info.items():\n",
        "  profile[key] = value\n",
        " return profile\n",
        "\n",
        "user_profile = build_profile('albert', 'einstein', location='princeton', field='physics')\n",
        "\n",
        "print(user_profile)\n"
      ],
      "metadata": {
        "colab": {
          "base_uri": "https://localhost:8080/"
        },
        "id": "IjJFmC-gpbD4",
        "outputId": "790471a5-a63f-404a-8fb9-68354c6fcc15"
      },
      "execution_count": 4,
      "outputs": [
        {
          "output_type": "stream",
          "name": "stdout",
          "text": [
            "{'first_name': 'albert', 'last_name': 'einstein', 'location': 'princeton', 'field': 'physics'}\n"
          ]
        }
      ]
    },
    {
      "cell_type": "code",
      "source": [
        "#TiY 8-14\n",
        "def build_car(manufacturer, model_name, **car_info):\n",
        "  \"\"\"store information about a car in a dictionary\"\"\"\n",
        "  car = {}\n",
        "  car['manufacturer'] = manufacturer\n",
        "  car['model_name'] = model_name\n",
        "  for key, value in car_info.items():\n",
        "    car[key] = value\n",
        "  return car\n",
        "\n",
        "generating_car = build_car('Honda', 'Accord', year= '1997', color= 'champagne')\n",
        "\n",
        "print(generating_car)\n",
        "\n"
      ],
      "metadata": {
        "colab": {
          "base_uri": "https://localhost:8080/"
        },
        "id": "ZNvUK51wrIO9",
        "outputId": "d4b78103-2cba-429e-9003-2cd548905695"
      },
      "execution_count": 7,
      "outputs": [
        {
          "output_type": "stream",
          "name": "stdout",
          "text": [
            "{'manufacturer': 'Honda', 'model_name': 'Accord', 'year': '1997', 'color': 'champagne'}\n"
          ]
        }
      ]
    },
    {
      "cell_type": "code",
      "source": [
        "#Function assignment\n",
        "import math\n",
        "\n",
        "def numbers(num1, num2 = math.pi):\n",
        "  \"\"\"two #'s and returning their sum + a list that is sorted, num2 defaults to pi if not provided\"\"\"\n",
        "  sum = num1 + num2\n",
        "\n",
        "  sorted_num = sorted([num1, num2])\n",
        "\n",
        "  return sum, sorted_num\n",
        "\n",
        "#test case 1\n",
        "test1 = numbers(4)\n",
        "print(test1)\n",
        "\n",
        "#test case 2\n",
        "test2 = numbers(6, 3)\n",
        "print(test2)\n",
        ""
      ],
      "metadata": {
        "colab": {
          "base_uri": "https://localhost:8080/"
        },
        "id": "mnhcS8L4s86u",
        "outputId": "906ffcf5-7591-4c44-858a-6c641ca51514"
      },
      "execution_count": 12,
      "outputs": [
        {
          "output_type": "stream",
          "name": "stdout",
          "text": [
            "(7.141592653589793, [3.141592653589793, 4])\n",
            "(9, [3, 6])\n"
          ]
        }
      ]
    },
    {
      "cell_type": "code",
      "source": [
        "#Function assignment w/ verbose\n",
        "import math\n",
        "\n",
        "def numbers(num1, num2 = math.pi, verbose = False):\n",
        "  \"\"\"two #'s and returning their sum + a list that is sorted, num2 defaults to pi if not provided\"\"\"\n",
        "  sum = num1 + num2\n",
        "\n",
        "  sorted_num = sorted([num1, num2])\n",
        "\n",
        "  if verbose == True :\n",
        "        print(f\"Parameters: num1 = {num1}, num2 = {num2}\")\n",
        "        print(f\"Results: Sum = {sum}, Sorted List ={sorted_num}\")\n",
        "\n",
        "  return sum, sorted_num\n",
        "\n",
        "#test case 3\n",
        "test3 = numbers(8, 2, verbose = True)\n",
        "print(test3)"
      ],
      "metadata": {
        "colab": {
          "base_uri": "https://localhost:8080/"
        },
        "id": "R5shQg_exlOF",
        "outputId": "bc696677-993e-4113-fb81-5cfe255b8599"
      },
      "execution_count": 17,
      "outputs": [
        {
          "output_type": "stream",
          "name": "stdout",
          "text": [
            "Parameters: num1 = 8, num2 = 2\n",
            "Results: Sum = 10, Sorted List =[2, 8]\n",
            "(10, [2, 8])\n"
          ]
        }
      ]
    }
  ]
}