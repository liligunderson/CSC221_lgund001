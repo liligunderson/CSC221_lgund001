{
  "nbformat": 4,
  "nbformat_minor": 0,
  "metadata": {
    "colab": {
      "provenance": [],
      "authorship_tag": "ABX9TyOZpF2gX6+RL8p9dDcZWKfn",
      "include_colab_link": true
    },
    "kernelspec": {
      "name": "python3",
      "display_name": "Python 3"
    },
    "language_info": {
      "name": "python"
    }
  },
  "cells": [
    {
      "cell_type": "markdown",
      "metadata": {
        "id": "view-in-github",
        "colab_type": "text"
      },
      "source": [
        "<a href=\"https://colab.research.google.com/github/liligunderson/CSC221_lgund001/blob/main/Assignment23_25.ipynb\" target=\"_parent\"><img src=\"https://colab.research.google.com/assets/colab-badge.svg\" alt=\"Open In Colab\"/></a>"
      ]
    },
    {
      "cell_type": "markdown",
      "source": [
        "Lilian Gunderson. Assignment 23-25."
      ],
      "metadata": {
        "id": "fqZE-9F2uc-Y"
      }
    },
    {
      "cell_type": "code",
      "execution_count": 1,
      "metadata": {
        "colab": {
          "base_uri": "https://localhost:8080/"
        },
        "id": "FsMLRsr_o7IK",
        "outputId": "f0def432-7cef-4ebc-d826-6888161c180d"
      },
      "outputs": [
        {
          "output_type": "stream",
          "name": "stdout",
          "text": [
            "10\n",
            "0\n"
          ]
        }
      ],
      "source": [
        "#1 positional argument:\n",
        "\n",
        "def func(c, d=0):\n",
        "    return c * d\n",
        "\n",
        "#test code:\n",
        "result = func(5, 2)\n",
        "print(result)\n",
        "\n",
        "result2 = func(5)\n",
        "print(result2)\n"
      ]
    },
    {
      "cell_type": "code",
      "source": [
        "#2 Variadic argument:\n",
        "\n",
        "def func(*args):\n",
        "    return sum(args)\n",
        "\n",
        "#test code:\n",
        "result = func(1, 2, 3, 4)\n",
        "print(result)\n"
      ],
      "metadata": {
        "colab": {
          "base_uri": "https://localhost:8080/"
        },
        "id": "oVVW6LaerrFY",
        "outputId": "c760cc4a-ebbd-48bf-8eb6-309fe4b14cc0"
      },
      "execution_count": null,
      "outputs": [
        {
          "output_type": "stream",
          "name": "stdout",
          "text": [
            "10\n"
          ]
        }
      ]
    },
    {
      "cell_type": "code",
      "source": [
        "#3 Keyword argument:\n",
        "\n",
        "def func(**kwargs):\n",
        "    return kwargs.get('a', 0) + kwargs.get('b', 0)\n",
        "\n",
        "#test code\n",
        "result = func(a=2, b=3)\n",
        "print(result)  # Output: 5\n"
      ],
      "metadata": {
        "id": "aA84oenwsuj9",
        "colab": {
          "base_uri": "https://localhost:8080/"
        },
        "outputId": "c4df2891-9bdf-4402-e1c9-207277f7ea0f"
      },
      "execution_count": null,
      "outputs": [
        {
          "output_type": "stream",
          "name": "stdout",
          "text": [
            "5\n"
          ]
        }
      ]
    },
    {
      "cell_type": "code",
      "source": [
        "#4 Combining Positional and Keyword Arguments:\n",
        "\n",
        "def func(*args, **kwargs):\n",
        "    operator = kwargs.get('operator', '+')\n",
        "    if operator == '+':\n",
        "        return sum(args)\n",
        "    elif operator == '-':\n",
        "        return args[0] - sum(args[1:])\n",
        "    else:\n",
        "        return None\n",
        "\n",
        "#test code\n",
        "result = func(1, 2, 3, operator='+')\n",
        "print(result)  # Output: 6\n"
      ],
      "metadata": {
        "id": "cu3wnCNuswm6",
        "colab": {
          "base_uri": "https://localhost:8080/"
        },
        "outputId": "cce41f4e-e27b-4728-c903-1e961b4a001b"
      },
      "execution_count": null,
      "outputs": [
        {
          "output_type": "stream",
          "name": "stdout",
          "text": [
            "6\n"
          ]
        }
      ]
    },
    {
      "cell_type": "code",
      "source": [
        "#5 Global variable and function:\n",
        "\n",
        "global_var = 10\n",
        "\n",
        "def modify_global_var(value):\n",
        "    global global_var\n",
        "    global_var += value\n",
        "\n",
        "#test code\n",
        "modify_global_var(5)\n",
        "print(global_var)  # Output: 15\n"
      ],
      "metadata": {
        "id": "YPVzutGdszn5",
        "colab": {
          "base_uri": "https://localhost:8080/"
        },
        "outputId": "dfd8cf60-8d5f-47e6-f056-6eac80485d03"
      },
      "execution_count": null,
      "outputs": [
        {
          "output_type": "stream",
          "name": "stdout",
          "text": [
            "15\n"
          ]
        }
      ]
    },
    {
      "cell_type": "code",
      "source": [
        "#6 Lambda Function for Sorting:\n",
        "\n",
        "sorted_by_vowels = lambda word: sum(1 for char in word if char.lower() in 'aeiou')\n",
        "\n",
        "#test code\n",
        "words = ['apple', 'banana', 'grape', 'kiwi']\n",
        "sorted_words = sorted(words, key=sorted_by_vowels)\n",
        "print(sorted_words)  # Output: ['kiwi', 'apple', 'banana', 'grape']\n"
      ],
      "metadata": {
        "id": "tkYSJ_aMs2_z",
        "colab": {
          "base_uri": "https://localhost:8080/"
        },
        "outputId": "acec3c27-6d84-428b-c593-40af3574501a"
      },
      "execution_count": null,
      "outputs": [
        {
          "output_type": "stream",
          "name": "stdout",
          "text": [
            "['apple', 'grape', 'kiwi', 'banana']\n"
          ]
        }
      ]
    },
    {
      "cell_type": "code",
      "source": [
        "#7 Logger Decorator:\n",
        "\n",
        "def logger(func):\n",
        "    def wrapper(*args, **kwargs):\n",
        "        result = func(*args, **kwargs)\n",
        "        with open('log.txt', 'a') as log_file:\n",
        "            log_file.write(f\"{func.__name__}({args}, {kwargs}) = {result}\\n\")\n",
        "            log_file.flush()\n",
        "        print(f\"Logged: {func.__name__}({args}, {kwargs}) = {result}\")\n",
        "        return result\n",
        "    return wrapper\n",
        "\n",
        "@logger\n",
        "def add(a, b):\n",
        "    return a + b\n",
        "\n",
        "# test code\n",
        "result = add(2, 3)\n"
      ],
      "metadata": {
        "colab": {
          "base_uri": "https://localhost:8080/"
        },
        "id": "Fu9BXJgr2R_X",
        "outputId": "2e0c8250-d518-4cbf-8fd9-b5dc6ecf843c"
      },
      "execution_count": null,
      "outputs": [
        {
          "output_type": "stream",
          "name": "stdout",
          "text": [
            "Logged: add((2, 3), {}) = 5\n"
          ]
        }
      ]
    },
    {
      "cell_type": "code",
      "source": [
        "#8 Map, Filter, and Reduce:\n",
        "\n",
        "# Map\n",
        "numbers = [1, 2, 3, 4]\n",
        "squared_numbers = list(map(lambda x: x**2, numbers))\n",
        "print(squared_numbers)  # Output: [1, 4, 9, 16]\n",
        "\n",
        "# Filter\n",
        "even_numbers = list(filter(lambda x: x % 2 == 0, numbers))\n",
        "print(even_numbers)  # Output: [2, 4]\n",
        "\n",
        "# Reduce\n",
        "from functools import reduce\n",
        "product = reduce(lambda x, y: x * y, numbers)\n",
        "print(product)  # Output: 24\n",
        "\n",
        "#test code is included within this code"
      ],
      "metadata": {
        "id": "IS6rqIIus73Z",
        "colab": {
          "base_uri": "https://localhost:8080/"
        },
        "outputId": "3378ee77-9abc-45fa-d23e-98db68f55a3f"
      },
      "execution_count": null,
      "outputs": [
        {
          "output_type": "stream",
          "name": "stdout",
          "text": [
            "[1, 4, 9, 16]\n",
            "[2, 4]\n",
            "24\n"
          ]
        }
      ]
    },
    {
      "cell_type": "code",
      "source": [
        "#9 Simple Calculator with exec():\n",
        "\n",
        "while True:\n",
        "    expression = input(\"Enter a Python expression (e.g., '5 + 3 - 8 / 12'): \")\n",
        "    if expression.lower() == 'exit':\n",
        "        break\n",
        "    try:\n",
        "        result = None\n",
        "        exec(f\"result = {expression}\")\n",
        "        print(\"Result:\", result)\n",
        "    except Exception as e:\n",
        "        print(\"Error:\", e)\n",
        "\n",
        "#code is prompted when you run the cell to show that it works\n"
      ],
      "metadata": {
        "colab": {
          "base_uri": "https://localhost:8080/"
        },
        "id": "dLz6XvDes_PT",
        "outputId": "88d576fb-2068-4ed2-dfdb-0337215004e9"
      },
      "execution_count": null,
      "outputs": [
        {
          "name": "stdout",
          "output_type": "stream",
          "text": [
            "Enter a Python expression (e.g., '5 + 3 - 8 / 12'): 5 + 3 - 8 / 12\n",
            "Result: 7.333333333333333\n",
            "Enter a Python expression (e.g., '5 + 3 - 8 / 12'): quit\n",
            "Result: <IPython.core.autocall.ZMQExitAutocall object at 0x7c22a2c06fb0>\n",
            "Enter a Python expression (e.g., '5 + 3 - 8 / 12'): exit\n"
          ]
        }
      ]
    }
  ]
}