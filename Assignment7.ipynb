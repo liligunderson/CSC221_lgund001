{
  "nbformat": 4,
  "nbformat_minor": 0,
  "metadata": {
    "colab": {
      "provenance": [],
      "authorship_tag": "ABX9TyNA526vfnAma3RFK06rJqTx",
      "include_colab_link": true
    },
    "kernelspec": {
      "name": "python3",
      "display_name": "Python 3"
    },
    "language_info": {
      "name": "python"
    }
  },
  "cells": [
    {
      "cell_type": "markdown",
      "metadata": {
        "id": "view-in-github",
        "colab_type": "text"
      },
      "source": [
        "<a href=\"https://colab.research.google.com/github/liligunderson/CSC221_lgund001/blob/main/Assignment7.ipynb\" target=\"_parent\"><img src=\"https://colab.research.google.com/assets/colab-badge.svg\" alt=\"Open In Colab\"/></a>"
      ]
    },
    {
      "cell_type": "markdown",
      "source": [
        "Lili Gunderson\n",
        "Assignment #7"
      ],
      "metadata": {
        "id": "m-oBQIkX7UfJ"
      }
    },
    {
      "cell_type": "code",
      "execution_count": 9,
      "metadata": {
        "colab": {
          "base_uri": "https://localhost:8080/"
        },
        "id": "E_KW99I-Y_Tg",
        "outputId": "6f03d6f8-22c5-499a-987f-11ddcc1b6e3e"
      },
      "outputs": [
        {
          "output_type": "stream",
          "name": "stdout",
          "text": [
            "green\n",
            "5\n",
            "You just earned 5 points!\n",
            "{'color': 'green', 'points': 5, 'x_position': 0, 'y_position': 25}\n",
            "{'color': 'green', 'points': 5}\n",
            "The alien is green.\n",
            "The alien is now yellow.\n",
            "Original position: 0\n",
            "New position: 2\n",
            "{'color': 'green', 'points': 5}\n",
            "{'color': 'green'}\n"
          ]
        }
      ],
      "source": [
        "alien_0 = {'color': 'green', 'points':5}\n",
        "print(alien_0['color'])\n",
        "print(alien_0['points'])\n",
        "new_points = alien_0['points']\n",
        "print(f\"You just earned {new_points} points!\")\n",
        "\n",
        "alien_0['x_position'] = 0\n",
        "alien_0['y_position'] = 25\n",
        "print(alien_0)\n",
        "\n",
        "alien_0 = {}\n",
        "\n",
        "alien_0['color'] = 'green'\n",
        "alien_0['points'] = 5\n",
        "\n",
        "print(alien_0)\n",
        "\n",
        "alien_0 = {'color': 'green'}\n",
        "print(f\"The alien is {alien_0['color']}.\")\n",
        "alien_0['color'] = 'yellow'\n",
        "print(f\"The alien is now {alien_0['color']}.\")\n",
        "\n",
        "alien_0 = {'x_position': 0, 'y_position': 25, 'speed': 'medium'}\n",
        "print(f\"Original position: {alien_0['x_position']}\")\n",
        "\n",
        "# Move the alien to the right.\n",
        "# Determine how far to move the alien based on its current speed.\n",
        "\n",
        "if alien_0['speed'] == 'slow':\n",
        "  x_increment = 1\n",
        "elif alien_0['speed'] == 'medium':\n",
        "  x_increment = 2\n",
        "else:\n",
        "  #This must be a fast alien\n",
        "  x_increment = 3\n",
        "\n",
        "# The new position is the old position plus the increment.\n",
        "alien_0['x_position'] = alien_0['x_position'] + x_increment\n",
        "\n",
        "print(f\"New position: {alien_0['x_position']}\")\n",
        "\n",
        "alien_0['speed'] = 'fast'\n",
        "alien_0 = {'color': 'green', 'points': 5}\n",
        "print(alien_0)\n",
        "\n",
        "del alien_0['points']\n",
        "print(alien_0)"
      ]
    },
    {
      "cell_type": "code",
      "source": [
        "favorite_languages = {\n",
        "    'jen': 'python',\n",
        "    'sarah': 'c',\n",
        "    'edward': 'rust',\n",
        "    'phil': 'python',\n",
        "}\n",
        "\n",
        "language = favorite_languages['sarah'].title()\n",
        "print(f\"Sarah's favorite language is {language}.\")\n",
        "favorite_languages['sarah']"
      ],
      "metadata": {
        "colab": {
          "base_uri": "https://localhost:8080/",
          "height": 53
        },
        "id": "l5lXXGRoaxWi",
        "outputId": "d1272502-517b-4aeb-8da6-fc8d2406d27b"
      },
      "execution_count": 12,
      "outputs": [
        {
          "output_type": "stream",
          "name": "stdout",
          "text": [
            "Sarah's favorite language is C.\n"
          ]
        },
        {
          "output_type": "execute_result",
          "data": {
            "text/plain": [
              "'c'"
            ],
            "application/vnd.google.colaboratory.intrinsic+json": {
              "type": "string"
            }
          },
          "metadata": {},
          "execution_count": 12
        }
      ]
    },
    {
      "cell_type": "code",
      "source": [
        "alien_0 = {'color': 'green', 'speed': 'slow'}\n",
        "#print(alien_0['points'])\n",
        "point_value = alien_0.get('points', 'No point value assigned.')\n",
        "print(point_value)"
      ],
      "metadata": {
        "colab": {
          "base_uri": "https://localhost:8080/"
        },
        "id": "Kv6k0pncBRA2",
        "outputId": "8b73d223-4b33-4451-a992-c1f62fbd8feb"
      },
      "execution_count": 2,
      "outputs": [
        {
          "output_type": "stream",
          "name": "stdout",
          "text": [
            "No point value assigned.\n"
          ]
        }
      ]
    },
    {
      "cell_type": "code",
      "source": [
        "person = {'first_name': 'Acadia', 'last_name': 'Merson', 'age': 21, 'city': 'NJ'}\n",
        "print(person['first_name'])\n",
        "print(person['last_name'])\n",
        "print(person['age'])\n",
        "print(person['city'])\n"
      ],
      "metadata": {
        "colab": {
          "base_uri": "https://localhost:8080/"
        },
        "id": "RMPnjXIMHvXE",
        "outputId": "29566f69-59d2-4938-ec97-3bc4fb51c6a5"
      },
      "execution_count": 9,
      "outputs": [
        {
          "output_type": "stream",
          "name": "stdout",
          "text": [
            "Acadia\n",
            "Merson\n",
            "21\n",
            "NJ\n"
          ]
        }
      ]
    },
    {
      "cell_type": "code",
      "source": [
        "favorite_number = {\n",
        "    'lili': 8,\n",
        "    'carl': 6,\n",
        "    'ben': 12,\n",
        "    'sven': 16,\n",
        "    'bard': 23\n",
        "  }\n",
        "print(favorite_number['lili'])\n",
        "print(favorite_number['carl'])\n",
        "print(favorite_number['ben'])\n",
        "print(favorite_number['sven'])\n",
        "print(favorite_number['bard'])"
      ],
      "metadata": {
        "colab": {
          "base_uri": "https://localhost:8080/"
        },
        "id": "4xp2Dra247Ut",
        "outputId": "b1524ba1-e761-44e4-f2df-29c83d2d4a7f"
      },
      "execution_count": 15,
      "outputs": [
        {
          "output_type": "stream",
          "name": "stdout",
          "text": [
            "8\n",
            "6\n",
            "12\n",
            "16\n",
            "23\n"
          ]
        }
      ]
    },
    {
      "cell_type": "code",
      "source": [
        "words = {\n",
        "    'variable': 'container for storing data values',\n",
        "    'boolean': 'True or False values',\n",
        "    'if': 'evaluates a condition',\n",
        "    'elif': 'used for conditional statements after if',\n",
        "    'else': 'used for conditional statements if the statement is false'\n",
        "}\n",
        "print(f\"The word variable is a {words['variable']}.\")\n",
        "print(f\"\\nA boolean data type represents {words['boolean']}.\")\n",
        "print(f\"\\nThe keyword if {words['if']}.\")\n",
        "print(f\"\\nThe keyword elif is {words['elif']}.\")\n",
        "print(f\"\\nThe keyword else is {words['else']}.\")\n"
      ],
      "metadata": {
        "colab": {
          "base_uri": "https://localhost:8080/"
        },
        "id": "QK0JCoIg617-",
        "outputId": "e0cf4eb2-0cc1-43cc-ac8f-c0a49d57b23a"
      },
      "execution_count": 27,
      "outputs": [
        {
          "output_type": "stream",
          "name": "stdout",
          "text": [
            "The word variable is a container for storing data values.\n",
            "\n",
            "A boolean data type represents True or False values.\n",
            "\n",
            "The keyword if evaluates a condition.\n",
            "\n",
            "The keyword elif is used for conditional statements after if.\n",
            "\n",
            "The keyword else is used for conditional statements if the statement is false.\n"
          ]
        }
      ]
    },
    {
      "cell_type": "code",
      "source": [
        "user_0 = {\n",
        "    'username': 'efermi',\n",
        "    'first': 'enrico',\n",
        "    'last': 'fermi',\n",
        "}\n",
        "for key, value in user_0.items():\n",
        "  print(f\"\\nKey: {key}\")\n",
        "  print(f\"Value: {value}\")\n",
        "\n",
        "favorite_languages = {\n",
        " 'jen': 'python',\n",
        " 'sarah': 'c',\n",
        " 'edward': 'rust',\n",
        " 'phil': 'python',\n",
        " }\n",
        "\n",
        "for name, language in favorite_languages.items():\n",
        "  print(f\"\\n{name.title()}'s favorite langueage is {language.title()}.\")\n",
        "\n",
        "for name in favorite_languages.keys():\n",
        "  print(name.title())\n",
        "\n",
        "friends = ['phil', 'sarah']\n",
        "for name in favorite_languages.keys():\n",
        " print(f\"Hi {name.title()}.\")\n",
        "\n",
        " if name in friends:\n",
        "  language = favorite_languages[name].title()\n",
        "  print(f\"\\t{name.title()}, I see you love {language}!\")\n",
        "\n",
        "if 'erin' not in favorite_languages.keys():\n",
        "  print(\"Erin, please take our poll!\")\n",
        "\n",
        "for name in sorted(favorite_languages.keys()):\n",
        "  print(f\"{name.title()}, thank you for taking the poll.\")\n",
        "\n",
        "print(\"\\nThe following languages have been mentioned:\")\n",
        "for language in favorite_languages.values():\n",
        "  print(language.title())\n",
        "print(\"\\nThe following languages have been mentioned:\")\n",
        "for language in set(favorite_languages.values()):\n",
        "  print(language.title())\n",
        "languages = {'python', 'rust', 'python', 'c'}\n",
        "languages"
      ],
      "metadata": {
        "colab": {
          "base_uri": "https://localhost:8080/"
        },
        "id": "eEAqpCkRFrYd",
        "outputId": "8c821445-e2bb-47f1-ce88-3f6d3a7e5661"
      },
      "execution_count": 45,
      "outputs": [
        {
          "output_type": "stream",
          "name": "stdout",
          "text": [
            "\n",
            "Key: username\n",
            "Value: efermi\n",
            "\n",
            "Key: first\n",
            "Value: enrico\n",
            "\n",
            "Key: last\n",
            "Value: fermi\n",
            "\n",
            "Jen's favorite langueage is Python.\n",
            "\n",
            "Sarah's favorite langueage is C.\n",
            "\n",
            "Edward's favorite langueage is Rust.\n",
            "\n",
            "Phil's favorite langueage is Python.\n",
            "Jen\n",
            "Sarah\n",
            "Edward\n",
            "Phil\n",
            "Hi Jen.\n",
            "Hi Sarah.\n",
            "\tSarah, I see you love C!\n",
            "Hi Edward.\n",
            "Hi Phil.\n",
            "\tPhil, I see you love Python!\n",
            "Erin, please take our poll!\n",
            "Edward, thank you for taking the poll.\n",
            "Jen, thank you for taking the poll.\n",
            "Phil, thank you for taking the poll.\n",
            "Sarah, thank you for taking the poll.\n",
            "\n",
            "The following languages have been mentioned:\n",
            "Python\n",
            "C\n",
            "Rust\n",
            "Python\n",
            "\n",
            "The following languages have been mentioned:\n",
            "Python\n",
            "Rust\n",
            "C\n"
          ]
        },
        {
          "output_type": "execute_result",
          "data": {
            "text/plain": [
              "{'c', 'python', 'rust'}"
            ]
          },
          "metadata": {},
          "execution_count": 45
        }
      ]
    },
    {
      "cell_type": "code",
      "source": [
        "words = {\n",
        "    'variable': 'container for storing data values.',\n",
        "    'boolean': 'True or False values.',\n",
        "    'if': 'evaluates a condition.',\n",
        "    'elif': 'used for conditional statements after if.',\n",
        "    'else': 'used for conditional statements if the statement is false.',\n",
        "    'del': 'used to delete objects.',\n",
        "    'def': 'used to define a function.',\n",
        "    'function': 'a block of code that only runs when it is called.',\n",
        "    'not': 'inverts the truth value of a boolean expression',\n",
        "    'in': 'used to see if a value is in a sequence'\n",
        "}\n",
        "for word in words.keys():\n",
        "  print(f\"\\nProgramming word: {word}\")\n",
        "for definition in words.values():\n",
        "  print(f\"\\nProgramming vocab definition: {definition.capitalize()}\")"
      ],
      "metadata": {
        "colab": {
          "base_uri": "https://localhost:8080/"
        },
        "id": "GMTArtgyPUsG",
        "outputId": "0772c063-dda7-4e61-f94d-075fc2518e0a"
      },
      "execution_count": 57,
      "outputs": [
        {
          "output_type": "stream",
          "name": "stdout",
          "text": [
            "\n",
            "Programming word: variable\n",
            "\n",
            "Programming word: boolean\n",
            "\n",
            "Programming word: if\n",
            "\n",
            "Programming word: elif\n",
            "\n",
            "Programming word: else\n",
            "\n",
            "Programming word: del\n",
            "\n",
            "Programming word: def\n",
            "\n",
            "Programming word: function\n",
            "\n",
            "Programming word: not\n",
            "\n",
            "Programming word: in\n",
            "\n",
            "Programming vocab definition: Container for storing data values.\n",
            "\n",
            "Programming vocab definition: True or false values.\n",
            "\n",
            "Programming vocab definition: Evaluates a condition.\n",
            "\n",
            "Programming vocab definition: Used for conditional statements after if.\n",
            "\n",
            "Programming vocab definition: Used for conditional statements if the statement is false.\n",
            "\n",
            "Programming vocab definition: Used to delete objects.\n",
            "\n",
            "Programming vocab definition: Used to define a function.\n",
            "\n",
            "Programming vocab definition: A block of code that only runs when it is called.\n",
            "\n",
            "Programming vocab definition: Inverts the truth value of a boolean expression\n",
            "\n",
            "Programming vocab definition: Used to see if a value is in a sequence\n"
          ]
        }
      ]
    },
    {
      "cell_type": "code",
      "source": [
        "alien_0 = {'color': 'green', 'points': 5}\n",
        "alien_1 = {'color': 'yellow', 'points': 10}\n",
        "alien_2 = {'color': 'red', 'points': 15}\n",
        "\n",
        "aliens = [alien_0, alien_1, alien_2]\n",
        "\n",
        "for alien in aliens:\n",
        "  print(alien)\n",
        "\n",
        "#Make an empty list for storing aliens.\n",
        "aliens = []\n",
        "\n",
        "#make 30 green aliens.\n",
        "for alien_number in range(30):\n",
        "  new_alien = {'color': 'green', 'points': 5, 'speed': 'slow'}\n",
        "  aliens.append(new_alien)\n",
        "\n",
        "for alien in aliens[:3]:\n",
        "  if alien['color'] == 'green':\n",
        "    alien['color'] = 'yellow'\n",
        "    alien['speed'] = 'medium'\n",
        "    alien['points'] = 10\n",
        "  elif alien['color'] == 'yellow':\n",
        "    alien['color'] = 'red'\n",
        "    alien['speed'] = 'fast'\n",
        "    alien['points'] = 15\n",
        "\n",
        "#show the first 5 aliens.\n",
        "for alien in aliens[:5]:\n",
        "  print(alien)\n",
        "print(\"...\")\n",
        "\n",
        "#show how many aliens have been created.\n",
        "print(f\"Total number of aliens: {len(aliens)}\")"
      ],
      "metadata": {
        "colab": {
          "base_uri": "https://localhost:8080/"
        },
        "id": "JFwpM-U4iDGR",
        "outputId": "8e5253b0-34bc-4602-8df4-1aa6748ff620"
      },
      "execution_count": 8,
      "outputs": [
        {
          "output_type": "stream",
          "name": "stdout",
          "text": [
            "{'color': 'green', 'points': 5}\n",
            "{'color': 'yellow', 'points': 10}\n",
            "{'color': 'red', 'points': 15}\n",
            "{'color': 'yellow', 'points': 10, 'speed': 'medium'}\n",
            "{'color': 'yellow', 'points': 10, 'speed': 'medium'}\n",
            "{'color': 'yellow', 'points': 10, 'speed': 'medium'}\n",
            "{'color': 'green', 'points': 5, 'speed': 'slow'}\n",
            "{'color': 'green', 'points': 5, 'speed': 'slow'}\n",
            "...\n",
            "Total number of aliens: 30\n"
          ]
        }
      ]
    },
    {
      "cell_type": "code",
      "source": [
        "#Store information about a pizza being ordered.\n",
        "pizza = {\n",
        "    'crust': 'thick',\n",
        "    'toppings': ['mushrooms', 'extra cheese'],\n",
        "}\n",
        "#Summarize the order.\n",
        "print(f\"You ordered a {pizza['crust']}-crust pizza \"\n",
        "  \"with the following toppings:\")\n",
        "\n",
        "for topping in pizza['toppings']:\n",
        " print(f\"\\t{topping}\")"
      ],
      "metadata": {
        "colab": {
          "base_uri": "https://localhost:8080/"
        },
        "id": "kUZPk6mioAKQ",
        "outputId": "a586df0f-c073-4e78-90ae-4a0fe8314b79"
      },
      "execution_count": 14,
      "outputs": [
        {
          "output_type": "stream",
          "name": "stdout",
          "text": [
            "You ordered a thick-crust pizza with the following toppings:\n",
            "\tmushrooms\n",
            "\textra cheese\n"
          ]
        }
      ]
    },
    {
      "cell_type": "code",
      "source": [
        "favorite_languages = {\n",
        "    'jen': ['python', 'rust'],\n",
        "    'sarah': ['c'],\n",
        "    'edward': ['rust', 'go'],\n",
        "    'phil': ['python', 'haskell'],\n",
        "}\n",
        "\n",
        "for name, languages in favorite_languages.items():\n",
        "  print(f\"\\n{name.title()}'s favorite languages are:\")\n",
        "  for language in languages:\n",
        "    print(f\"\\t{language.title()}\")"
      ],
      "metadata": {
        "colab": {
          "base_uri": "https://localhost:8080/"
        },
        "id": "C748y-x2qonQ",
        "outputId": "7ff75383-803d-43d8-c3fc-8a43c55c1c06"
      },
      "execution_count": 16,
      "outputs": [
        {
          "output_type": "stream",
          "name": "stdout",
          "text": [
            "\n",
            "Jen's favorite languages are:\n",
            "\tPython\n",
            "\tRust\n",
            "\n",
            "Sarah's favorite languages are:\n",
            "\tC\n",
            "\n",
            "Edward's favorite languages are:\n",
            "\tRust\n",
            "\tGo\n",
            "\n",
            "Phil's favorite languages are:\n",
            "\tPython\n",
            "\tHaskell\n"
          ]
        }
      ]
    },
    {
      "cell_type": "code",
      "source": [
        "users = {\n",
        "    'aeinstein':{\n",
        "        'first': 'albert',\n",
        "        'last': 'einstein',\n",
        "        'location': 'princeton',\n",
        "    },\n",
        "    'mcurie':{\n",
        "        'first': 'marie',\n",
        "        'last': 'curie',\n",
        "        'location': 'paris',\n",
        "    },\n",
        "}\n",
        "\n",
        "for username, user_info in users.items():\n",
        "  print(f\"\\nUsername: {username}\")\n",
        "  full_name = f\"{user_info['first']} {user_info['last']}\"\n",
        "  location = user_info['location']\n",
        "\n",
        "  print(f\"\\tFull name: {full_name.title()}\")\n",
        "  print(f\"\\tLocation: {location.title()}\")"
      ],
      "metadata": {
        "colab": {
          "base_uri": "https://localhost:8080/"
        },
        "id": "O44oMqkos12B",
        "outputId": "11ecaaec-ba89-4e45-9a1e-6fed84da8ecb"
      },
      "execution_count": 20,
      "outputs": [
        {
          "output_type": "stream",
          "name": "stdout",
          "text": [
            "\n",
            "Username: aeinstein\n",
            "\tFull name: Albert Einstein\n",
            "\tLocation: Princeton\n",
            "\n",
            "Username: mcurie\n",
            "\tFull name: Marie Curie\n",
            "\tLocation: Paris\n"
          ]
        }
      ]
    },
    {
      "cell_type": "code",
      "source": [
        "cities = {\n",
        "    'ithaca':{\n",
        "        'country': 'USA',\n",
        "        'population': 31710,\n",
        "        'fact': 'has many waterfalls.',\n",
        "    },\n",
        "    'paris':{\n",
        "        'country': 'France',\n",
        "        'population': 2_000_000,\n",
        "        'fact': 'only one stop sign in the whole city.',\n",
        "    },\n",
        "    'geneva':{\n",
        "        'country': 'Switzerland',\n",
        "        'population': 198979,\n",
        "        'fact': 'the second biggest city in Switzerland.'\n",
        "    },\n",
        "}\n",
        "\n",
        "for city, city_info in cities.items():\n",
        "  print(f\"\\nCity: {city.title()}\")\n",
        "  print(f\"Country: {city_info['country']}\")\n",
        "  print(f\"Population: {city_info['population']}\")\n",
        "  print(f\"Fact: {city_info['fact'].capitalize()}\")"
      ],
      "metadata": {
        "colab": {
          "base_uri": "https://localhost:8080/"
        },
        "id": "7ZUUQG4vvsvC",
        "outputId": "8d111f9d-31c2-497b-9449-a9b240425d24"
      },
      "execution_count": 51,
      "outputs": [
        {
          "output_type": "stream",
          "name": "stdout",
          "text": [
            "\n",
            "City: Ithaca\n",
            "Country: USA\n",
            "Population: 31710\n",
            "Fact: Has many waterfalls.\n",
            "\n",
            "City: Paris\n",
            "Country: France\n",
            "Population: 2000000\n",
            "Fact: Only one stop sign in the whole city.\n",
            "\n",
            "City: Geneva\n",
            "Country: Switzerland\n",
            "Population: 198979\n",
            "Fact: The second biggest city in switzerland.\n"
          ]
        }
      ]
    },
    {
      "cell_type": "code",
      "source": [
        "users = {\n",
        "    'aeinstein':{\n",
        "        'first': 'albert',\n",
        "        'last': 'einstein',\n",
        "        'location': 'princeton',\n",
        "        'favorite thing': 'chalk',\n",
        "    },\n",
        "    'mcurie':{\n",
        "        'first': 'marie',\n",
        "        'last': 'curie',\n",
        "        'location': 'paris',\n",
        "        'favorite thing': 'test tubes',\n",
        "    },\n",
        "    'bobjoe':{\n",
        "        'first': 'bob',\n",
        "        'last': 'joe',\n",
        "        'location': 'antarctica',\n",
        "        'favorite thing': 'combat boots'\n",
        "\n",
        "    },\n",
        "    'Lhoward':{\n",
        "        'first': 'leo',\n",
        "        'last': 'howard',\n",
        "        'location': 'los angeles',\n",
        "        'favorite thing': 'ice-cream'\n",
        "    },\n",
        "    'dsalvatore':{\n",
        "        'first': 'damon',\n",
        "        'last': 'salvatore',\n",
        "        'location': 'mystic falls',\n",
        "        'favorite thing': 'elena',\n",
        "    },\n",
        "}\n",
        "for username, user_info in users.items():\n",
        "  print(f\"\\nUsername: {username}\")\n",
        "  full_name = f\"{user_info['first']} {user_info['last']}\"\n",
        "  location = user_info['location']\n",
        "\n",
        "  print(f\"\\tFull name: {full_name.title()}\")\n",
        "  print(f\"\\tLocation: {location.title()}\")\n",
        "  print(f\"\\tFavorite thing: {user_info['favorite thing'].capitalize()}\")"
      ],
      "metadata": {
        "colab": {
          "base_uri": "https://localhost:8080/"
        },
        "id": "hYcVdN6c-RyC",
        "outputId": "32b2fe0c-fa40-4fae-fce8-4358c6587a0c"
      },
      "execution_count": 57,
      "outputs": [
        {
          "output_type": "stream",
          "name": "stdout",
          "text": [
            "\n",
            "Username: aeinstein\n",
            "\tFull name: Albert Einstein\n",
            "\tLocation: Princeton\n",
            "\tFavorite thing: Chalk\n",
            "\n",
            "Username: mcurie\n",
            "\tFull name: Marie Curie\n",
            "\tLocation: Paris\n",
            "\tFavorite thing: Test tubes\n",
            "\n",
            "Username: bobjoe\n",
            "\tFull name: Bob Joe\n",
            "\tLocation: Antarctica\n",
            "\tFavorite thing: Combat boots\n",
            "\n",
            "Username: Lhoward\n",
            "\tFull name: Leo Howard\n",
            "\tLocation: Los Angeles\n",
            "\tFavorite thing: Ice-cream\n",
            "\n",
            "Username: dsalvatore\n",
            "\tFull name: Damon Salvatore\n",
            "\tLocation: Mystic Falls\n",
            "\tFavorite thing: Elena\n"
          ]
        }
      ]
    }
  ]
}