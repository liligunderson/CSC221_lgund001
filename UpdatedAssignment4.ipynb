{
  "cells": [
    {
      "cell_type": "markdown",
      "metadata": {
        "id": "view-in-github",
        "colab_type": "text"
      },
      "source": [
        "<a href=\"https://colab.research.google.com/github/liligunderson/CSC221_lgund001/blob/main/UpdatedAssignment4.ipynb\" target=\"_parent\"><img src=\"https://colab.research.google.com/assets/colab-badge.svg\" alt=\"Open In Colab\"/></a>"
      ]
    },
    {
      "cell_type": "markdown",
      "source": [
        "Lilian Gunderson\n",
        "\n",
        "Updated and fixed assignment 4 to include all the examples and TIY.\n",
        "Also fixed the last section to be a list comprehension."
      ],
      "metadata": {
        "id": "bptaLN4mcFcb"
      }
    },
    {
      "cell_type": "code",
      "execution_count": null,
      "metadata": {
        "colab": {
          "base_uri": "https://localhost:8080/"
        },
        "id": "l0nCYC1cv2M5",
        "outputId": "f0ee2336-50e9-49ad-ea2c-765f0986adce"
      },
      "outputs": [
        {
          "name": "stdout",
          "output_type": "stream",
          "text": [
            "['trek', 'cannondale', 'redline', 'specialized']\n",
            "trek\n",
            "Trek\n",
            "cannondale\n",
            "specialized\n",
            "specialized\n",
            "My first bicycle was a Trek.\n"
          ]
        }
      ],
      "source": [
        "bicycles = ['trek', 'cannondale', 'redline', 'specialized']\n",
        "print(bicycles)\n",
        "print(bicycles[0])\n",
        "print(bicycles[0].title())\n",
        "print(bicycles[1])\n",
        "print(bicycles[3])\n",
        "print(bicycles[-1])\n",
        "message = f\"My first bicycle was a {bicycles[0].title()}.\"\n",
        "print(message)"
      ]
    },
    {
      "cell_type": "code",
      "execution_count": null,
      "metadata": {
        "colab": {
          "base_uri": "https://localhost:8080/"
        },
        "id": "yqL-1NTyzs0G",
        "outputId": "860d6548-c59f-448b-a568-8b876d291915"
      },
      "outputs": [
        {
          "name": "stdout",
          "output_type": "stream",
          "text": [
            "How are you doing Acadia.\n",
            "How are you doing Pearl.\n",
            "How are you doing Catherine.\n",
            "How are you doing Hannah.\n",
            "one day I would like to own a BMW.\n",
            "the US should have more trains.\n",
            "I love to fly on a plane.\n"
          ]
        }
      ],
      "source": [
        "#TIY 3.1 & 3.2\n",
        "names = ['Acadia', 'Pearl', 'Catherine', 'Hannah']\n",
        "message = f\"How are you doing {names[0]}.\"\n",
        "message1 = f\"How are you doing {names[1]}.\"\n",
        "message2 = f\"How are you doing {names[2]}.\"\n",
        "message3 = f\"How are you doing {names[3]}.\"\n",
        "print(message)\n",
        "print(message1)\n",
        "print(message2)\n",
        "print(message3)\n",
        "vehicles = ['BMW', 'trains', 'plane']\n",
        "message = f\"one day I would like to own a {vehicles[0]}.\"\n",
        "print(message)\n",
        "message = f\"the US should have more {vehicles[1]}.\"\n",
        "print(message)\n",
        "message = f\"I love to fly on a {vehicles[-1]}.\"\n",
        "print(message)"
      ]
    },
    {
      "cell_type": "code",
      "execution_count": null,
      "metadata": {
        "colab": {
          "base_uri": "https://localhost:8080/"
        },
        "id": "JCyqjQZf5Ky7",
        "outputId": "4ddcde69-d121-4c78-9a15-7c56f639945c"
      },
      "outputs": [
        {
          "name": "stdout",
          "output_type": "stream",
          "text": [
            "['honda', 'yamaha', 'suzuki']\n",
            "['ducati', 'yamaha', 'suzuki']\n",
            "['ducati', 'yamaha', 'suzuki', 'ducati']\n"
          ]
        }
      ],
      "source": [
        "#TIY 3.3\n",
        "motorcycles = ['honda', 'yamaha', 'suzuki']\n",
        "print(motorcycles)\n",
        "motorcycles[0] = 'ducati'\n",
        "print(motorcycles)"
      ]
    },
    {
      "cell_type": "code",
      "execution_count": null,
      "metadata": {
        "colab": {
          "base_uri": "https://localhost:8080/"
        },
        "id": "Y28zALpO6D7g",
        "outputId": "f84c5f73-ccd4-4567-bc53-6ef2e9c3a678"
      },
      "outputs": [
        {
          "name": "stdout",
          "output_type": "stream",
          "text": [
            "['honda', 'yamaha', 'suzuki', 'ducati']\n",
            "['honda', 'yamaha', 'suzuki']\n",
            "['ducati', 'honda', 'yamaha', 'suzuki']\n",
            "['honda', 'yamaha', 'suzuki']\n",
            "['yamaha', 'suzuki']\n"
          ]
        }
      ],
      "source": [
        "motorcycles = ['honda', 'yamaha', 'suzuki']\n",
        "motorcycles.append('ducati')\n",
        "print(motorcycles)\n",
        "motorcycles = []\n",
        "motorcycles.append('honda')\n",
        "motorcycles.append('yamaha')\n",
        "motorcycles.append('suzuki')\n",
        "print(motorcycles)\n",
        "motorcycles = ['honda', 'yamaha', 'suzuki']\n",
        "motorcycles.insert(0, 'ducati')\n",
        "print(motorcycles)\n",
        "motorcycles = ['honda', 'yamaha', 'suzuki']\n",
        "print(motorcycles)\n",
        "del motorcycles[0]\n",
        "print(motorcycles)\n"
      ]
    },
    {
      "cell_type": "code",
      "execution_count": null,
      "metadata": {
        "colab": {
          "base_uri": "https://localhost:8080/"
        },
        "id": "Uy0MZoQw7jyz",
        "outputId": "777423ee-0bd9-4bcb-b619-150b0272c6a4"
      },
      "outputs": [
        {
          "name": "stdout",
          "output_type": "stream",
          "text": [
            "['honda', 'yamaha', 'suzuki']\n",
            "['honda', 'yamaha']\n",
            "suzuki\n",
            "the last motorcycle I owned was a Suzuki.\n",
            "the first motorcycle I owned was a Honda.\n"
          ]
        }
      ],
      "source": [
        "motorcycles = ['honda', 'yamaha', 'suzuki']\n",
        "print(motorcycles)\n",
        "popped_motorcycle = motorcycles.pop()\n",
        "print(motorcycles)\n",
        "print(popped_motorcycle)\n",
        "motorcycles = ['honda', 'yamaha', 'suzuki']\n",
        "last_owned = motorcycles.pop()\n",
        "print(f\"the last motorcycle I owned was a {last_owned.title()}.\")\n",
        "first_owned = motorcycles.pop(0)\n",
        "print(f\"the first motorcycle I owned was a {first_owned.title()}.\")"
      ]
    },
    {
      "cell_type": "code",
      "execution_count": 2,
      "metadata": {
        "colab": {
          "base_uri": "https://localhost:8080/"
        },
        "id": "sTquadOsB72_",
        "outputId": "b9f67a2f-c3e8-4254-98e7-44febeaf3711"
      },
      "outputs": [
        {
          "output_type": "stream",
          "name": "stdout",
          "text": [
            "['honda', 'yamaha', 'suzuki', 'ducati']\n",
            "['honda', 'yamaha', 'suzuki']\n"
          ]
        }
      ],
      "source": [
        "motorcycles = ['honda', 'yamaha', 'suzuki', 'ducati']\n",
        "print(motorcycles)\n",
        "motorcycles.remove('ducati')\n",
        "print(motorcycles)"
      ]
    },
    {
      "cell_type": "code",
      "source": [
        "motorcycles = ['honda', 'yamaha', 'suzuki', 'ducati']\n",
        "print(motorcycles)\n",
        "too_expensive = 'ducati'\n",
        "motorcycles.remove(too_expensive)\n",
        "print(motorcycles)\n",
        "print(f\"\\nA {too_expensive.title()} is too expensive for me.\")"
      ],
      "metadata": {
        "colab": {
          "base_uri": "https://localhost:8080/"
        },
        "id": "RXzCi2eoDNcj",
        "outputId": "015fc61a-3075-4e36-8d71-c14b36d1732d"
      },
      "execution_count": null,
      "outputs": [
        {
          "output_type": "stream",
          "name": "stdout",
          "text": [
            "['honda', 'yamaha', 'suzuki', 'ducati']\n",
            "['honda', 'yamaha', 'suzuki']\n",
            "\n",
            "A Ducati is too expensive for me.\n"
          ]
        }
      ]
    },
    {
      "cell_type": "code",
      "source": [
        "#TIY 3.4 & 3.5 & 3.6 & 3.7\n",
        "dinner_guests = ['Leo Howard', 'Timothee Chalamet', 'Ian Somerhalder']\n",
        "print(f\"Welcome to my home, {dinner_guests[1]}.\")\n",
        "print(f\"I'm so happy you came, {dinner_guests[0]}.\")\n",
        "print(f\"Come on inside, {dinner_guests[2]} let's eat.\")\n",
        "print('Timothee Chalamet can no longer attend')\n",
        "del dinner_guests[1]\n",
        "dinner_guests.insert(1, 'Chace Crawford')\n",
        "print(dinner_guests)\n",
        "print(f\"Dear {dinner_guests[1]} you are invited to my home for dinner.\")\n",
        "print(f\"{dinner_guests[0]} please come over for dinner around 7.\")\n",
        "print(f\"{dinner_guests[2]} you are welcome to have dinner at my house this evening.\")\n",
        "print('I have found a bigger dinner table so a few more people will join us.')\n",
        "dinner_guests.insert(0, 'Heath Ledger')\n",
        "dinner_guests.insert(2, 'Chad Michael Murray')\n",
        "dinner_guests.append(\"Dylan O'Brien\")\n",
        "print(dinner_guests)\n",
        "print(f\"Welcome to my home, {dinner_guests[0]}.\")\n",
        "print(f\"Make yourself at home, {dinner_guests[1]}.\")\n",
        "print(f\"Hope you're hungry {dinner_guests[2]}, the food's ready.\")\n",
        "print(f\"Please make yourself comfortable, {dinner_guests[3]}.\")\n",
        "print(f\"Do you have any dietary restrictions, {dinner_guests[4]}?\")\n",
        "print(f\"So glad you could make it, {dinner_guests[5]}.\")\n",
        "print('Unfortunately, the dinner table will be arriving late so I can only invite two guests')\n",
        "popped_dinner_guests = dinner_guests.pop()\n",
        "print(dinner_guests)\n",
        "print(popped_dinner_guests)\n",
        "guestremoved1 = dinner_guests.pop()\n",
        "print(f\"I'm sorry I cannot invite you to dinner tonight {guestremoved1}.\")\n",
        "popped_dinner_guests = dinner_guests.pop(0)\n",
        "print(popped_dinner_guests)\n",
        "print(dinner_guests)\n",
        "print(f\"Unfortunately I cannot invite you to dinner tonight {dinner_guests.pop(0)}.\")\n",
        "print(f\"{dinner_guests[0]} and {dinner_guests[1]} you are both still invited to dinner.\")\n",
        "del dinner_guests[0]\n",
        "del dinner_guests[0]\n",
        "print(dinner_guests)\n"
      ],
      "metadata": {
        "colab": {
          "base_uri": "https://localhost:8080/"
        },
        "id": "nW_qxO_TEH04",
        "outputId": "e418d1d4-dda8-4cd6-eb54-c50e14cd95d6"
      },
      "execution_count": null,
      "outputs": [
        {
          "output_type": "stream",
          "name": "stdout",
          "text": [
            "Welcome to my home, Timothee Chalamet.\n",
            "I'm so happy you came, Leo Howard.\n",
            "Come on inside, Ian Somerhalder let's eat.\n",
            "Timothee Chalamet can no longer attend\n",
            "['Leo Howard', 'Chace Crawford', 'Ian Somerhalder']\n",
            "Dear Chace Crawford you are invited to my home for dinner.\n",
            "Leo Howard please come over for dinner around 7.\n",
            "Ian Somerhalder you are welcome to have dinner at my house this evening.\n",
            "I have found a bigger dinner table so a few more people will join us.\n",
            "['Heath Ledger', 'Leo Howard', 'Chad Michael Murray', 'Chace Crawford', 'Ian Somerhalder', \"Dylan O'Brien\"]\n",
            "Welcome to my home, Heath Ledger.\n",
            "Make yourself at home, Leo Howard.\n",
            "Hope you're hungry Chad Michael Murray, the food's ready.\n",
            "Please make yourself comfortable, Chace Crawford.\n",
            "Do you have any dietary restrictions, Ian Somerhalder?\n",
            "So glad you could make it, Dylan O'Brien.\n",
            "Unfortunately, the dinner table will be arriving late so I can only invite two guests\n",
            "['Heath Ledger', 'Leo Howard', 'Chad Michael Murray', 'Chace Crawford', 'Ian Somerhalder']\n",
            "Dylan O'Brien\n",
            "I'm sorry I cannot invite you to dinner tonight Ian Somerhalder.\n",
            "Heath Ledger\n",
            "['Leo Howard', 'Chad Michael Murray', 'Chace Crawford']\n",
            "Unfortunately I cannot invite you to dinner tonight Leo Howard.\n",
            "Chad Michael Murray and Chace Crawford you are both still invited to dinner.\n",
            "[]\n"
          ]
        }
      ]
    },
    {
      "cell_type": "code",
      "source": [
        "cars = ['bmw', 'audi', 'toyota', 'subaru']\n",
        "cars.sort()\n",
        "print(cars)\n",
        "cars.sort(reverse=True)\n",
        "print(cars)\n",
        "\n",
        "print(\"Here is the original list:\")\n",
        "print(cars)\n",
        "print(\"\\nHere is the sorted list:\")\n",
        "print(sorted(cars))\n",
        "print (\"\\nHere is the original list again:\")\n",
        "cars = ['bmw', 'audi', 'toyota', 'subaru']\n",
        "print(cars)\n",
        "cars.reverse()\n",
        "print(cars)\n",
        "len(cars)"
      ],
      "metadata": {
        "id": "oEOngRd6RlBo",
        "colab": {
          "base_uri": "https://localhost:8080/"
        },
        "outputId": "6edfae35-6f48-48fb-bf0a-339472302bc1"
      },
      "execution_count": null,
      "outputs": [
        {
          "output_type": "stream",
          "name": "stdout",
          "text": [
            "['audi', 'bmw', 'subaru', 'toyota']\n",
            "['toyota', 'subaru', 'bmw', 'audi']\n",
            "Here is the original list:\n",
            "['bmw', 'audi', 'toyota', 'subaru']\n",
            "\n",
            "Here is the sorted list:\n",
            "['audi', 'bmw', 'subaru', 'toyota']\n",
            "\n",
            "Here is the original list again:\n",
            "['bmw', 'audi', 'toyota', 'subaru']\n",
            "['subaru', 'toyota', 'audi', 'bmw']\n"
          ]
        },
        {
          "output_type": "execute_result",
          "data": {
            "text/plain": [
              "4"
            ]
          },
          "metadata": {},
          "execution_count": 9
        }
      ]
    },
    {
      "cell_type": "code",
      "source": [
        "#TIY 3.8\n",
        "places = ['japan','portugal', 'south korea', 'london', 'norway']\n",
        "print(places)\n",
        "print(sorted(places))\n",
        "print(places)\n",
        "places.reverse()\n",
        "print(places)\n",
        "places.reverse()\n",
        "print(places)\n",
        "places.sort()\n",
        "print(places)\n",
        "places.sort(reverse = True)\n",
        "print(places)"
      ],
      "metadata": {
        "colab": {
          "base_uri": "https://localhost:8080/"
        },
        "id": "Ov3BAXgj1ncz",
        "outputId": "361bc130-cb4d-4cb3-b650-a0aab47ad29a"
      },
      "execution_count": null,
      "outputs": [
        {
          "output_type": "stream",
          "name": "stdout",
          "text": [
            "['japan', 'portugal', 'south korea', 'london', 'norway']\n",
            "['japan', 'london', 'norway', 'portugal', 'south korea']\n",
            "['japan', 'portugal', 'south korea', 'london', 'norway']\n",
            "['norway', 'london', 'south korea', 'portugal', 'japan']\n",
            "['japan', 'portugal', 'south korea', 'london', 'norway']\n",
            "['japan', 'london', 'norway', 'portugal', 'south korea']\n",
            "['south korea', 'portugal', 'norway', 'london', 'japan']\n"
          ]
        }
      ]
    },
    {
      "cell_type": "code",
      "source": [
        "#TIY 3.9\n",
        "dinner_guests = ['Leo Howard', 'Timothee Chalamet', 'Ian Somerhalder']\n",
        "message = (f\"I am inviting {len(dinner_guests)} guests to dinner\")\n",
        "print(message)"
      ],
      "metadata": {
        "colab": {
          "base_uri": "https://localhost:8080/"
        },
        "id": "lP65LXeJ455E",
        "outputId": "05c3ae92-e591-4613-de78-859451c88dfa"
      },
      "execution_count": null,
      "outputs": [
        {
          "output_type": "stream",
          "name": "stdout",
          "text": [
            "I am inviting 3 guests to dinner\n"
          ]
        }
      ]
    },
    {
      "cell_type": "code",
      "source": [
        "#TIY 3.10\n",
        "languages = ['french', 'german', 'english', 'japanese']\n",
        "print(languages[0])\n",
        "print(languages[0].title())\n",
        "print(languages[-1])\n",
        "message = f\"I am fluent in {languages[1].title()} and {languages[2].title()}.\"\n",
        "print(message)\n",
        "languages[0] = 'russian'\n",
        "print(languages)\n",
        "languages.append('french')\n",
        "print(languages)\n",
        "languages = ['french', 'german', 'english', 'japanese']\n",
        "print(languages)\n",
        "languages.insert(0, 'russian')\n",
        "print(languages)\n",
        "del languages[0]\n",
        "print(languages)\n",
        "popped_languages = languages.pop()\n",
        "print(languages)\n",
        "print(popped_languages)\n",
        "print(f\"I want to learn {popped_languages.title()}.\")\n",
        "languages.remove('english')\n",
        "print(languages)\n",
        "languages = ['russian', 'french', 'german', 'english', 'japanese']\n",
        "too_difficult = 'russian'\n",
        "languages.remove(too_difficult)\n",
        "print(languages)\n",
        "print(f\"\\nLearning {too_difficult.title()} is too difficult for me.\")\n",
        "languages = ['french', 'german', 'english', 'japanese']\n",
        "print(languages)\n",
        "languages.reverse()\n",
        "print(languages)\n",
        "languages.reverse()\n",
        "print(languages)\n",
        "print(sorted(languages))\n",
        "print(languages)\n",
        "languages.sort()\n",
        "print(languages)\n",
        "languages.sort(reverse = True)\n",
        "print(languages)\n",
        "len(languages)"
      ],
      "metadata": {
        "colab": {
          "base_uri": "https://localhost:8080/"
        },
        "id": "FSNzi8Im5vX3",
        "outputId": "41079714-9dd8-473f-8a23-f71b760cd029"
      },
      "execution_count": null,
      "outputs": [
        {
          "output_type": "stream",
          "name": "stdout",
          "text": [
            "french\n",
            "French\n",
            "japanese\n",
            "I am fluent in German and English.\n",
            "['russian', 'german', 'english', 'japanese']\n",
            "['russian', 'german', 'english', 'japanese', 'french']\n",
            "['french', 'german', 'english', 'japanese']\n",
            "['russian', 'french', 'german', 'english', 'japanese']\n",
            "['french', 'german', 'english', 'japanese']\n",
            "['french', 'german', 'english']\n",
            "japanese\n",
            "I want to learn Japanese.\n",
            "['french', 'german']\n",
            "['french', 'german', 'english', 'japanese']\n",
            "\n",
            "Learning Russian is too difficult for me.\n",
            "['french', 'german', 'english', 'japanese']\n",
            "['japanese', 'english', 'german', 'french']\n",
            "['french', 'german', 'english', 'japanese']\n",
            "['english', 'french', 'german', 'japanese']\n",
            "['french', 'german', 'english', 'japanese']\n",
            "['english', 'french', 'german', 'japanese']\n",
            "['japanese', 'german', 'french', 'english']\n"
          ]
        },
        {
          "output_type": "execute_result",
          "data": {
            "text/plain": [
              "4"
            ]
          },
          "metadata": {},
          "execution_count": 65
        }
      ]
    },
    {
      "cell_type": "code",
      "source": [
        "#this code results in an index error because python starts items at 0\n",
        "#instead of 1 so therefore 3 is out of range since there isn't a fourth item in the list\n",
        "#motorcycles = ['honda', 'yamaha', 'suzuki']\n",
        "#print(motorcycles[3]"
      ],
      "metadata": {
        "id": "MkNfSS0rfITD"
      },
      "execution_count": null,
      "outputs": []
    },
    {
      "cell_type": "code",
      "source": [
        "motorcycles = ['honda', 'yamaha', 'suzuki']\n",
        "print(motorcycles[-1])"
      ],
      "metadata": {
        "colab": {
          "base_uri": "https://localhost:8080/"
        },
        "id": "UdAscIhiDYun",
        "outputId": "270118db-237a-4456-899b-6992e6cec705"
      },
      "execution_count": null,
      "outputs": [
        {
          "output_type": "stream",
          "name": "stdout",
          "text": [
            "suzuki\n"
          ]
        }
      ]
    },
    {
      "cell_type": "code",
      "source": [
        "#this also causes an index error because it is an empty list\n",
        "#motorcycles = []\n",
        "#print(motorcycles[-1])"
      ],
      "metadata": {
        "id": "iQhYAWKrfjEy"
      },
      "execution_count": null,
      "outputs": []
    },
    {
      "cell_type": "code",
      "source": [
        "list = [63, 70, 77, 84]\n",
        "print(list)\n",
        "cubes = 63**3, 70**3, 77**3, 84**3\n",
        "print(cubes)\n",
        "values = [40, 50, 120, -8, 6]\n",
        "values0 = values[0]*7.4+51\n",
        "values1 = values[1]*7.4+51\n",
        "values2 = values[2]*7.4+51\n",
        "values3 = values[3]*7.4+51\n",
        "values4 = values[4]*7.4+51\n",
        "print(f\"({values0}, {values1}, {values2}, {values3}, {values4})\")\n",
        "\n"
      ],
      "metadata": {
        "colab": {
          "base_uri": "https://localhost:8080/"
        },
        "id": "0tppk_G-E669",
        "outputId": "67f4d4d8-63b9-4ca1-ea6a-2eb03595717d"
      },
      "execution_count": null,
      "outputs": [
        {
          "output_type": "stream",
          "name": "stdout",
          "text": [
            "[63, 70, 77, 84]\n",
            "(250047, 343000, 456533, 592704)\n",
            "(347.0, 421.0, 939.0, -8.200000000000003, 95.4)\n"
          ]
        }
      ]
    },
    {
      "cell_type": "code",
      "source": [
        "#TIY 3.11 intentional error\n",
        "#bicycles = ['trek', 'cannondale', 'redline', 'specialized']\n",
        "#print(bicycles)\n",
        "#print(bicycles[4])\n",
        "#the [4] is out of range and causes an index error"
      ],
      "metadata": {
        "id": "B6C1Y8JJf8lz"
      },
      "execution_count": 4,
      "outputs": []
    },
    {
      "cell_type": "code",
      "source": [
        "#1: List comprehension: Print the cubes of integers that are multiples of 7 between 60 and 85\n",
        "cubes_of_multiples_of_7 = [num**3 for num in range(60, 86) if num % 7 == 0]\n",
        "print(cubes_of_multiples_of_7)"
      ],
      "metadata": {
        "id": "Vir-2_r1bUi4",
        "outputId": "87c5ea17-d6df-4af6-cf77-e5f7aff59baa",
        "colab": {
          "base_uri": "https://localhost:8080/"
        }
      },
      "execution_count": null,
      "outputs": [
        {
          "output_type": "stream",
          "name": "stdout",
          "text": [
            "[250047, 343000, 456533, 592704]\n"
          ]
        }
      ]
    },
    {
      "cell_type": "code",
      "source": [
        "#2: List comprehension: Compute y=7.4x + 51 for the given set of values\n",
        "values = [40, 50, 120, -8, 6]\n",
        "y_values = [7.4 * x + 51 for x in values]\n",
        "print(y_values)\n"
      ],
      "metadata": {
        "id": "lsaIrtAJbopP",
        "colab": {
          "base_uri": "https://localhost:8080/"
        },
        "outputId": "7db334f7-3aa2-47d9-9005-db0c1370145b"
      },
      "execution_count": 1,
      "outputs": [
        {
          "output_type": "stream",
          "name": "stdout",
          "text": [
            "[347.0, 421.0, 939.0, -8.200000000000003, 95.4]\n"
          ]
        }
      ]
    }
  ],
  "metadata": {
    "colab": {
      "provenance": [],
      "include_colab_link": true
    },
    "kernelspec": {
      "display_name": "Python 3",
      "name": "python3"
    },
    "language_info": {
      "name": "python"
    }
  },
  "nbformat": 4,
  "nbformat_minor": 0
}