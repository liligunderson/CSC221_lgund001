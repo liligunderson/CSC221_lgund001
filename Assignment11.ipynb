{
  "nbformat": 4,
  "nbformat_minor": 0,
  "metadata": {
    "colab": {
      "provenance": [],
      "authorship_tag": "ABX9TyM7PBhPaOw9S21lSqk0Sx+P",
      "include_colab_link": true
    },
    "kernelspec": {
      "name": "python3",
      "display_name": "Python 3"
    },
    "language_info": {
      "name": "python"
    }
  },
  "cells": [
    {
      "cell_type": "markdown",
      "metadata": {
        "id": "view-in-github",
        "colab_type": "text"
      },
      "source": [
        "<a href=\"https://colab.research.google.com/github/liligunderson/CSC221_lgund001/blob/main/Assignment11.ipynb\" target=\"_parent\"><img src=\"https://colab.research.google.com/assets/colab-badge.svg\" alt=\"Open In Colab\"/></a>"
      ]
    },
    {
      "cell_type": "markdown",
      "source": [
        "Lilian Gunderson Assignment 11, chapter 9, TiY 9-1, 9-2, 9-3, 9-6, and 9-7"
      ],
      "metadata": {
        "id": "QdC-TTutJ53a"
      }
    },
    {
      "cell_type": "code",
      "execution_count": null,
      "metadata": {
        "colab": {
          "base_uri": "https://localhost:8080/"
        },
        "id": "ETsOrl9rHNO9",
        "outputId": "0b39943c-700e-459f-ef59-1deea03218e7"
      },
      "outputs": [
        {
          "output_type": "stream",
          "name": "stdout",
          "text": [
            "My dog's name is Willie.\n",
            "My dog is 6 years old.\n",
            "Willie is now sitting.\n",
            "\n",
            "Your dog's name is Lucy.\n",
            "Your dog is 3 years old.\n",
            "Lucy is now sitting.\n"
          ]
        }
      ],
      "source": [
        "class Dog:\n",
        "  \"\"\"A simple attempt to model a dog.\"\"\"\n",
        "\n",
        "  def __init__(self, name, age):\n",
        "    \"\"\"Initialize name and age attributes.\"\"\"\n",
        "    self.name = name\n",
        "    self.age = age\n",
        "\n",
        "  def sit(self):\n",
        "    \"\"\"Simulate a dog sitting in response to a command.\"\"\"\n",
        "    print(f\"{self.name} is now sitting.\")\n",
        "\n",
        "  def roll_over(self):\n",
        "    \"\"\"Simulate rolling over in response to a command.\"\"\"\n",
        "    print(f\"{self.name} rolled over!\")\n",
        "\n",
        "my_dog = Dog('Willie', 6)\n",
        "your_dog = Dog('Lucy', 3)\n",
        "\n",
        "print(f\"My dog's name is {my_dog.name}.\")\n",
        "print(f\"My dog is {my_dog.age} years old.\")\n",
        "my_dog.sit()\n",
        "#my_dog.roll_over()\n",
        "\n",
        "print(f\"\\nYour dog's name is {your_dog.name}.\")\n",
        "print(f\"Your dog is {your_dog.age} years old.\")\n",
        "your_dog.sit()\n",
        "\n"
      ]
    },
    {
      "cell_type": "code",
      "source": [
        "#TiY 9-1\n",
        "\n",
        "class Restaurant():\n",
        "  \"\"\"Simulating a restaurant\"\"\"\n",
        "\n",
        "  def __init__(self, restaurant_name, cuisine_type):\n",
        "    \"\"\"Initialized the restaurant\"\"\"\n",
        "    self.restaurant_name = restaurant_name\n",
        "    self.cuisine_type = cuisine_type\n",
        "\n",
        "  def describe_restaurant(self):\n",
        "    \"\"\"describe the restaurant\"\"\"\n",
        "    print(f\"\\n{self.restaurant_name} has the best {self.cuisine_type}.\")\n",
        "\n",
        "  def open_restaurant(self):\n",
        "    \"\"\"prints a message saying the restaurant is open\"\"\"\n",
        "    print(f\"{self.restaurant_name} is open.\")\n",
        "\n",
        "restaurant = Restaurant(\"Freddy Fazbear's Pizza Place\", \"pizza\")\n",
        "print(restaurant.restaurant_name)\n",
        "print(restaurant.cuisine_type)\n",
        "\n",
        "restaurant.describe_restaurant()\n",
        "restaurant.open_restaurant()"
      ],
      "metadata": {
        "colab": {
          "base_uri": "https://localhost:8080/"
        },
        "id": "74IP3SScQ-kI",
        "outputId": "ef1e3589-ee0c-4166-a8e9-550c7686ee7d"
      },
      "execution_count": null,
      "outputs": [
        {
          "output_type": "stream",
          "name": "stdout",
          "text": [
            "Freddy Fazbear's Pizza Place\n",
            "pizza\n",
            "\n",
            "Freddy Fazbear's Pizza Place has the best pizza.\n",
            "Freddy Fazbear's Pizza Place is open.\n"
          ]
        }
      ]
    },
    {
      "cell_type": "code",
      "source": [
        "#TiY 9-2\n",
        "\n",
        "class Restaurant():\n",
        "  \"\"\"Simulating a restaurant\"\"\"\n",
        "\n",
        "  def __init__(self, restaurant_name, cuisine_type):\n",
        "    \"\"\"Initialized the restaurant\"\"\"\n",
        "    self.restaurant_name = restaurant_name\n",
        "    self.cuisine_type = cuisine_type\n",
        "\n",
        "  def describe_restaurant(self):\n",
        "    \"\"\"describe the restaurant\"\"\"\n",
        "    print(f\"\\n{self.restaurant_name} has the best {self.cuisine_type}.\")\n",
        "\n",
        "  def open_restaurant(self):\n",
        "    \"\"\"prints a message saying the restaurant is open\"\"\"\n",
        "    print(f\"{self.restaurant_name} is open.\")\n",
        "\n",
        "freddy_fazbear = Restaurant(\"Freddy Fazbear's Pizza Place\", \"pizza\")\n",
        "freddy_fazbear.describe_restaurant()\n",
        "\n",
        "viva = Restaurant('Viva Taqueria & Cantina','burritos')\n",
        "viva.describe_restaurant()\n",
        "\n",
        "maxies = Restaurant(\"Maxie's Supper Club & Oyster Bar\", 'corn bread')\n",
        "maxies.describe_restaurant()"
      ],
      "metadata": {
        "colab": {
          "base_uri": "https://localhost:8080/"
        },
        "id": "ok1_K6o9Vz9S",
        "outputId": "ebc6a4d3-e0b8-4e6e-c362-49fed80e6734"
      },
      "execution_count": null,
      "outputs": [
        {
          "output_type": "stream",
          "name": "stdout",
          "text": [
            "\n",
            "Freddy Fazbear's Pizza Place has the best pizza.\n",
            "\n",
            "Viva Taqueria & Cantina has the best burritos.\n",
            "\n",
            "Maxie's Supper Club & Oyster Bar has the best corn bread.\n"
          ]
        }
      ]
    },
    {
      "cell_type": "code",
      "source": [
        "#TiY 9-3\n",
        "\n",
        "class User():\n",
        "  \"\"\"A user profile\"\"\"\n",
        "\n",
        "  def __init__(self, first_name, last_name, username, hobby, favorite_color):\n",
        "    \"\"\"initializes user\"\"\"\n",
        "    self.first_name = first_name\n",
        "    self.last_name = last_name\n",
        "    self.username = username\n",
        "    self.hobby = hobby\n",
        "    self.favorite_color = favorite_color\n",
        "\n",
        "  def describe_user(self):\n",
        "    \"\"\"user info\"\"\"\n",
        "    print(f\"\\n{self.first_name} {self.last_name}\")\n",
        "    print(f\" Username: {self.username}\")\n",
        "    print(f\" Hobby: {self.hobby}\")\n",
        "    print(f\" Favorite color: {self.favorite_color}\")\n",
        "\n",
        "  def greet_user(self):\n",
        "    \"\"\"prints a greeting to the user\"\"\"\n",
        "    print(f\"\\nHello, {self.username}!\")\n",
        "\n",
        "\n",
        "freddy = User('Freddy', 'Fazbear', 'fazzywazzy', 'entertaining party guests', 'brown')\n",
        "freddy.describe_user()\n",
        "freddy.greet_user()\n",
        "\n",
        "katie = User('Katie', 'Berge', 'katiekat', 'playing skyrim', 'purple')\n",
        "katie.describe_user()\n",
        "katie.greet_user()"
      ],
      "metadata": {
        "colab": {
          "base_uri": "https://localhost:8080/"
        },
        "id": "QmZbbIlVvIme",
        "outputId": "409174b5-5112-48b7-a008-abee59057a33"
      },
      "execution_count": null,
      "outputs": [
        {
          "output_type": "stream",
          "name": "stdout",
          "text": [
            "\n",
            "Freddy Fazbear\n",
            " Username: fazzywazzy\n",
            " Hobby: entertaining party guests\n",
            " Favorite color: brown\n",
            "\n",
            "Hello, fazzywazzy!\n",
            "\n",
            "Katie Berge\n",
            " Username: katiekat\n",
            " Hobby: playing skyrim\n",
            " Favorite color: purple\n",
            "\n",
            "Hello, katiekat!\n"
          ]
        }
      ]
    },
    {
      "cell_type": "code",
      "source": [
        "class Car:\n",
        "  \"\"\"A simple attempt to represent a car.\"\"\"\n",
        "\n",
        "  def __init__(self, make, model, year):\n",
        "    \"\"\"Initialize attributes to describe a car.\"\"\"\n",
        "    self.make = make\n",
        "    self.model = model\n",
        "    self.year = year\n",
        "    self.odometer_reading = 0\n",
        "\n",
        "  def get_descriptive_name(self):\n",
        "    \"\"\"Return a neatly formatted descriptive name.\"\"\"\n",
        "    long_name = f\"{self.year} {self.make} {self.model}\"\n",
        "    return long_name.title()\n",
        "\n",
        "  def read_odometer(self):\n",
        "    \"\"\"Print a statement showing the car's mileage.\"\"\"\n",
        "    print(f\"This car has {self.odometer_reading} miles on it.\")\n",
        "\n",
        "my_new_car = Car('audi', 'a4', 2024)\n",
        "print(my_new_car.get_descriptive_name())\n",
        "\n",
        "my_new_car.odometer_reading = 23\n",
        "my_new_car.read_odometer()\n"
      ],
      "metadata": {
        "colab": {
          "base_uri": "https://localhost:8080/"
        },
        "id": "uG2DvgWDEOqn",
        "outputId": "fa6dbfb3-06bb-407a-9698-ae7c497ed50a"
      },
      "execution_count": null,
      "outputs": [
        {
          "output_type": "stream",
          "name": "stdout",
          "text": [
            "2024 Audi A4\n",
            "This car has 23 miles on it.\n"
          ]
        }
      ]
    },
    {
      "cell_type": "code",
      "source": [
        "class Car:\n",
        "  \"\"\"A simple attempt to represent a car.\"\"\"\n",
        "\n",
        "  def __init__(self, make, model, year):\n",
        "    \"\"\"Initialize attributes to describe a car.\"\"\"\n",
        "    self.make = make\n",
        "    self.model = model\n",
        "    self.year = year\n",
        "    self.odometer_reading = 0\n",
        "\n",
        "  def get_descriptive_name(self):\n",
        "    \"\"\"Return a neatly formatted descriptive name.\"\"\"\n",
        "    long_name = f\"{self.year} {self.make} {self.model}\"\n",
        "    return long_name.title()\n",
        "\n",
        "  def read_odometer(self):\n",
        "    \"\"\"Print a statement showing the car's mileage.\"\"\"\n",
        "    print(f\"This car has {self.odometer_reading} miles on it.\")\n",
        "\n",
        "  def update_odometer(self, mileage):\n",
        "   \"\"\"Set the odometer reading to the given value.\n",
        "   Reject the change if it attempts to roll the odometer back.\"\"\"\n",
        "   if mileage >= self.odometer_reading:\n",
        "        self.odometer_reading = mileage\n",
        "   else:\n",
        "        print(\"You can't roll back an odometer!\")\n",
        "\n",
        "  def increment_odometer(self, miles):\n",
        "    \"\"\"Add the given amount to the odometer reading.\"\"\"\n",
        "    self.odometer_reading += miles\n",
        "\n",
        "my_new_car = Car('audi', 'a4', 2024)\n",
        "print(my_new_car.get_descriptive_name())\n",
        "\n",
        "my_new_car.update_odometer(23)\n",
        "my_new_car.read_odometer()\n",
        "\n",
        "my_used_car = Car('subaru', 'outback', 2019)\n",
        "print(my_used_car.get_descriptive_name())\n",
        "\n",
        "my_used_car.update_odometer(23_500)\n",
        "my_used_car.read_odometer()\n",
        "\n",
        "my_used_car.increment_odometer(100)\n",
        "my_used_car.read_odometer()"
      ],
      "metadata": {
        "colab": {
          "base_uri": "https://localhost:8080/"
        },
        "id": "XL9NDfRbGrPK",
        "outputId": "4c28d9a9-7a04-4342-e0d2-ebdae4968076"
      },
      "execution_count": null,
      "outputs": [
        {
          "output_type": "stream",
          "name": "stdout",
          "text": [
            "2024 Audi A4\n",
            "This car has 23 miles on it.\n",
            "2019 Subaru Outback\n",
            "This car has 23500 miles on it.\n",
            "This car has 23600 miles on it.\n"
          ]
        }
      ]
    },
    {
      "cell_type": "code",
      "source": [
        "class Car:\n",
        "  \"\"\"A simple attempt to represent a car.\"\"\"\n",
        "\n",
        "  def __init__(self, make, model, year):\n",
        "    \"\"\"Initialize attributes to describe a car.\"\"\"\n",
        "    self.make = make\n",
        "    self.model = model\n",
        "    self.year = year\n",
        "    self.odometer_reading = 0\n",
        "\n",
        "  def get_descriptive_name(self):\n",
        "    \"\"\"Return a neatly formatted descriptive name.\"\"\"\n",
        "    long_name = f\"{self.year} {self.make} {self.model}\"\n",
        "    return long_name.title()\n",
        "\n",
        "  def read_odometer(self):\n",
        "    \"\"\"Print a statement showing the car's mileage.\"\"\"\n",
        "    print(f\"This car has {self.odometer_reading} miles on it.\")\n",
        "\n",
        "  def update_odometer(self, mileage):\n",
        "   \"\"\"Set the odometer reading to the given value.\n",
        "   Reject the change if it attempts to roll the odometer back.\"\"\"\n",
        "   if mileage >= self.odometer_reading:\n",
        "        self.odometer_reading = mileage\n",
        "   else:\n",
        "        print(\"You can't roll back an odometer!\")\n",
        "\n",
        "  def increment_odometer(self, miles):\n",
        "    \"\"\"Add the given amount to the odometer reading.\"\"\"\n",
        "    self.odometer_reading += miles\n",
        "\n",
        "class Battery:\n",
        "  \"\"\"A simple attempt to model a battery for an electric car.\"\"\"\n",
        "\n",
        "  def __init__(self, battery_size=40):\n",
        "    \"\"\"Initialize the battery's attributes.\"\"\"\n",
        "    self.battery_size = battery_size\n",
        "\n",
        "  def describe_battery(self):\n",
        "    \"\"\"Print a statement describing the battery size.\"\"\"\n",
        "    print(f\"This car has a {self.battery_size}-kWh battery.\")\n",
        "\n",
        "  def get_range(self):\n",
        "    \"\"\"Print a statement about the range this battery provides.\"\"\"\n",
        "    if self.battery_size == 40:\n",
        "      range = 150\n",
        "    elif self.battery_size == 65:\n",
        "      range = 225\n",
        "\n",
        "    print(f\"This car can go about {range} miles on a full charge.\")\n",
        "\n",
        "class ElectricCar(Car):\n",
        " \"\"\"Represent aspects of a car, specific to electric vehicles.\"\"\"\n",
        "\n",
        " def __init__(self, make, model, year):\n",
        "  \"\"\"Initialize attributes of the parent class.\n",
        "  Then initialize attributes specific to an electric car.\"\"\"\n",
        "  super().__init__(make, model, year)\n",
        "  #self.battery_size = 40\n",
        "  self.battery = Battery()\n",
        "\n",
        " def describe_battery(self):\n",
        "  \"\"\"Print a statement describing the battery size.\"\"\"\n",
        "  print(f\"This car has a {self.battery_size}-kWh battery.\")\n",
        "\n",
        "\n",
        "my_leaf = ElectricCar('nissan', 'leaf', 2024)\n",
        "print(my_leaf.get_descriptive_name())\n",
        "my_leaf.battery.describe_battery()\n",
        "my_leaf.battery.get_range()\n",
        "#my_leaf.describe_battery()\n",
        "\n",
        "#def fill_gas_tank(self):\n",
        "  #\"\"\"Electric cars don't have gas tanks.\"\"\"\n",
        "  #print(\"This car doesn't have a gas tank!\")"
      ],
      "metadata": {
        "colab": {
          "base_uri": "https://localhost:8080/"
        },
        "id": "ngBnc79QHnzs",
        "outputId": "5b8b4021-8cb5-4821-91c9-f8c06d85be92"
      },
      "execution_count": null,
      "outputs": [
        {
          "output_type": "stream",
          "name": "stdout",
          "text": [
            "2024 Nissan Leaf\n",
            "This car has a 40-kWh battery.\n",
            "This car can go about 150 miles on a full charge.\n"
          ]
        }
      ]
    },
    {
      "cell_type": "code",
      "source": [
        "#TiY 9-6\n",
        "\n",
        "class Restaurant():\n",
        "  \"\"\"Simulating a restaurant\"\"\"\n",
        "\n",
        "  def __init__(self, restaurant_name, cuisine_type):\n",
        "    \"\"\"Initialized the restaurant\"\"\"\n",
        "    self.restaurant_name = restaurant_name\n",
        "    self.cuisine_type = cuisine_type\n",
        "\n",
        "  def describe_restaurant(self):\n",
        "    \"\"\"describe the restaurant\"\"\"\n",
        "    print(f\"\\n{self.restaurant_name} has the best {self.cuisine_type}.\")\n",
        "\n",
        "  def open_restaurant(self):\n",
        "    \"\"\"prints a message saying the restaurant is open\"\"\"\n",
        "    print(f\"{self.restaurant_name} is open.\")\n",
        "\n",
        "\n",
        "class IceCreamStand(Restaurant):\n",
        "  \"\"\"Simulates an ice cream stand\"\"\"\n",
        "\n",
        "  def __init__(self, name, cuisine_type='ice cream'):\n",
        "    \"\"\"Initializes the ice cream stand\"\"\"\n",
        "    super().__init__(name, cuisine_type)\n",
        "    self.flavors = []\n",
        "\n",
        "  def display_flavors(self):\n",
        "    \"\"\"Display's ice cream flavors\"\"\"\n",
        "    print(f\"\\nThese are the flavors we have available:\")\n",
        "    for flavor in self.flavors:\n",
        "      print(f\"- {flavor}\")\n",
        "\n",
        "\n",
        "sweet_melissas = IceCreamStand(\"Sweet Melissa's Ice Cream\")\n",
        "sweet_melissas.flavors = ['classic twist', 'chocolate', 'vanilla', 'rasberry', 'orange sherbert']\n",
        "\n",
        "sweet_melissas.describe_restaurant()\n",
        "sweet_melissas.display_flavors()\n",
        "\n"
      ],
      "metadata": {
        "id": "aFvux38kS_u4",
        "colab": {
          "base_uri": "https://localhost:8080/"
        },
        "outputId": "16836a50-2741-47c0-cc88-0c4522baf1ab"
      },
      "execution_count": 4,
      "outputs": [
        {
          "output_type": "stream",
          "name": "stdout",
          "text": [
            "\n",
            "Sweet Melissa's Ice Cream has the best ice cream.\n",
            "\n",
            "These are the flavors we have available:\n",
            "- classic twist\n",
            "- chocolate\n",
            "- vanilla\n",
            "- rasberry\n",
            "- orange sherbert\n"
          ]
        }
      ]
    },
    {
      "cell_type": "code",
      "source": [
        "#TiY 9-7\n",
        "\n",
        "class User():\n",
        "  \"\"\"A user profile\"\"\"\n",
        "\n",
        "  def __init__(self, first_name, last_name, username, hobby, favorite_color):\n",
        "    \"\"\"initializes user\"\"\"\n",
        "    self.first_name = first_name\n",
        "    self.last_name = last_name\n",
        "    self.username = username\n",
        "    self.hobby = hobby\n",
        "    self.favorite_color = favorite_color\n",
        "\n",
        "  def describe_user(self):\n",
        "    \"\"\"user info\"\"\"\n",
        "    print(f\"\\n{self.first_name} {self.last_name}\")\n",
        "    print(f\" Username: {self.username}\")\n",
        "    print(f\" Hobby: {self.hobby}\")\n",
        "    print(f\" Favorite color: {self.favorite_color}\")\n",
        "\n",
        "  def greet_user(self):\n",
        "    \"\"\"prints a greeting to the user\"\"\"\n",
        "    print(f\"\\nHello, {self.username}!\")\n",
        "\n",
        "\n",
        "class Admin(User):\n",
        "  \"\"\"Special kind of user\"\"\"\n",
        "\n",
        "  def __init__(self, first_name, last_name, username, hobby, favorite_color):\n",
        "    \"\"\"initializes the administrator\"\"\"\n",
        "    super().__init__(first_name, last_name, username, hobby, favorite_color)\n",
        "    self.privileges = []\n",
        "\n",
        "  def show_privileges(self):\n",
        "    \"\"\"displays the privileges of the admin\"\"\"\n",
        "    print(f\"\\nPrivileges:\")\n",
        "    for privilege in self.privileges:\n",
        "      print(f\"- {privilege}\")\n",
        "\n",
        "freddy = Admin('Freddy', 'Fazbear', 'fazzywazzy', 'entertaining party guests', 'brown')\n",
        "freddy.describe_user()\n",
        "\n",
        "freddy.privileges = ['can add post', 'can delete post', 'can ban user']\n",
        "\n",
        "freddy.show_privileges()"
      ],
      "metadata": {
        "colab": {
          "base_uri": "https://localhost:8080/"
        },
        "id": "AYY1lhCEHPV1",
        "outputId": "8ee6c1f5-6d74-4c5d-f456-1d006de3c408"
      },
      "execution_count": 6,
      "outputs": [
        {
          "output_type": "stream",
          "name": "stdout",
          "text": [
            "\n",
            "Freddy Fazbear\n",
            " Username: fazzywazzy\n",
            " Hobby: entertaining party guests\n",
            " Favorite color: brown\n",
            "\n",
            "Privileges:\n",
            "- can add post\n",
            "- can delete post\n",
            "- can ban user\n"
          ]
        }
      ]
    },
    {
      "cell_type": "code",
      "source": [
        "class Car:\n",
        "  \"\"\"A simple attempt to represent a car.\"\"\"\n",
        "\n",
        "  def __init__(self, make, model, year):\n",
        "    \"\"\"Initialize attributes to describe a car.\"\"\"\n",
        "    self.make = make\n",
        "    self.model = model\n",
        "    self.year = year\n",
        "    self.odometer_reading = 0\n",
        "\n",
        "  def get_descriptive_name(self):\n",
        "    \"\"\"Return a neatly formatted descriptive name.\"\"\"\n",
        "    long_name = f\"{self.year} {self.make} {self.model}\"\n",
        "    return long_name.title()\n",
        "\n",
        "  def read_odometer(self):\n",
        "    \"\"\"Print a statement showing the car's mileage.\"\"\"\n",
        "    print(f\"This car has {self.odometer_reading} miles on it.\")\n",
        "\n",
        "  def update_odometer(self, mileage):\n",
        "   \"\"\"Set the odometer reading to the given value.\n",
        "   Reject the change if it attempts to roll the odometer back.\"\"\"\n",
        "   if mileage >= self.odometer_reading:\n",
        "        self.odometer_reading = mileage\n",
        "   else:\n",
        "        print(\"You can't roll back an odometer!\")\n",
        "\n",
        "  def increment_odometer(self, miles):\n",
        "    \"\"\"Add the given amount to the odometer reading.\"\"\"\n",
        "    self.odometer_reading += miles\n",
        "\n",
        "\n",
        "#from car import Car\n",
        "\n",
        "my_new_car = Car('audi', 'a4', 2024)\n",
        "print(my_new_car.get_descriptive_name())\n",
        "my_new_car.odometer_reading = 23\n",
        "my_new_car.read_odometer()\n",
        "\n",
        "#using colab there is no my_car file to import"
      ],
      "metadata": {
        "colab": {
          "base_uri": "https://localhost:8080/",
          "height": 383
        },
        "id": "1MQZhmKhR2Q_",
        "outputId": "615372b3-7725-4b9b-cadd-1b2eb8899598"
      },
      "execution_count": 7,
      "outputs": [
        {
          "output_type": "error",
          "ename": "ModuleNotFoundError",
          "evalue": "ignored",
          "traceback": [
            "\u001b[0;31m---------------------------------------------------------------------------\u001b[0m",
            "\u001b[0;31mModuleNotFoundError\u001b[0m                       Traceback (most recent call last)",
            "\u001b[0;32m<ipython-input-7-4f9b391ade77>\u001b[0m in \u001b[0;36m<cell line: 33>\u001b[0;34m()\u001b[0m\n\u001b[1;32m     31\u001b[0m \u001b[0;34m\u001b[0m\u001b[0m\n\u001b[1;32m     32\u001b[0m \u001b[0;34m\u001b[0m\u001b[0m\n\u001b[0;32m---> 33\u001b[0;31m \u001b[0;32mfrom\u001b[0m \u001b[0mcar\u001b[0m \u001b[0;32mimport\u001b[0m \u001b[0mCar\u001b[0m\u001b[0;34m\u001b[0m\u001b[0;34m\u001b[0m\u001b[0m\n\u001b[0m\u001b[1;32m     34\u001b[0m \u001b[0;34m\u001b[0m\u001b[0m\n\u001b[1;32m     35\u001b[0m \u001b[0mmy_new_car\u001b[0m \u001b[0;34m=\u001b[0m \u001b[0mCar\u001b[0m\u001b[0;34m(\u001b[0m\u001b[0;34m'audi'\u001b[0m\u001b[0;34m,\u001b[0m \u001b[0;34m'a4'\u001b[0m\u001b[0;34m,\u001b[0m \u001b[0;36m2024\u001b[0m\u001b[0;34m)\u001b[0m\u001b[0;34m\u001b[0m\u001b[0;34m\u001b[0m\u001b[0m\n",
            "\u001b[0;31mModuleNotFoundError\u001b[0m: No module named 'car'",
            "",
            "\u001b[0;31m---------------------------------------------------------------------------\u001b[0;32m\nNOTE: If your import is failing due to a missing package, you can\nmanually install dependencies using either !pip or !apt.\n\nTo view examples of installing some common dependencies, click the\n\"Open Examples\" button below.\n\u001b[0;31m---------------------------------------------------------------------------\u001b[0m\n"
          ],
          "errorDetails": {
            "actions": [
              {
                "action": "open_url",
                "actionText": "Open Examples",
                "url": "/notebooks/snippets/importing_libraries.ipynb"
              }
            ]
          }
        }
      ]
    }
  ]
}