{
  "nbformat": 4,
  "nbformat_minor": 0,
  "metadata": {
    "colab": {
      "provenance": [],
      "authorship_tag": "ABX9TyMyWKDZjXo4J2yWq6LC5x1S",
      "include_colab_link": true
    },
    "kernelspec": {
      "name": "python3",
      "display_name": "Python 3"
    },
    "language_info": {
      "name": "python"
    }
  },
  "cells": [
    {
      "cell_type": "markdown",
      "metadata": {
        "id": "view-in-github",
        "colab_type": "text"
      },
      "source": [
        "<a href=\"https://colab.research.google.com/github/liligunderson/CSC221_lgund001/blob/main/Assignment16_17.ipynb\" target=\"_parent\"><img src=\"https://colab.research.google.com/assets/colab-badge.svg\" alt=\"Open In Colab\"/></a>"
      ]
    },
    {
      "cell_type": "code",
      "execution_count": null,
      "metadata": {
        "id": "7m6z0qWb1Ksa",
        "colab": {
          "base_uri": "https://localhost:8080/"
        },
        "outputId": "82bdb8e5-8c11-44ff-8a83-e3ba301782eb"
      },
      "outputs": [
        {
          "output_type": "stream",
          "name": "stdout",
          "text": [
            "Hello world\n"
          ]
        },
        {
          "output_type": "execute_result",
          "data": {
            "text/plain": [
              "18850.5"
            ]
          },
          "metadata": {},
          "execution_count": 3
        }
      ],
      "source": [
        "#1.1\n",
        "print(\"Hello world\")\n",
        "6000 + 4523.50 + 134.25 + 8192.75"
      ]
    },
    {
      "cell_type": "code",
      "source": [
        "#1.2\n",
        "#hello.py\n",
        "print('Hello World')\n",
        "#shell % python3 hello.py\n",
        "#Hello World\n",
        "#shell %\n",
        "# #! is used to specify the interpreter"
      ],
      "metadata": {
        "id": "6R4Qs0811XhS",
        "colab": {
          "base_uri": "https://localhost:8080/"
        },
        "outputId": "c2ccc464-0cc8-4f66-fc46-a0a9178a13e8"
      },
      "execution_count": null,
      "outputs": [
        {
          "output_type": "stream",
          "name": "stdout",
          "text": [
            "Hello World\n"
          ]
        }
      ]
    },
    {
      "cell_type": "code",
      "source": [
        "#1.3\n",
        "#int, float, string, bool are primitive types\n",
        "2 + 3 * 4 # an expression\n",
        "\n",
        "#ex. of a compound-interest calculation using variables and expressions:\n",
        "principal = 1000  # Initial amount\n",
        "rate = 0.05   # Interest rate\n",
        "numyears = 5  # Number of years\n",
        "year = 1\n",
        "while year <= numyears:\n",
        "  principal = principal * (1 + rate)\n",
        "  print(year, principal)\n",
        "  year += 1\n",
        "# you can use an f string to make the output prettier"
      ],
      "metadata": {
        "id": "1Ajc5nLP1Xpe",
        "colab": {
          "base_uri": "https://localhost:8080/"
        },
        "outputId": "01fa5454-e8eb-40b4-96df-864723e945ae"
      },
      "execution_count": null,
      "outputs": [
        {
          "output_type": "stream",
          "name": "stdout",
          "text": [
            "1 1050.0\n",
            "2 1102.5\n",
            "3 1157.625\n",
            "4 1215.5062500000001\n",
            "5 1276.2815625000003\n"
          ]
        }
      ]
    },
    {
      "cell_type": "code",
      "source": [
        "#1.4\n",
        "#gives a list of arithmetic operators\n",
        "#/ gives a floating point number when applied to integers ex. 7/4 is 1.75\n",
        "#% returns the remainder of the division so 7 % 4 is 3\n",
        "#provides a list of functions as well\n",
        "#round() function rounds a value to the nearest even multiple so ex. 0.0 and 1.5 are rounded to 2.0\n",
        "#provides bit manipulation operators like x << y and are commonly used with binary integers\n",
        "#provides comparison operators like x == y which the result is a Boolean value, True or False\n",
        "#provides logical operators like x and y\n",
        "#updating a value with a shortened operation:\n",
        "#x += 1\n",
        "#y *= n"
      ],
      "metadata": {
        "id": "VLOCSSZk1XwD"
      },
      "execution_count": null,
      "outputs": []
    },
    {
      "cell_type": "code",
      "source": [
        "#1.5\n",
        "#Goes through what while, if and else statements are used for and what they are\n",
        "#for ex.\n",
        "if a < b:\n",
        "  print('Computer says Yes')\n",
        "else:\n",
        "  print('Computer says No')\n",
        "# ex. for while:\n",
        "x = 0\n",
        "while x < 10:\n",
        "  if x == 5:\n",
        "    break\n",
        "    print(x)\n",
        "    x += 1\n",
        "\n",
        "print('Done')\n",
        "#explained using the 'pass' statement\n",
        "#I haven't seen raise used much in our lab or lecture assignments so that was a bit new for me\n",
        "# := was also new, this is an assignment expression or 'walrus operator'"
      ],
      "metadata": {
        "id": "V_xSjoZ41X1p"
      },
      "execution_count": null,
      "outputs": []
    },
    {
      "cell_type": "code",
      "source": [
        "#1.6\n",
        "#goes through the various ways of defining a string literal\n",
        "a = 'Hello World'\n",
        "b = \"Python is groovy\"\n",
        "c = '''Computer says no.'''\n",
        "d = \"\"\"Computer still says no.\"\"\"\n",
        "#^ all of these are ways to define a string literal, which ever you choose it has to be consistent at beginning and end\n",
        "#Triple quotes are advantageous in that they can span multiple lines of text\n",
        "#describes how to use f strings, the format() method and % operator can also be used to format strings which I haven't done much\n",
        "#using len(s) for the length of a string\n",
        "#using the slicing operator s[i:j] on a string to extract characters, this is partially new to me\n",
        "#using the replace() method to manipulate a string and add more to it\n",
        "#then shows common string methods, most of which I have seen besides I think endswith & startswith\n",
        "#a + being used to concatenate a string is new to me, at least using the word concatenate is\n",
        "#repr() was new, useful for debugging"
      ],
      "metadata": {
        "id": "VzdNUOlT1X4n"
      },
      "execution_count": null,
      "outputs": []
    },
    {
      "cell_type": "code",
      "source": [
        "#1.7\n",
        "#explains file input and output\n",
        "#uses with open() ex.\n",
        "with open('data.txt') as file:\n",
        "  for line in file:\n",
        "    print(line, end='')\n",
        "#gives another way to open a file without using with ex.:\n",
        "file = open('data.txt')\n",
        "for line in file:\n",
        "  print(line, end='') # end='' omits the extra newline\n",
        "file.close() #this extra step is needed if not using with\n",
        "#read() method to read file as a string, can also use a size hint to read file in chunks\n",
        "#break can also be useful to end a loop\n",
        "#use file=out to make the outout of a program go to a file\n",
        "#write() method to write string data\n",
        "#use encoding argument when opening a file if working with a different text encoding, this is new to me\n",
        "#use input() function to read interactive data"
      ],
      "metadata": {
        "id": "VczH5C671X7E"
      },
      "execution_count": null,
      "outputs": []
    },
    {
      "cell_type": "code",
      "source": [
        "#1.8\n",
        "#enclosing values in square brackets [] creates a list\n",
        "#lists are indexed by integers and start with zero\n",
        "#list ex.\n",
        "names = [ 'Dave', 'Paula', 'Thomas', 'Lewis' ]\n",
        "#append() method to append new items to the end of a list\n",
        "#insert() method to insert an item at a specific position\n",
        "#using a for loop to iterate over items in a list ex.\n",
        "for name in names:\n",
        "  print(name)\n",
        "#using the slicing operator to reassign a portion of a list like replacing one name with another one\n",
        "# two ways to create a list:\n",
        "names = []\n",
        "names = list()\n",
        "# a list can contain any mix of python objects even other lists, ex.:\n",
        "a = [1, 'Dave', 3.14, ['Mark', 7, 9, [100, 101]], 10]\n",
        "# sys module is new\n",
        "#discusses list comprehension which is a very useful technique and makes the code concise\n",
        "#this is the list comprehension discussed:\n",
        "[ int(row[1]) * float(row[2]) for row in rows ]\n",
        "#list comprehension is also preferred for simple calculations"
      ],
      "metadata": {
        "id": "CxVqrJoR1X93"
      },
      "execution_count": null,
      "outputs": []
    },
    {
      "cell_type": "code",
      "source": [
        "#1.9\n",
        "#discusses tuples and how to use them\n",
        "# a tuple is created by enclosing a group of values in paranthesis. Ex:\n",
        "holding = ('GOOG', 100, 490.10)\n",
        "address = ('www.python.org', 80)\n",
        "#an empty tuple looks like: a = () and a 1 element tuple looks like: b = (item,) it has a trailing comma\n",
        "#elements of a tuple cannot be changed after creation\n",
        "#then creates a code demostrating tuples being represented by rows in the example\n",
        "#then shows how to loop over all the records in the example\n",
        "#variable _ can be used to indicate a discarded value, for this section it was used to ignore the first item, which was new to me"
      ],
      "metadata": {
        "id": "WrRsUaLn1YAN"
      },
      "execution_count": null,
      "outputs": []
    },
    {
      "cell_type": "code",
      "source": [
        "#1.10\n",
        "#A set is created by enclosing a collection of unqiue objects in curly braces or use the set() method\n",
        "#ex.\n",
        "names1 = { 'IBM', 'MSFT', 'AA' }\n",
        "names2 = set(['IBM', 'MSFT', 'HPE', 'IBM', 'CAT'])\n",
        "#you cannot make a set containing lists and they cannot be indexed by numbers and the elements are never duplicated\n",
        "#order of items also cannot be predicted\n",
        "#set comprehension example:\n",
        "names = { s[0] for s in portfolio }\n",
        "r = set() #empty set\n",
        "#examples of operations that are supported by sets:\n",
        "a = t | s\n",
        "b = t & s\n",
        "c = t - s\n",
        "d = s - t\n",
        "e = t ^ s\n",
        "#new items can be added to a set using add() or update(), and can be removed using remove() or discard()"
      ],
      "metadata": {
        "id": "ttaqj6YC1YCt"
      },
      "execution_count": null,
      "outputs": []
    },
    {
      "cell_type": "code",
      "source": [
        "#1.11\n",
        "#dictionaries are created by enclosing key-value pairs in curly braces {}, each pair is also separated by a colon\n",
        "#ex.\n",
        "s = {\n",
        "    'name' : 'GOOG',\n",
        "    'shares' : 100,\n",
        "    'price' : 490.10\n",
        "}\n",
        "# to be able to access parts of a dictionary you have use the indexing operator like this:\n",
        "name = s['name']\n",
        "cost = s['shares'] * s['price']\n",
        "#meaning you have to specifically call each member\n",
        "#to modify what you have you have to set the key = to something else like s['shares'] = 75\n",
        "#you can check if something is in the dictionary by using the in operator and use the get() method to make it more compact\n",
        "#use del to remove an element of a dictionary\n",
        "#The key can be many python objects including numbers, and any kind of object can be placed into a dictionary\n",
        "#but lists, sets, and dictionaries cannot be used as keys\n",
        "#then shows a dictionary example that includes a dictionary: { s[0]: 0 for s in portfolio }\n",
        "#you can create empty dictionaries two ways: using {} or dict()\n",
        "#you can concert a dictionary to a list by using list(example)\n",
        "#you can use dict.keys() to obtain the dictionary keys\n",
        "#keys are always in the same order as the items were initially inserted into the dictionary\n",
        "#use dict.items() for key-value paires and dict.values() to obtain values in the dictionary"
      ],
      "metadata": {
        "id": "7tPxV5E01YH5"
      },
      "execution_count": null,
      "outputs": []
    },
    {
      "cell_type": "code",
      "source": [
        "#1.12\n",
        "#discusses iteration and looping\n",
        "#the for statement is the most widely used looping construct\n",
        "#example using a for loop:\n",
        "for n in [1, 2, 3, 4, 5, 6, 7, 8, 9]:\n",
        "  print(f'2 to the {n} power is {2**n}')\n",
        "#you can also change it to be a range (1,10) so that its more concise\n",
        "#the range(i, j [,step]) function was new to me, it represents a range of integers with values from i to j not including j\n",
        "#if theres no starting value its assumed to be zero ex. range(4) is 0, 1, 2, 3, 4\n",
        "#the for loop can iterate over many kinds of objects shown by examples from this section:\n",
        "\n",
        "message = 'Hello World'\n",
        "# Print out the individual characters in message\n",
        "for c in message:\n",
        "  print(c)\n",
        "\n",
        "names = ['Dave', 'Mark', 'Ann', 'Phil']\n",
        "# Print out the members of a list\n",
        "for name in names:\n",
        "  print(name)\n",
        "\n",
        "prices = { 'GOOG' : 490.10, 'IBM' : 91.50, 'AAPL' : 123.15 }\n",
        "# Print out all of the members of a dictionary\n",
        "for key in prices:\n",
        "  print(key, '=', prices[key])\n",
        "\n",
        "# Print all of the lines in a file\n",
        "with open('foo.txt') as file:\n",
        "  for line in file:\n",
        "    print(line, end='')\n"
      ],
      "metadata": {
        "id": "tjOdftMw1YKb"
      },
      "execution_count": null,
      "outputs": []
    },
    {
      "cell_type": "code",
      "source": [
        "#1.13\n",
        "#to define a function you use the def statement, example:\n",
        "\n",
        "def remainder(a, b):\n",
        "  q = a // b # // is truncating division.\n",
        "  r = a - q * b\n",
        "  return r\n",
        "\n",
        "#in order to call a function you have to use its name and follow it with (arguments)\n",
        "#the help() command is useful for programmers when using doctrings \"\"\"docstring\"\"\"\n",
        "#if the inputs and outputs of the function aren't clear, they can be annotated with their types which would only be informational\n",
        "#a tuple can be used to return multiple values from a function and the values can be unpacked into separate variables\n",
        "#variables being created or assigned inside a function, their scope is local\n",
        "#fucntions are incredibly useful"
      ],
      "metadata": {
        "id": "k1yx0EzY1YNR"
      },
      "execution_count": null,
      "outputs": []
    },
    {
      "cell_type": "code",
      "source": [
        "#1.14\n",
        "#exceptions are raised when an error occurs in your program and a traceback message will appear as shown by this example:\n",
        "Traceback (most recent call last):\n",
        "  File \"readport.py\", line 9, in <module>\n",
        "    shares = int(row[1])\n",
        "ValueError: invalid literal for int() with base 10: 'N/A'\n",
        "#This shows what error occured and tells you where the error happened\n",
        "#using try and except can help with exception handling\n",
        "#here's the books example of this try and except:\n",
        "portfolio = []\n",
        "with open('portfolio.csv') as file:\n",
        "  for line in file:\n",
        "    row = line.split(',')\n",
        "    try:\n",
        "      name = row[0]\n",
        "      shares = int(row[1])\n",
        "      price = float(row[2])\n",
        "      holding = (name, shares, price)\n",
        "      portfolio.append(holding)\n",
        "      except ValueError as err:\n",
        "        print('Bad row:', row)\n",
        "        print('Reason:', err)\n",
        "# with this code if a ValueError occurs it will be sent to the except block of code, but if the error is another kind of exception the program will crash\n",
        "#if there is no error the except block will be ignored\n",
        "#the raise statement is used to signal an exception, it is used like this:\n",
        "raise RuntimeError('Computer says no')\n",
        "#try-finally is something new for me that is used when there are actions that must be performed no matter what\n",
        "#they then give an example using try-finally tha tinvolves a lock that must be released otherwise it will cause deadlock\n",
        "#they use .acquire() and .release() for the example\n"
      ],
      "metadata": {
        "id": "-Elri9qB1YPs"
      },
      "execution_count": null,
      "outputs": []
    },
    {
      "cell_type": "code",
      "source": [
        "#1.15\n",
        "#Program termination will occur when there aren't anymore statements to execute or a SystemExit exception is raised\n",
        "#programs can also be forced to quit and this is how to do it:\n",
        "raise SystemExit() #no error message\n",
        "raise SystemExit(\"Something is wrong\") #with an error message\n",
        "#atexit module is new to me and is used to perform a specific cleanut action such as removing files\n",
        "#this is the example from book for atexit\n",
        "import atexit\n",
        "\n",
        "connection = open_connection(\"deaddot.com\")\n",
        "def cleanup():\n",
        "  print \"Going away...\"\n",
        "  close_connection(connection)\n",
        "\n",
        "atexit.register(cleanup)"
      ],
      "metadata": {
        "id": "vDAlolbR1YSU"
      },
      "execution_count": null,
      "outputs": []
    },
    {
      "cell_type": "code",
      "source": [
        "#1.16\n",
        "#every value that is used in a program is an object fro example:\n",
        "items = [37, 42] #is a list of objects\n",
        "#the dir() function lists what methods are avaible to be used on an object\n",
        "#here is the example from the book:\n",
        " dir(items)\n",
        "['__add__', '__class__', '__contains__', '__delattr__', '__delitem__',\n",
        "...\n",
        "'append', 'count', 'extend', 'index', 'insert', 'pop',\n",
        "'remove', 'reverse', 'sort']\n",
        "#the class statement is used to define new types of objects and is useful for object-oriented programming which we have done in lab\n",
        "class Hangman:\n",
        "  def __init__(self):\n",
        "        \"\"\"Set up the hangman game by getting the word to guess and initializing the game's state\"\"\"\n",
        "        self.setWord(self.getWord())\n",
        "        self.gameWon = False\n",
        "        self.gameLost = False\n",
        "        self.errorCount = 0\n",
        "        self.GUESS_LIMIT = 6\n",
        "\n",
        "    def setWord(self, word):\n",
        "        \"\"\"Sets the given word as the word to guess, updating the working word and the list of already guessed letters as well.\"\"\"\n",
        "        self.wordToGuess = word.lower()\n",
        "        self.workingWord = [\"-\"]*len(self.wordToGuess)\n",
        "        self.guessedAlready = []\n",
        "#this is the beginning of our hangman lab that has the initializer section and the setWord method\n",
        "# .push() is used to push things into the end of a list or an array and .pop() removes and returns things from the end of an array\n",
        "#names preceded by a single underscore like __items are considered \"private\" and not to be used outside whatever class it is in\n",
        "#__repr__() when defined can simplify debugging and is used to define a string representation of an object and __len__() is used to define the behavior of the len() function\n",
        "#using inheritance to add to or redefine capabilities of existing classes\n",
        "#example:\n",
        "class MyStack(Stack):\n",
        "  def swap(self):\n",
        "    a = self.pop()\n",
        "    b = self.pop()\n",
        "    self.push(a)\n",
        "    self.push(b)\n",
        "#this is using a previous example class Stack and using it to show inheritance in the MyStack class\n",
        "#inheritance is also used to change the behavior of an existing method\n",
        "#the super() operation is used to call a method from the parent(super) class\n",
        "#sometimes inheritance is not the best idea and it may be better to just define what you are working with as a completely separate class\n",
        "#the term composition in python was new to me and was defined in the context of a Calculator class containing a Stack as an internal implementation detail"
      ],
      "metadata": {
        "id": "wuoAosZF1YVL"
      },
      "execution_count": null,
      "outputs": []
    },
    {
      "cell_type": "code",
      "source": [
        "#1.17\n",
        "#the import statement is useful to break up large program files for easier maintenance\n",
        "#You create a module by putting statements and definitions into a .py file and naming it properly\n",
        "#ex. *.py file created named readport* *pcost file created and it imports readport*\n",
        "#when accessing the file after importing it use the name of the module file as a prefix\n",
        "#use the from statement when importing specific definitions such as from cityfunctions import functions\n",
        "#the csv module is a standard library for dealing with files of comma-separated values"
      ],
      "metadata": {
        "id": "HeRfZiKl1YXb"
      },
      "execution_count": null,
      "outputs": []
    },
    {
      "cell_type": "code",
      "source": [
        "#1.18\n",
        "#files can either execute as a script or as a library imported with import\n",
        "#script code can help support imports\n",
        "#__name__ always contains the name of the enclosing module, this is a built-in variable\n",
        "#__name__ will be == '__main__' if the program is run as the main script with a command\n",
        "def main(argv):\n",
        "  if len(argv) == 1:\n",
        "    filename = input('Enter filename: ')\n",
        "  elif len(argv) == 2:\n",
        "    filename = argv[1]\n",
        "  else:\n",
        "    raise SystemExit(f'Usage: {argv[0]} [ filename ]')\n",
        "  portfolio = read_portfolio(filename)\n",
        "  for name, shares, price in portfolio:\n",
        "    print(f'{name:>10s} {shares:10d} {price:10.2f}')\n",
        "\n",
        "if __name__ == '__main__':\n",
        "import sys\n",
        "main(sys.argv)\n",
        "#this code shows a modified version of the main() function earlier in this section that uses the input() function\n",
        "#This code is used to prompt the user for a filename or to accept the filename as a commmand-line argument, instead of being hardcoded to use one filename\n"
      ],
      "metadata": {
        "id": "S_nxls3f1YaY"
      },
      "execution_count": null,
      "outputs": []
    },
    {
      "cell_type": "code",
      "source": [
        "#1.19\n",
        "#code is commonly organized into packages in large programs\n",
        "#a program is defined as a hierarchical collection of modules\n",
        "#in order to make a package you should have an __init__.py file and have some more .py files\n",
        "#to fix an import statement that breaks you must use a fully qualified module import"
      ],
      "metadata": {
        "id": "0VLcdcM11YfF"
      },
      "execution_count": null,
      "outputs": []
    },
    {
      "cell_type": "code",
      "source": [
        "#1.20\n",
        "#working on larger applications and writing more python code you may run into a mix of your own code and third-party dependencies\n",
        "#it is standard practice to organize large code bases into packages\n",
        "#managing import statements and the namespaces of modules is the primary purpose of the package directory\n",
        "#your code should be isolated from everyone else's code\n",
        "#you should also have tests, examples, scripts and documentation in your main project source code\n",
        "# example of a project organization:\n",
        "#tutorial-project/\n",
        "  #tutorial/\n",
        "    #__init__.py\n",
        "    #readport.py\n",
        "    #pcost.py\n",
        "    #tack.py\n",
        "    #...\n",
        "  #tests/\n",
        "    #test_stack.py\n",
        "    #test_pcost.py\n",
        "    #...\n",
        "  #examples/\n",
        "    #sample.py\n",
        "    #...\n",
        "  #doc/\n",
        "    #tutorial.txt\n",
        "    #...\n"
      ],
      "metadata": {
        "id": "AbwDNzKg1wmU"
      },
      "execution_count": null,
      "outputs": []
    },
    {
      "cell_type": "code",
      "source": [
        "#1.21\n",
        "#there's a large library of contributed packages found at the python package index\n",
        "#you can use a command such as pip to install a third-party package\n",
        "#example:\n",
        "#bash % python3 -m pip install somepackage\n",
        "#once a package has been installed they are placed into a special site-packages directory\n",
        "#inspecting the __file__ attribute of a package can help you figure out where a package is coming from\n",
        "#bash % python3 -m venv myproject this is a command that creates a virtual environment so you don't have to worry about breaking anything when installing packages and working\n",
        "#this code sets up a dedicated python installation\n",
        "#bash % ./myproject/bin/python3 -m pip install somepackage this installs a package using pip but specifies the correct interpreter\n",
        "#automagically is a new word for me"
      ],
      "metadata": {
        "id": "GgpcGpSf1wvi"
      },
      "execution_count": null,
      "outputs": []
    }
  ]
}