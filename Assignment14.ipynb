{
  "nbformat": 4,
  "nbformat_minor": 0,
  "metadata": {
    "colab": {
      "provenance": [],
      "authorship_tag": "ABX9TyP2EJkSesfyAIIygxHSmpIF",
      "include_colab_link": true
    },
    "kernelspec": {
      "name": "python3",
      "display_name": "Python 3"
    },
    "language_info": {
      "name": "python"
    }
  },
  "cells": [
    {
      "cell_type": "markdown",
      "metadata": {
        "id": "view-in-github",
        "colab_type": "text"
      },
      "source": [
        "<a href=\"https://colab.research.google.com/github/liligunderson/CSC221_lgund001/blob/main/Assignment14.ipynb\" target=\"_parent\"><img src=\"https://colab.research.google.com/assets/colab-badge.svg\" alt=\"Open In Colab\"/></a>"
      ]
    },
    {
      "cell_type": "markdown",
      "source": [
        "Assignment 14, exceptions, Improving our calculator code and modifying our file handling code (which I will do the file handling code in VS code)"
      ],
      "metadata": {
        "id": "1odpCk74An6B"
      }
    },
    {
      "cell_type": "code",
      "source": [
        "#Calculator code\n",
        "\n",
        "total = 0\n",
        "\n",
        "while True:\n",
        "  user_num = input(\"Give me a calculation [to exit enter 'quit']: \")\n",
        "\n",
        "  if user_num == 'quit':\n",
        "    print(\"Thank you for using this calculator, goodbye :)\")\n",
        "    break\n",
        "\n",
        "  try:\n",
        "    arg = user_num.split(' ')\n",
        "    if len(arg) != 3:\n",
        "      print(\"That is not the correct format for this calculator, please enter a calculation\")\n",
        "      continue\n",
        "\n",
        "    num1 = float(arg[0])\n",
        "    operator = arg[1]\n",
        "    num2 = float(arg[2])\n",
        "\n",
        "    if operator not in ['+', '-', '*', '/']:\n",
        "      print(\"Invalid operator.\")\n",
        "      continue\n",
        "    try:\n",
        "      if operator == '+':\n",
        "        total = num1 + num2\n",
        "      elif operator == '-':\n",
        "        total = num1 - num2\n",
        "      elif operator == '*':\n",
        "        total = num1 * num2\n",
        "      elif operator == '/':\n",
        "        if num2 == 0:\n",
        "          print(\"invalid division, cannot divide by zero.\")\n",
        "          continue\n",
        "        total = num1 / num2\n",
        "\n",
        "      print(f\"The current total is: {num1} {operator} {num2} = {total}\")\n",
        "\n",
        "    except:\n",
        "      print(\"An error occurred.\")\n",
        "\n",
        "\n",
        "  except:\n",
        "        print(\"Invalid input. Please enter a valid calculation.\")\n"
      ],
      "metadata": {
        "colab": {
          "base_uri": "https://localhost:8080/"
        },
        "id": "d8bLtQG1eJ51",
        "outputId": "70620b8d-b814-485d-a6d7-e0ee4c84fa6d"
      },
      "execution_count": 1,
      "outputs": [
        {
          "output_type": "stream",
          "name": "stdout",
          "text": [
            "Give me a calculation [to exit enter 'quit']: 12 / 24\n",
            "The current total is: 12.0 / 24.0 = 0.5\n",
            "Give me a calculation [to exit enter 'quit']: 10 / 2\n",
            "The current total is: 10.0 / 2.0 = 5.0\n",
            "Give me a calculation [to exit enter 'quit']: 13 / 5\n",
            "The current total is: 13.0 / 5.0 = 2.6\n",
            "Give me a calculation [to exit enter 'quit']: quit\n",
            "Thank you for using this calculator, goodbye :)\n"
          ]
        }
      ]
    },
    {
      "cell_type": "code",
      "source": [],
      "metadata": {
        "id": "SXOxmXtJ6PwB"
      },
      "execution_count": null,
      "outputs": []
    }
  ]
}