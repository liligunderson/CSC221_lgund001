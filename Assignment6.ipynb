{
  "nbformat": 4,
  "nbformat_minor": 0,
  "metadata": {
    "colab": {
      "provenance": [],
      "authorship_tag": "ABX9TyOdIEG9F+KwiAxVWeDb3w0j",
      "include_colab_link": true
    },
    "kernelspec": {
      "name": "python3",
      "display_name": "Python 3"
    },
    "language_info": {
      "name": "python"
    }
  },
  "cells": [
    {
      "cell_type": "markdown",
      "metadata": {
        "id": "view-in-github",
        "colab_type": "text"
      },
      "source": [
        "<a href=\"https://colab.research.google.com/github/liligunderson/CSC221_lgund001/blob/main/Assignment6.ipynb\" target=\"_parent\"><img src=\"https://colab.research.google.com/assets/colab-badge.svg\" alt=\"Open In Colab\"/></a>"
      ]
    },
    {
      "cell_type": "code",
      "execution_count": 1,
      "metadata": {
        "colab": {
          "base_uri": "https://localhost:8080/"
        },
        "id": "ImDnmKUij1gX",
        "outputId": "4dcfd27e-977b-45fb-e6e6-efa30fe8dcbc"
      },
      "outputs": [
        {
          "output_type": "stream",
          "name": "stdout",
          "text": [
            "Audi\n",
            "BMW\n",
            "Subaru\n",
            "Toyota\n"
          ]
        }
      ],
      "source": [
        "cars = ['audi', 'bmw', 'subaru', 'toyota']\n",
        "\n",
        "for car in cars:\n",
        "  if car == 'bmw':\n",
        "    print(car.upper())\n",
        "  else:\n",
        "    print(car.title())"
      ]
    },
    {
      "cell_type": "code",
      "source": [
        "requested_topping = 'mushroom'\n",
        "\n",
        "if requested_topping != 'anchovies':\n",
        "  print(\"Hold the anchovies!\")"
      ],
      "metadata": {
        "colab": {
          "base_uri": "https://localhost:8080/"
        },
        "id": "4okQgtW_nJvh",
        "outputId": "e6c94e91-e840-4d97-a6df-acf8fcfbf105"
      },
      "execution_count": 2,
      "outputs": [
        {
          "output_type": "stream",
          "name": "stdout",
          "text": [
            "Hold the anchovies!\n"
          ]
        }
      ]
    },
    {
      "cell_type": "code",
      "source": [
        "answer = 17\n",
        "if answer != 42:\n",
        "  print(\"That is not the correct answer. Please try again!\")"
      ],
      "metadata": {
        "colab": {
          "base_uri": "https://localhost:8080/"
        },
        "id": "v7CAWErBnkxV",
        "outputId": "572eafc5-ae6a-4bcf-a7b7-48c2bbfc51ae"
      },
      "execution_count": 3,
      "outputs": [
        {
          "output_type": "stream",
          "name": "stdout",
          "text": [
            "That is not the correct answer. Please try again!\n"
          ]
        }
      ]
    },
    {
      "cell_type": "code",
      "source": [
        "banned_users = ['andrew', 'carolina', 'david']\n",
        "user = 'marie'\n",
        "if user not in banned_users:\n",
        "  print(f\"{user.title()}, you can post a response if you wish.\")"
      ],
      "metadata": {
        "colab": {
          "base_uri": "https://localhost:8080/"
        },
        "id": "S46wUYdMp7Ns",
        "outputId": "8946884b-8d78-49e7-c4bc-46b0495bef62"
      },
      "execution_count": 4,
      "outputs": [
        {
          "output_type": "stream",
          "name": "stdout",
          "text": [
            "Marie, you can post a response if you wish.\n"
          ]
        }
      ]
    },
    {
      "cell_type": "code",
      "source": [
        "plant = 'chamomile'\n",
        "print(\"Is plant == 'chamomile'? I believe it to be True.\")\n",
        "print(plant == 'chamomile')\n",
        "\n",
        "fruit = 'orange'\n",
        "print(\"Is lettuce a fruit? I believe it to be False.\")\n",
        "print(fruit == 'lettuce')\n",
        "food = 'pizza'\n",
        "print(\"Did I want pizza? I beleive it to be True.\")\n",
        "print(food == 'pizza')\n",
        "bracelet_color = 'white'\n",
        "print(\"Is my bracelet white? I predict True.\")\n",
        "print(bracelet_color == 'white')\n",
        "blanket = 'fuzzy'\n",
        "print(\"is blanket == 'fuzzy'? I bet it is True.\")\n",
        "print(blanket == 'fuzzy')\n",
        "blanket = 'fuzzy'\n",
        "print(\"is blanket == 'scratchy'? I bet it is False.\")\n",
        "print(blanket == 'scratchy')\n",
        "tea = 'lavender'\n",
        "print(\"is this tea == 'lavender'? I bet it is True.\")\n",
        "print(tea == 'lavender')\n",
        "tea = 'lavender'\n",
        "print(\"is this tea == 'peppermint'? I bet it is False.\")\n",
        "print(tea == 'peppermint')\n",
        "dessert = 'chocolate'\n",
        "print(\"is my dessert == 'ice cream'? I predict False.\")\n",
        "print(dessert == 'ice cream')\n",
        "candy = 'gummies'\n",
        "print(\"is candy == 'smarties'? I predict False.\")\n",
        "print(candy == 'smarties')"
      ],
      "metadata": {
        "colab": {
          "base_uri": "https://localhost:8080/"
        },
        "id": "gua6PcZGqnC8",
        "outputId": "25b8bbbe-cae3-406c-9869-8d90489bb0e0"
      },
      "execution_count": 19,
      "outputs": [
        {
          "output_type": "stream",
          "name": "stdout",
          "text": [
            "Is plant == 'chamomile'? I believe it to be True.\n",
            "True\n",
            "Is lettuce a fruit? I believe it to be False.\n",
            "False\n",
            "Did I want pizza? I beleive it to be True.\n",
            "True\n",
            "Is my bracelet white? I predict True.\n",
            "True\n",
            "is blanket == fuzzy? I bet it is True.\n",
            "True\n",
            "is blanket == scratchy? I bet it is False.\n",
            "False\n",
            "is this tea == lavender? I bet it is True.\n",
            "True\n",
            "is this tea == peppermint? I bet it is False.\n",
            "False\n",
            "is my dessert == 'ice cream'? I predict False.\n",
            "False\n",
            "is candy == 'smarties'? I predict False.\n",
            "False\n"
          ]
        }
      ]
    },
    {
      "cell_type": "code",
      "source": [
        "fragrance = 'vanilla'\n",
        "if fragrance == 'vanilla':\n",
        "  print('That is my favorite fragrance')\n",
        "tea = 'peppermint'\n",
        "if tea != 'wintergreen':\n",
        "  print('I did not order that flavor')\n",
        "tea = 'Peppermint'\n",
        "tea == 'Peppermint' #True\n",
        "tea == 'peppermint' #False\n",
        "tea.lower() == 'peppermint' #True\n",
        "number = 21\n",
        "number >= 20 #True\n",
        "number < 20 #False\n",
        "number > 20 and number < 24 #True\n",
        "number >= 19 or number < 20 #True\n",
        "number < 20 and number > 19 #False\n",
        "list = ['apples', 'oranges', 'bananas']\n",
        "'apples' in list #True\n",
        "'pineapple' in list #False\n",
        "'rasberry' not in list #True\n",
        "'oranges' not in list #False"
      ],
      "metadata": {
        "colab": {
          "base_uri": "https://localhost:8080/"
        },
        "id": "5xWHfFnGuiXp",
        "outputId": "d7b0842b-5fab-4cfa-eb22-c380d6456037"
      },
      "execution_count": 12,
      "outputs": [
        {
          "output_type": "stream",
          "name": "stdout",
          "text": [
            "That is my favorite fragrance\n",
            "I did not order that flavor\n"
          ]
        },
        {
          "output_type": "execute_result",
          "data": {
            "text/plain": [
              "False"
            ]
          },
          "metadata": {},
          "execution_count": 12
        }
      ]
    },
    {
      "cell_type": "code",
      "source": [
        "age = 19\n",
        "if age >= 18:\n",
        "  print(\"You are old enough to vote!\")\n",
        "  print(\"Have you registered to vote yet?\")"
      ],
      "metadata": {
        "colab": {
          "base_uri": "https://localhost:8080/"
        },
        "id": "pCgCaSvsaBjy",
        "outputId": "1e391197-557c-48cf-d597-50e5523afefd"
      },
      "execution_count": 14,
      "outputs": [
        {
          "output_type": "stream",
          "name": "stdout",
          "text": [
            "You are old enough to vote!\n",
            "Have you registered to vote yet?\n"
          ]
        }
      ]
    },
    {
      "cell_type": "code",
      "source": [
        "age = 12\n",
        "if age < 4:\n",
        "  print(\"Your admission cost is $0.\")\n",
        "elif age < 18:\n",
        "  print(\"Your admission cost is $25.\")\n",
        "else:\n",
        "  print(\"Your admission cost is $40.\")"
      ],
      "metadata": {
        "colab": {
          "base_uri": "https://localhost:8080/"
        },
        "id": "sTmbbBasbJom",
        "outputId": "fad21342-534e-419d-e11b-4ee7b51be8ac"
      },
      "execution_count": 15,
      "outputs": [
        {
          "output_type": "stream",
          "name": "stdout",
          "text": [
            "Your admission cost is $25.\n"
          ]
        }
      ]
    },
    {
      "cell_type": "code",
      "source": [
        "age = 12\n",
        "if age < 4:\n",
        "  price = 0\n",
        "elif age < 18:\n",
        "  price = 25\n",
        "elif age < 65:\n",
        "  price = 40\n",
        "else:\n",
        "  price = 20\n",
        "\n",
        "print(f\"Your admission cost is ${price}.\")"
      ],
      "metadata": {
        "colab": {
          "base_uri": "https://localhost:8080/"
        },
        "id": "oa_14g4_cdtC",
        "outputId": "38d6f12e-0f47-4e73-fdaa-c041af07a7af"
      },
      "execution_count": 16,
      "outputs": [
        {
          "output_type": "stream",
          "name": "stdout",
          "text": [
            "Your admission cost is $25.\n"
          ]
        }
      ]
    },
    {
      "cell_type": "code",
      "source": [
        "age = 12\n",
        "if age < 4:\n",
        "  price = 0\n",
        "elif age < 18:\n",
        "  price = 25\n",
        "elif age < 65:\n",
        "  price = 40\n",
        "elif age >= 65:\n",
        "  price = 20\n",
        "\n",
        "print(f\"Your admission cost is ${price}.\")"
      ],
      "metadata": {
        "colab": {
          "base_uri": "https://localhost:8080/"
        },
        "id": "H_ykLkrPeKQD",
        "outputId": "7a8df78c-d5c3-4931-c362-4777d938c368"
      },
      "execution_count": 17,
      "outputs": [
        {
          "output_type": "stream",
          "name": "stdout",
          "text": [
            "Your admission cost is $25.\n"
          ]
        }
      ]
    },
    {
      "cell_type": "code",
      "source": [
        "requested_toppings = ['mushrooms', 'extra cheese']\n",
        "if 'mushrooms' in requested_toppings:\n",
        "  print(\"Adding mushrooms.\")\n",
        "if 'pepperoni' in requested_toppings:\n",
        "  print(\"Adding pepperoni.\")\n",
        "if 'extra cheese' in requested_toppings:\n",
        "  print(\"Adding extra cheese.\")\n",
        "print(\"\\nFinished making your pizza!\")"
      ],
      "metadata": {
        "colab": {
          "base_uri": "https://localhost:8080/"
        },
        "id": "8kjibnOzfuCm",
        "outputId": "4156e51a-9e8f-4d40-ff08-5f4ca16b12a7"
      },
      "execution_count": 18,
      "outputs": [
        {
          "output_type": "stream",
          "name": "stdout",
          "text": [
            "Adding mushrooms.\n",
            "Adding extra cheese.\n",
            "\n",
            "Finished making your pizza!\n"
          ]
        }
      ]
    },
    {
      "cell_type": "code",
      "source": [
        "alien_color = 'green'\n",
        "if alien_color == 'green':\n",
        "  print('You just earned 5 points!')\n",
        "alien_color = 'green'\n",
        "if alien_color == 'yellow':\n",
        "  print('You earned 3 points!')"
      ],
      "metadata": {
        "colab": {
          "base_uri": "https://localhost:8080/"
        },
        "id": "ElRxZdabiLpD",
        "outputId": "cc65c50c-025d-4f08-c551-a59f77829bc7"
      },
      "execution_count": 20,
      "outputs": [
        {
          "output_type": "stream",
          "name": "stdout",
          "text": [
            "You just earned 5 points!\n"
          ]
        }
      ]
    },
    {
      "cell_type": "code",
      "source": [
        "age = 25\n",
        "if age < 2:\n",
        "  print('this individual is a baby')\n",
        "elif age >= 2 and age < 4:\n",
        "  print('this individual is a toddler')\n",
        "elif age >= 4 and age < 13:\n",
        "  print('this individual is a kid')\n",
        "elif age >= 13 and age < 20:\n",
        "  print('this individual is a teenager')\n",
        "elif age >= 20 and age < 65:\n",
        "  print('this individual is an adult')\n",
        "else:\n",
        "  print('this individual is an elder')\n"
      ],
      "metadata": {
        "colab": {
          "base_uri": "https://localhost:8080/"
        },
        "id": "S7zXlL4rl9rn",
        "outputId": "df11a2dc-4791-4bf7-81a8-56655bdeb96a"
      },
      "execution_count": 21,
      "outputs": [
        {
          "output_type": "stream",
          "name": "stdout",
          "text": [
            "this individual is an adult\n"
          ]
        }
      ]
    },
    {
      "cell_type": "code",
      "source": [
        "requested_toppings = ['mushrooms', 'green peppers', 'extra cheese']\n",
        "for requested_topping in requested_toppings:\n",
        "  print(f\"Adding {requested_toppings}.\")\n",
        "print(\"\\nFinished making your pizza!\")"
      ],
      "metadata": {
        "colab": {
          "base_uri": "https://localhost:8080/"
        },
        "id": "oaQDHEYvpn_6",
        "outputId": "fb6d8362-928f-450a-a165-8039567af7f9"
      },
      "execution_count": 25,
      "outputs": [
        {
          "output_type": "stream",
          "name": "stdout",
          "text": [
            "Adding mushrooms.\n",
            "Adding green peppers.\n",
            "Adding extra cheese.\n",
            "\n",
            "Finished making your pizza!\n"
          ]
        }
      ]
    },
    {
      "cell_type": "code",
      "source": [
        "requested_toppings = ['mushrooms', 'green peppers', 'extra cheese']\n",
        "for requested_topping in requested_toppings:\n",
        " if requested_topping == 'green peppers':\n",
        "  print(\"Sorry, we are out of green peppers right now.\")\n",
        " else:\n",
        "  print(f\"Adding {requested_topping}.\")\n",
        "print(\"\\nFinished making your pizza!\")"
      ],
      "metadata": {
        "colab": {
          "base_uri": "https://localhost:8080/"
        },
        "id": "gf1NGCONqakv",
        "outputId": "99a3a56c-4364-49c8-ea3d-d607144f097f"
      },
      "execution_count": 30,
      "outputs": [
        {
          "output_type": "stream",
          "name": "stdout",
          "text": [
            "Adding mushrooms.\n",
            "Sorry, we are out of green peppers right now.\n",
            "Adding extra cheese.\n",
            "\n",
            "Finished making your pizza!\n"
          ]
        }
      ]
    },
    {
      "cell_type": "code",
      "source": [
        "some_yummy_mushrooms = ['Chicken of the woods', 'Hen of the woods', 'Giant puffball', \"Bear's-head tooth\"]\n",
        "for mushrooms in some_yummy_mushrooms:\n",
        "  if mushrooms == 'Giant puffball':\n",
        "    print(\"\\nGiant Puffballs are commonly found in meadows.\")\n",
        "  elif mushrooms == 'Chicken of the woods':\n",
        "    print(\"\\nChicken of the woods can be found growing on or at the base of dead or dying hardwood trees.\")\n",
        "  elif mushrooms == 'Hen of the woods':\n",
        "    print(\"\\nHen of the woods can be found at the bases of deciduous trees, living or dead.\")\n",
        "  else:\n",
        "    print(\"\\nBear's-head tooth grow on both living and dead deciduous hardwood trees such as birch and oak.\")\n",
        "print(\"\\nHappy hunting :)!\")"
      ],
      "metadata": {
        "colab": {
          "base_uri": "https://localhost:8080/"
        },
        "id": "Akgpi5UHp3cX",
        "outputId": "1f7fbd2b-608c-4b55-bef6-2b443ef0d967"
      },
      "execution_count": 36,
      "outputs": [
        {
          "output_type": "stream",
          "name": "stdout",
          "text": [
            "\n",
            "Chicken of the woods can be found growing on or at the base of dead or dying hardwood trees.\n",
            "\n",
            "Hen of the woods can be found at the bases of deciduous trees, living or dead.\n",
            "\n",
            "Giant Puffballs are commonly found in meadows.\n",
            "\n",
            "Bear's-head tooth grow on both living and dead deciduous hardwood trees such as birch and oak.\n",
            "\n",
            "Happy hunting :)!\n"
          ]
        }
      ]
    }
  ]
}