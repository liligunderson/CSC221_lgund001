{
  "nbformat": 4,
  "nbformat_minor": 0,
  "metadata": {
    "colab": {
      "provenance": [],
      "authorship_tag": "ABX9TyPORaXefGvgZmqgspYmPS4u",
      "include_colab_link": true
    },
    "kernelspec": {
      "name": "python3",
      "display_name": "Python 3"
    },
    "language_info": {
      "name": "python"
    }
  },
  "cells": [
    {
      "cell_type": "markdown",
      "metadata": {
        "id": "view-in-github",
        "colab_type": "text"
      },
      "source": [
        "<a href=\"https://colab.research.google.com/github/liligunderson/CSC221_lgund001/blob/main/assignment2.ipynb\" target=\"_parent\"><img src=\"https://colab.research.google.com/assets/colab-badge.svg\" alt=\"Open In Colab\"/></a>"
      ]
    },
    {
      "cell_type": "code",
      "execution_count": 2,
      "metadata": {
        "colab": {
          "base_uri": "https://localhost:8080/"
        },
        "id": "nwBGjfzP-9Tf",
        "outputId": "544457b5-7f88-463d-8ec4-aa29f87b1b3c"
      },
      "outputs": [
        {
          "output_type": "stream",
          "name": "stdout",
          "text": [
            "test_1=37\n",
            "test_2 is [12, 14, 99]\n"
          ]
        }
      ],
      "source": [
        "test_1 = 37\n",
        "test_2 = [12, 14, 99]\n",
        "print(f'{test_1=}')\n",
        "print('test_2 is', test_2)\n",
        "\n"
      ]
    },
    {
      "cell_type": "code",
      "source": [
        "def doubler(x):\n",
        "  y = x * 2\n",
        "  return y\n",
        "print(doubler(test_1))\n",
        "print(doubler(test_2))\n"
      ],
      "metadata": {
        "colab": {
          "base_uri": "https://localhost:8080/"
        },
        "id": "KxA_eymD_YNL",
        "outputId": "923b3003-fd54-47bf-cc0b-dd615ae7efc8"
      },
      "execution_count": 3,
      "outputs": [
        {
          "output_type": "stream",
          "name": "stdout",
          "text": [
            "74\n",
            "[12, 14, 99, 12, 14, 99]\n"
          ]
        }
      ]
    },
    {
      "cell_type": "code",
      "source": [
        "class Wrapper:\n",
        "  def __init__(self, x):\n",
        "    self.x = x\n",
        "  def tripler(self):\n",
        "    y = self.x * 3\n",
        "    return y\n",
        "  w1 = Wrapper(test_1)\n",
        "  w2 = Wrapper(test_2)\n",
        "  print(w1.tripler())\n",
        "  print(w2.tripler())"
      ],
      "metadata": {
        "colab": {
          "base_uri": "https://localhost:8080/"
        },
        "id": "tl7FwYGx_xbe",
        "outputId": "f09a6347-fbc5-46fe-9528-104558fcf5ba"
      },
      "execution_count": 5,
      "outputs": [
        {
          "output_type": "stream",
          "name": "stdout",
          "text": [
            "111\n",
            "[12, 14, 99, 12, 14, 99, 12, 14, 99]\n"
          ]
        }
      ]
    }
  ]
}